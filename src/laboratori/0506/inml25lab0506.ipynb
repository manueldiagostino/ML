{
 "cells": [
  {
   "cell_type": "code",
   "execution_count": 346,
   "id": "3f44765d",
   "metadata": {},
   "outputs": [
    {
     "name": "stdout",
     "output_type": "stream",
     "text": [
      "/home/jovyan/src/laboratori/0506\n"
     ]
    }
   ],
   "source": [
    "%cd ~/src/laboratori/0506"
   ]
  },
  {
   "cell_type": "markdown",
   "id": "f627a566",
   "metadata": {},
   "source": [
    "# **Introduzione al Machine Learning -- laboratorio 5 e 6**"
   ]
  },
  {
   "cell_type": "markdown",
   "id": "a268771b",
   "metadata": {},
   "source": [
    "## Simulazione Monte Carlo\n",
    "\n",
    "Problema 1: successione di uniformi [0,1] i.i.d. $U_i$\n",
    "\n",
    "Facciamo le cumulate $S_i$. Data una soglia $a > 0$, sia $T$ il primo indice $i$ per cui $S_i$ supera $a$. Cerchiamo di stimare la media di $T$ e di studiare la sua distribuzione."
   ]
  },
  {
   "cell_type": "markdown",
   "id": "8fe8da25",
   "metadata": {},
   "source": [
    "Imposta i parametri per una singola esecuzione della simulazione. Definisce la soglia `a`, calcola un orizzonte temporale `n` sufficientemente lungo, genera `n` numeri casuali uniformi `U` tra 0 e 1, e calcola la loro somma cumulativa `S`."
   ]
  },
  {
   "cell_type": "code",
   "execution_count": 347,
   "id": "74d7b4f3",
   "metadata": {},
   "outputs": [],
   "source": [
    "# Cominciamo con una simulazione sola\n",
    "\n",
    "import numpy as np\n",
    "\n",
    "a = 3.5\n",
    "n = int(20 * a) # orizzonte temporale sufficiente\n",
    "\n",
    "U = np.random.uniform(0, 1, n)\n",
    "S = np.cumsum(U)"
   ]
  },
  {
   "cell_type": "markdown",
   "id": "75779c95",
   "metadata": {},
   "source": [
    "Visualizza i numeri casuali uniformi `U` generati e la loro somma cumulativa `S` utilizzando un grafico."
   ]
  },
  {
   "cell_type": "code",
   "execution_count": 348,
   "id": "ff904b3b",
   "metadata": {},
   "outputs": [
    {
     "data": {
      "image/png": "[encoded data removed]",
      "text/plain": [
       "<Figure size 640x480 with 1 Axes>"
      ]
     },
     "metadata": {},
     "output_type": "display_data"
    }
   ],
   "source": [
    "import matplotlib.pyplot as plt\n",
    "\n",
    "plt.plot(U, '.', label='uniformi')\n",
    "plt.plot(S, label='cumulate')\n",
    "plt.legend()\n",
    "plt.show()"
   ]
  },
  {
   "cell_type": "markdown",
   "id": "daf20dbe",
   "metadata": {},
   "source": [
    "Calcola il tempo di attesa `T`, definito come il primo indice `i` per cui la somma cumulativa `S_i` supera la soglia `a`. Stampa il valore di `T` calcolato."
   ]
  },
  {
   "cell_type": "code",
   "execution_count": 349,
   "id": "2c2d165d",
   "metadata": {},
   "outputs": [
    {
     "name": "stdout",
     "output_type": "stream",
     "text": [
      "Tempo di attesa: 6\n"
     ]
    }
   ],
   "source": [
    "T = np.sum(S < a) + 1\n",
    "print(f'Tempo di attesa: {T}')"
   ]
  },
  {
   "cell_type": "markdown",
   "id": "019b55ed",
   "metadata": {},
   "source": [
    "Mostra i primi 10 valori della somma cumulativa `S`."
   ]
  },
  {
   "cell_type": "code",
   "execution_count": 350,
   "id": "53678d5e",
   "metadata": {},
   "outputs": [
    {
     "data": {
      "text/plain": [
       "array([0.8687658 , 1.80439266, 2.04131975, 2.80524789, 3.38099154,\n",
       "       3.60750541, 4.12411488, 4.86447502, 5.66026014, 5.75636248])"
      ]
     },
     "execution_count": 350,
     "metadata": {},
     "output_type": "execute_result"
    }
   ],
   "source": [
    "S[0:10]"
   ]
  },
  {
   "cell_type": "markdown",
   "id": "3c6f5af3",
   "metadata": {},
   "source": [
    "Esegue la simulazione Monte Carlo completa. Inizializza un array `T` per memorizzare i tempi di attesa di `N` simulazioni. Utilizza un approccio vettorizzato ottimizzato per generare `N` sequenze di numeri casuali uniformi, calcolare le loro somme cumulative e determinare il tempo di attesa `T` per ciascuna simulazione. Infine, verifica se qualche tempo di attesa ha superato l'orizzonte di simulazione `n`."
   ]
  },
  {
   "cell_type": "code",
   "execution_count": 351,
   "id": "7d3912d1",
   "metadata": {},
   "outputs": [
    {
     "name": "stdout",
     "output_type": "stream",
     "text": [
      "Massimo 16 minore si 70\n"
     ]
    }
   ],
   "source": [
    "# Passiamo alla simulazione Monte Carlo vera e propria\n",
    "N = 100000\n",
    "T = np.zeros(N, dtype=int)\n",
    "\n",
    "# for i in range(N):\n",
    "#     U = np.random.uniform(0, 1, n)\n",
    "#     S = np.cumsum(U)\n",
    "#     T[i] = np.sum(S < a) + 1\n",
    "\n",
    "# Versione ottimizzata senza loop\n",
    "U_matrix = np.random.uniform(0, 1, (N, n))\n",
    "S_matrix = np.cumsum(U_matrix, axis=1)\n",
    "T = np.sum(S_matrix < a, axis=1) + 1\n",
    "\n",
    "if T.max() > len(S):\n",
    "    print('Attenzione: tempo di attesa troppo lungo!')\n",
    "else:\n",
    "    print(f'Massimo {T.max()} minore si {len(S)}')"
   ]
  },
  {
   "cell_type": "markdown",
   "id": "3dba922c",
   "metadata": {},
   "source": [
    "Calcola e visualizza le statistiche descrittive di base (massimo, minimo, media e deviazione standard) dei tempi di attesa `T` ottenuti dalla simulazione Monte Carlo."
   ]
  },
  {
   "cell_type": "code",
   "execution_count": 352,
   "id": "5d0c9f8e",
   "metadata": {},
   "outputs": [
    {
     "data": {
      "text/plain": [
       "(np.int64(16),\n",
       " np.int64(4),\n",
       " np.float64(7.66569),\n",
       " np.float64(1.5901342156874685))"
      ]
     },
     "execution_count": 352,
     "metadata": {},
     "output_type": "execute_result"
    }
   ],
   "source": [
    "T.max(), T.min(), T.mean(), T.std()"
   ]
  },
  {
   "cell_type": "markdown",
   "id": "0a711603",
   "metadata": {},
   "source": [
    "Calcola e stampa l'intervallo di confidenza per la media dei tempi di attesa `T`, utilizzando l'approssimazione della distribuzione normale. Definisce il livello di confidenza, calcola il quantile corrispondente e determina i limiti dell'intervallo."
   ]
  },
  {
   "cell_type": "code",
   "execution_count": 353,
   "id": "b7aad511",
   "metadata": {},
   "outputs": [
    {
     "name": "stdout",
     "output_type": "stream",
     "text": [
      "Mean: 7.66569\n",
      "Quantile: 1.959963984540054\n",
      "Standard deviation: 1.5901342156874685\n",
      "Incertezza: 0.009855572875806032\n",
      "Intervallo di confidenza al 0.95: [7.655834427124193, 7.675545572875806]\n"
     ]
    }
   ],
   "source": [
    "# Vediamo la media, con una forbice di incertezza\n",
    "from scipy.stats import norm\n",
    "\n",
    "print(f'Mean: {T.mean()}')\n",
    "\n",
    "media = T.mean()\n",
    "conf = 0.95 # livello di confidenza\n",
    "alpha = 1 - conf\n",
    "\n",
    "q = norm.ppf((1 + conf) / 2) # uguale a (1 - alpha) / 2\n",
    "St = T.std()\n",
    "r = q * St / np.sqrt(N)\n",
    "\n",
    "print(f'Quantile: {q}')\n",
    "print(f'Standard deviation: {St}')\n",
    "print(f'Incertezza: {r}')\n",
    "\n",
    "print(f'Intervallo di confidenza al {conf}: [{media - r}, {media + r}]')"
   ]
  },
  {
   "cell_type": "markdown",
   "id": "0a9e1388",
   "metadata": {},
   "source": [
    "Visualizza la distribuzione dei tempi di attesa `T` simulati tramite un istogramma."
   ]
  },
  {
   "cell_type": "code",
   "execution_count": 354,
   "id": "eb166868",
   "metadata": {},
   "outputs": [
    {
     "data": {
      "image/png": "[encoded data removed]",
      "text/plain": [
       "<Figure size 640x480 with 1 Axes>"
      ]
     },
     "metadata": {},
     "output_type": "display_data"
    }
   ],
   "source": [
    "# Studiamo la distribuzione\n",
    "plt.hist(T, bins=range(int(a * 6)), width=0.9, density=True)\n",
    "plt.show()"
   ]
  },
  {
   "cell_type": "markdown",
   "id": "cb1982ba",
   "metadata": {},
   "source": [
    "Proviamo a fare un \"fit\" con una binomiale negativa. Ci sono vari metodi. Quello piu' elementare e' il metodo dei momenti."
   ]
  },
  {
   "cell_type": "markdown",
   "id": "8ed4e730",
   "metadata": {},
   "source": [
    "Calcola la media campionaria, la deviazione standard, la varianza e l'eccesso di varianza dei tempi di attesa `T`. Osserva che un fit diretto con una distribuzione binomiale negativa non è possibile perché l'eccesso di varianza è negativo."
   ]
  },
  {
   "cell_type": "code",
   "execution_count": 355,
   "id": "c66915f0",
   "metadata": {},
   "outputs": [
    {
     "name": "stdout",
     "output_type": "stream",
     "text": [
      "Media: 7.66569\n",
      "Standard deviation: 1.5901342156874685\n",
      "Varianza: 2.5285268239000005\n",
      "Eccesso di varianza: -0.08742202377080245\n"
     ]
    }
   ],
   "source": [
    "# Stimo i primi 2 momenti, perche' mi servono 2 parametri\n",
    "\n",
    "nu = mu = T.mean()\n",
    "sigma = T.std()\n",
    "var = T.var()\n",
    "\n",
    "ecc_var = (var - nu) / (nu ** 2)\n",
    "\n",
    "print(f'Media: {mu}')\n",
    "print(f'Standard deviation: {sigma}')\n",
    "print(f'Varianza: {var}')\n",
    "print(f'Eccesso di varianza: {ecc_var}')\n",
    "\n",
    "# Ricavo i valori dei parametri di una binomiale negativa che corrispondono a quei momenti\n",
    "# Non si puo' fittare con una negbin perche' `a` (i.e., `ecc_var`) e' negativo"
   ]
  },
  {
   "cell_type": "markdown",
   "id": "8b409c74",
   "metadata": {},
   "source": [
    "Tenta di adattare una distribuzione binomiale negativa dopo aver traslato i dati sottraendo il tempo di attesa minimo osservato `T_min`. Calcola la media e l'eccesso di varianza traslati, concludendo che l'adattamento non è ancora appropriato a causa della varianza troppo piccola."
   ]
  },
  {
   "cell_type": "code",
   "execution_count": 356,
   "id": "3dbe1596",
   "metadata": {},
   "outputs": [
    {
     "name": "stdout",
     "output_type": "stream",
     "text": [
      "Media: 7.66569\n",
      "Standard deviation: 1.5901342156874685\n",
      "Varianza: 2.5285268239000005\n",
      "Eccesso di varianza: -0.08742202377080245\n"
     ]
    }
   ],
   "source": [
    "# Riprovo, shiftando la distribuzione a sinistra in modo che si appoggi a zero\n",
    "T_min = T.min()\n",
    "nu_shift = nu - T_min\n",
    "ecc_var_shift = (var - nu_shift) / (nu_shift ** 2)\n",
    "\n",
    "print(f'Media: {mu}')\n",
    "print(f'Standard deviation: {sigma}')\n",
    "print(f'Varianza: {var}')\n",
    "print(f'Eccesso di varianza: {ecc_var}')\n",
    "\n",
    "# Niente da fare, la varianza e' troppo piccola"
   ]
  },
  {
   "cell_type": "markdown",
   "id": "7ef3fbd7",
   "metadata": {},
   "source": [
    "Tenta di adattare una distribuzione binomiale (invece che binomiale negativa) ai tempi di attesa *traslati* utilizzando il metodo dei momenti. Calcola i parametri `p` (probabilità di successo) e `m` (numero di prove) basandosi sulla media e sulla varianza traslate."
   ]
  },
  {
   "cell_type": "code",
   "execution_count": 357,
   "id": "850575b7",
   "metadata": {},
   "outputs": [
    {
     "name": "stdout",
     "output_type": "stream",
     "text": [
      "Probabilita': 0.3102180424694939\n",
      "Numero di successi: 12.0\n"
     ]
    }
   ],
   "source": [
    "from scipy.stats import binom\n",
    "\n",
    "# Senza shiftare non funziona, viene `m` minore del massimo di T\n",
    "\n",
    "# Metodo dei momenti: ricavo i due parametri della binomiale da media e varianza\n",
    "\n",
    "p = 1 - (var / nu_shift)    # media: mp, varianza: mp(1-p), ricavo p dal rapporto\n",
    "m = np.ceil(nu_shift / p)   # ricavo m dalla media e p, ma arrotondo\n",
    "\n",
    "print(f\"Probabilita': {p}\")\n",
    "print(f'Numero di successi: {m}')"
   ]
  },
  {
   "cell_type": "markdown",
   "id": "84672c35",
   "metadata": {},
   "source": [
    "Visualizza l'istogramma dei tempi di attesa traslati `T - T_min` e sovrappone la funzione di massa di probabilità (PMF) della distribuzione binomiale adattata per confronto."
   ]
  },
  {
   "cell_type": "code",
   "execution_count": 358,
   "id": "feaaf44d",
   "metadata": {},
   "outputs": [
    {
     "data": {
      "image/png": "[encoded data removed]",
      "text/plain": [
       "<Figure size 640x480 with 1 Axes>"
      ]
     },
     "metadata": {},
     "output_type": "display_data"
    }
   ],
   "source": [
    "X_range = np.arange(0, m)\n",
    "\n",
    "plt.hist(T - T_min, bins=range(int(a * 6)), width=0.9, density=True)\n",
    "plt.plot(X_range, binom.pmf(X_range, m, p), 'r-', label='binomiale')\n",
    "plt.legend()\n",
    "plt.show()"
   ]
  },
  {
   "cell_type": "markdown",
   "id": "abe6d6ea",
   "metadata": {},
   "source": [
    "Imposta i parametri (media `mu`, deviazione standard `sigma`) per una distribuzione normale e genera `N` campioni casuali `X` da essa."
   ]
  },
  {
   "cell_type": "markdown",
   "id": "b503053a",
   "metadata": {},
   "source": [
    "Considero una legge Gaussiana $\\mathcal N(\\mu, \\sigma^2)$, con $\\mu\\gg\\sigma>0$ e stimo $E[\\sqrt{X};X\\geq0]$"
   ]
  },
  {
   "cell_type": "code",
   "execution_count": 359,
   "id": "1ea7752c",
   "metadata": {},
   "outputs": [],
   "source": [
    "mu = 100\n",
    "sigma = 15\n",
    "\n",
    "N = 1000\n",
    "X = norm.rvs(loc=mu, scale=sigma, size=N)"
   ]
  },
  {
   "cell_type": "markdown",
   "id": "05a47a5a",
   "metadata": {},
   "source": [
    "Assicura che tutti i campioni generati `X` siano non negativi sostituendo i valori negativi con 0. Quindi, calcola la stima Monte Carlo di $E[\\sqrt{X}]$ prendendo la media della radice quadrata dei campioni (non negativi)."
   ]
  },
  {
   "cell_type": "code",
   "execution_count": 360,
   "id": "a7ac74e0",
   "metadata": {},
   "outputs": [
    {
     "name": "stdout",
     "output_type": "stream",
     "text": [
      "Stima: 10.01351628389809\n"
     ]
    }
   ],
   "source": [
    "X = np.maximum(X, 0) # non voglio valori negativi\n",
    "stima = np.sqrt(X).mean()\n",
    "print(f'Stima: {stima}')"
   ]
  },
  {
   "cell_type": "markdown",
   "id": "c7e37ebc",
   "metadata": {},
   "source": [
    "Calcola una stima più precisa di $E[\\sqrt{X}]$ utilizzando l'integrazione numerica (`scipy.integrate.quad`). Definisce l'integrando (sqrt(x) * PDF della distribuzione normale) e lo integra da 0 a infinito. Stampa il valore stimato e l'errore di integrazione."
   ]
  },
  {
   "cell_type": "code",
   "execution_count": 361,
   "id": "831dc59c",
   "metadata": {},
   "outputs": [
    {
     "name": "stdout",
     "output_type": "stream",
     "text": [
      "Stima: 9.971242544734102\n",
      "Incertezza: 1.5368970920819874e-08\n"
     ]
    }
   ],
   "source": [
    "# Facciamo un integrale numerico, con la funzione quad\n",
    "from scipy.integrate import quad\n",
    "\n",
    "def integrand(x):\n",
    "    return np.sqrt(x) * norm.pdf(x, loc=mu, scale=sigma)\n",
    "\n",
    "stima, error = quad(integrand, 0, np.inf)\n",
    "\n",
    "print(f'Stima: {stima}')\n",
    "print(f'Incertezza: {error}')\n",
    "\n",
    "# Fa meglio di una simulazione Monte Carlo"
   ]
  },
  {
   "cell_type": "markdown",
   "id": "3a685855",
   "metadata": {},
   "source": [
    "Esamina come la stima $E[\\sqrt{X}]$ varia al variare del coefficiente di variazione (cv = sigma/mu). Definisce un intervallo di valori `cv` e calcola l'integrale per una distribuzione normale standardizzata (mu=1, sigma=cv) per ciascun `cv`. L'intervallo di integrazione viene adattato in base a `cv`."
   ]
  },
  {
   "cell_type": "code",
   "execution_count": 362,
   "id": "602bea3b",
   "metadata": {},
   "outputs": [],
   "source": [
    "# Al variare di mu e sigma\n",
    "\n",
    "# Calcolo l'integrale in funzione di sigma/mu = cv (coefficiente di variazione)\n",
    "cvs = np.geomspace(1e-4, 1, 100)\n",
    "\n",
    "def integrand_cv(x, cv):\n",
    "    return np.sqrt(x) * norm.pdf(x, loc=1.0, scale=cv)\n",
    "\n",
    "stima = np.zeros_like(cvs)\n",
    "\n",
    "\n",
    "for (i, cv) in enumerate(cvs):\n",
    "    stima[i], _ = quad(integrand_cv, np.maximum(1-6*cv, 0), 1+6*cv, args=(cv,))\n"
   ]
  },
  {
   "cell_type": "markdown",
   "id": "1bea5576",
   "metadata": {},
   "source": [
    "Visualizza le stime calcolate di $E[\\sqrt{X}]$ (per mu=1) in funzione del coefficiente di variazione `cv`."
   ]
  },
  {
   "cell_type": "code",
   "execution_count": 363,
   "id": "a0bd99a8",
   "metadata": {},
   "outputs": [
    {
     "data": {
      "image/png": "[encoded data removed]",
      "text/plain": [
       "<Figure size 640x480 with 1 Axes>"
      ]
     },
     "metadata": {},
     "output_type": "display_data"
    }
   ],
   "source": [
    "plt.plot(cvs, stima)\n",
    "plt.show()"
   ]
  },
  {
   "cell_type": "markdown",
   "id": "52db857d",
   "metadata": {},
   "source": [
    "## Combinatoria nel Risiko (sort, reshape, `array[:,0,:]`, copy)"
   ]
  },
  {
   "cell_type": "markdown",
   "id": "06a9d3d9",
   "metadata": {},
   "source": [
    "Calcola il numero totale di possibili esiti quando si lanciano 6 dadi a sei facce (3 per l'attaccante, 3 per il difensore)."
   ]
  },
  {
   "cell_type": "code",
   "execution_count": 364,
   "id": "580b00cd",
   "metadata": {},
   "outputs": [
    {
     "name": "stdout",
     "output_type": "stream",
     "text": [
      "46656\n"
     ]
    }
   ],
   "source": [
    "# Numero di casi totali\n",
    "max_cases = 6**6\n",
    "print(max_cases)"
   ]
  },
  {
   "cell_type": "markdown",
   "id": "1b534491",
   "metadata": {},
   "source": [
    "Definisce una funzione `to_base` che converte un intero `n` nella sua rappresentazione in una data `base` (predefinita 6) utilizzando un numero specificato di `digits` (predefinito 6). Questo viene utilizzato per generare le combinazioni dei lanci di dadi."
   ]
  },
  {
   "cell_type": "code",
   "execution_count": 365,
   "id": "e3003ba3",
   "metadata": {},
   "outputs": [],
   "source": [
    "def to_base(n, base=6, digits=6):\n",
    "  max_n = base**digits\n",
    "  n = n % max_n # Tiene le ultime digits cifre e butta via le altre\n",
    "  ret = []\n",
    "  for i in range(digits):\n",
    "    max_n = max_n // base\n",
    "    ret.append(n // max_n)\n",
    "    n = n % max_n\n",
    "  return ret"
   ]
  },
  {
   "cell_type": "markdown",
   "id": "38dcc5ef",
   "metadata": {},
   "source": [
    "Dimostra l'uso della funzione `to_base` convertendo un numero in base 10."
   ]
  },
  {
   "cell_type": "code",
   "execution_count": 366,
   "id": "44c560e5",
   "metadata": {},
   "outputs": [
    {
     "data": {
      "text/plain": [
       "[0, 0, 7, 5, 3, 6, 4, 8]"
      ]
     },
     "execution_count": 366,
     "metadata": {},
     "output_type": "execute_result"
    }
   ],
   "source": [
    "to_base(753648, 10, 8)"
   ]
  },
  {
   "cell_type": "markdown",
   "id": "99ef20b1",
   "metadata": {},
   "source": [
    "Genera tutti i possibili esiti per 6 lanci di dadi. Itera da 0 a `max_cases - 1`, converte ogni numero in base 6 usando la funzione `to_base`, aggiunge 1 a ogni cifra (per rappresentare le facce del dado da 1 a 6) e memorizza i risultati in un array NumPy `cases`."
   ]
  },
  {
   "cell_type": "code",
   "execution_count": 367,
   "id": "bdb6b3c8",
   "metadata": {},
   "outputs": [
    {
     "data": {
      "text/plain": [
       "array([[1, 1, 1, 1, 1, 1],\n",
       "       [1, 1, 1, 1, 1, 2],\n",
       "       [1, 1, 1, 1, 1, 3],\n",
       "       ...,\n",
       "       [6, 6, 6, 6, 6, 4],\n",
       "       [6, 6, 6, 6, 6, 5],\n",
       "       [6, 6, 6, 6, 6, 6]])"
      ]
     },
     "execution_count": 367,
     "metadata": {},
     "output_type": "execute_result"
    }
   ],
   "source": [
    "import numpy as np\n",
    "\n",
    "cases = np.array([to_base(n) for n in range(max_cases)]) + 1\n",
    "cases"
   ]
  },
  {
   "cell_type": "markdown",
   "id": "efd71eb3",
   "metadata": {},
   "source": [
    "Visualizza la forma dell'array `cases`, confermando che contiene tutti i `max_cases` esiti con 6 valori di dado ciascuno."
   ]
  },
  {
   "cell_type": "code",
   "execution_count": 368,
   "id": "cad7d4b4",
   "metadata": {},
   "outputs": [
    {
     "data": {
      "text/plain": [
       "(46656, 6)"
      ]
     },
     "execution_count": 368,
     "metadata": {},
     "output_type": "execute_result"
    }
   ],
   "source": [
    "cases.shape"
   ]
  },
  {
   "cell_type": "markdown",
   "id": "9be38599",
   "metadata": {},
   "source": [
    "Rimodella l'array `cases` per rappresentare coppie di 3 lanci di dadi (ad esempio, attaccante vs difensore), anche se il raggruppamento potrebbe non essere ancora conforme alle regole standard del Risiko."
   ]
  },
  {
   "cell_type": "code",
   "execution_count": 369,
   "id": "838b548a",
   "metadata": {},
   "outputs": [
    {
     "data": {
      "text/plain": [
       "array([[[1, 1],\n",
       "        [1, 1],\n",
       "        [1, 1]],\n",
       "\n",
       "       [[1, 1],\n",
       "        [1, 1],\n",
       "        [1, 2]],\n",
       "\n",
       "       [[1, 1],\n",
       "        [1, 1],\n",
       "        [1, 3]],\n",
       "\n",
       "       ...,\n",
       "\n",
       "       [[6, 6],\n",
       "        [6, 6],\n",
       "        [6, 4]],\n",
       "\n",
       "       [[6, 6],\n",
       "        [6, 6],\n",
       "        [6, 5]],\n",
       "\n",
       "       [[6, 6],\n",
       "        [6, 6],\n",
       "        [6, 6]]])"
      ]
     },
     "execution_count": 369,
     "metadata": {},
     "output_type": "execute_result"
    }
   ],
   "source": [
    "cases.reshape((46656, 3, 2))"
   ]
  },
  {
   "cell_type": "markdown",
   "id": "56c41a07",
   "metadata": {},
   "source": [
    "Rimodella l'array `cases` in coppie di 3 lanci di dadi (attaccante, difensore) e visualizza il 12000° caso."
   ]
  },
  {
   "cell_type": "code",
   "execution_count": 370,
   "id": "8bddca33",
   "metadata": {},
   "outputs": [
    {
     "data": {
      "text/plain": [
       "array([[2, 4, 2],\n",
       "       [4, 3, 1]])"
      ]
     },
     "execution_count": 370,
     "metadata": {},
     "output_type": "execute_result"
    }
   ],
   "source": [
    "cases.reshape((-1, 2, 3))[12000]"
   ]
  },
  {
   "cell_type": "markdown",
   "id": "4b5300fc",
   "metadata": {},
   "source": [
    "Crea una copia dell'array `cases` per evitare di modificare i dati originali."
   ]
  },
  {
   "cell_type": "code",
   "execution_count": 371,
   "id": "f41fad75",
   "metadata": {},
   "outputs": [],
   "source": [
    "test = cases.copy()"
   ]
  },
  {
   "cell_type": "markdown",
   "id": "bdd1e99b",
   "metadata": {},
   "source": [
    "Rimodella l'array copiato `test` in coppie di 3 lanci di dadi (attaccante, difensore)."
   ]
  },
  {
   "cell_type": "code",
   "execution_count": 372,
   "id": "6a7d88a2",
   "metadata": {},
   "outputs": [],
   "source": [
    "test = test.reshape((-1, 2, 3))"
   ]
  },
  {
   "cell_type": "markdown",
   "id": "7f4f3e84",
   "metadata": {},
   "source": [
    "Ordina i lanci di dadi all'interno di ogni set di 3 (sia per l'attaccante che per il difensore) in ordine crescente. Nota: le regole del Risiko utilizzano tipicamente l'ordine decrescente."
   ]
  },
  {
   "cell_type": "code",
   "execution_count": 373,
   "id": "2c8225c7",
   "metadata": {},
   "outputs": [],
   "source": [
    "test.sort()"
   ]
  },
  {
   "cell_type": "markdown",
   "id": "adef3c26",
   "metadata": {},
   "source": [
    "Visualizza il 12000° caso dopo aver ordinato i lanci di dadi all'interno di ciascun gruppo di 3."
   ]
  },
  {
   "cell_type": "code",
   "execution_count": 374,
   "id": "58c1a9c0",
   "metadata": {},
   "outputs": [
    {
     "data": {
      "text/plain": [
       "array([[2, 2, 4],\n",
       "       [1, 3, 4]])"
      ]
     },
     "execution_count": 374,
     "metadata": {},
     "output_type": "execute_result"
    }
   ],
   "source": [
    "test.reshape((-1, 2, 3))[12000]"
   ]
  },
  {
   "cell_type": "markdown",
   "id": "db890940",
   "metadata": {},
   "source": [
    "Seleziona e visualizza i lanci di dadi per l'attaccante (primo set di 3 in ogni coppia) dopo l'ordinamento."
   ]
  },
  {
   "cell_type": "code",
   "execution_count": 375,
   "id": "f689f481",
   "metadata": {},
   "outputs": [
    {
     "data": {
      "text/plain": [
       "array([[1, 1, 1],\n",
       "       [1, 1, 1],\n",
       "       [1, 1, 1],\n",
       "       ...,\n",
       "       [6, 6, 6],\n",
       "       [6, 6, 6],\n",
       "       [6, 6, 6]])"
      ]
     },
     "execution_count": 375,
     "metadata": {},
     "output_type": "execute_result"
    }
   ],
   "source": [
    "test[:,0,:] # attaccante"
   ]
  },
  {
   "cell_type": "markdown",
   "id": "6f092af8",
   "metadata": {},
   "source": [
    "Confronta i lanci di dadi dell'attaccante (`test[:,0,:]`) con quelli del difensore (`test[:,1,:]`) elemento per elemento. Crea un array booleano `wins` che indica dove il dado dell'attaccante è strettamente maggiore del corrispondente dado del difensore. Nota: questo presuppone un confronto diretto dei dadi ordinati, che necessita di aggiustamenti per le regole effettive del Risiko (confronto tra il più alto vs il più alto, il secondo più alto vs il secondo più alto, ecc.)."
   ]
  },
  {
   "cell_type": "code",
   "execution_count": 376,
   "id": "68db8d3c",
   "metadata": {},
   "outputs": [
    {
     "data": {
      "text/plain": [
       "array([[False, False, False],\n",
       "       [False, False, False],\n",
       "       [False, False, False],\n",
       "       ...,\n",
       "       [ True, False, False],\n",
       "       [ True, False, False],\n",
       "       [False, False, False]])"
      ]
     },
     "execution_count": 376,
     "metadata": {},
     "output_type": "execute_result"
    }
   ],
   "source": [
    "wins = np.greater(test[:,0,:], test[:,1,:])\n",
    "wins"
   ]
  },
  {
   "cell_type": "markdown",
   "id": "1091e316",
   "metadata": {},
   "source": [
    "Calcola il numero di vittorie per l'attaccante in ogni combattimento simulato sommando i valori booleani nell'array `wins` lungo l'ultimo asse (axis=-1)."
   ]
  },
  {
   "cell_type": "code",
   "execution_count": 377,
   "id": "a362a7f5",
   "metadata": {},
   "outputs": [
    {
     "data": {
      "text/plain": [
       "array([0, 0, 0, ..., 1, 1, 0])"
      ]
     },
     "execution_count": 377,
     "metadata": {},
     "output_type": "execute_result"
    }
   ],
   "source": [
    "results = np.sum(wins, axis=-1)\n",
    "results"
   ]
  },
  {
   "cell_type": "markdown",
   "id": "f7e92121",
   "metadata": {},
   "source": [
    "Conta quante volte l'attaccante ha vinto 0, 1, 2 o 3 confronti basandosi sull'array `results`. Memorizza questi conteggi in `res_cases`."
   ]
  },
  {
   "cell_type": "code",
   "execution_count": 378,
   "id": "27cbcf00",
   "metadata": {},
   "outputs": [
    {
     "data": {
      "text/plain": [
       "[np.int64(17871), np.int64(12348), np.int64(10017), np.int64(6420)]"
      ]
     },
     "execution_count": 378,
     "metadata": {},
     "output_type": "execute_result"
    }
   ],
   "source": [
    "res_cases = [sum(results == i) for i in range(4)]\n",
    "res_cases"
   ]
  },
  {
   "cell_type": "markdown",
   "id": "58832635",
   "metadata": {},
   "source": [
    "Calcola la probabilità che l'attaccante vinca 0, 1, 2 o 3 confronti dividendo i conteggi in `res_cases` per il numero totale di esiti possibili `max_cases`. Nota: queste probabilità si basano sulla logica di confronto semplificata utilizzata in precedenza e non rappresentano accuratamente gli esiti effettivi del combattimento nel Risiko senza ulteriori affinamenti (ordinamento decrescente, confronto dei primi N dadi)."
   ]
  },
  {
   "cell_type": "code",
   "execution_count": 379,
   "id": "76b3ab33",
   "metadata": {},
   "outputs": [
    {
     "data": {
      "text/plain": [
       "array([0.38303755, 0.26466049, 0.21469907, 0.13760288])"
      ]
     },
     "execution_count": 379,
     "metadata": {},
     "output_type": "execute_result"
    }
   ],
   "source": [
    "np.array(res_cases) / max_cases"
   ]
  }
 ],
 "metadata": {
  "kernelspec": {
   "display_name": "Python 3 (ipykernel)",
   "language": "python",
   "name": "python3"
  },
  "language_info": {
   "codemirror_mode": {
    "name": "ipython",
    "version": 3
   },
   "file_extension": ".py",
   "mimetype": "text/x-python",
   "name": "python",
   "nbconvert_exporter": "python",
   "pygments_lexer": "ipython3",
   "version": "3.11.6"
  }
 },
 "nbformat": 4,
 "nbformat_minor": 5
}
