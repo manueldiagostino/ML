{
    "cells": [
        {
            "cell_type": "code",
            "execution_count": 1,
            "id": "58dea3fc",
            "metadata": {
                "id": "9f37ae7f",
                "language": "python"
            },
            "outputs": [
                {
                    "name": "stdout",
                    "output_type": "stream",
                    "text": [
                        "/home/jovyan/src/laboratori/1920\n"
                    ]
                }
            ],
            "source": [
                "%cd ~/src/laboratori/1920"
            ]
        },
        {
            "cell_type": "markdown",
            "id": "1d18d3ae",
            "metadata": {
                "id": "f7e70540",
                "language": "markdown"
            },
            "source": [
                "# **Introduzione al Machine Learning -- laboratorio 19 e 20**"
            ]
        },
        {
            "cell_type": "markdown",
            "id": "021a7a58",
            "metadata": {
                "id": "96a6036d",
                "language": "markdown"
            },
            "source": [
                "- Salvare e caricare dataset intermedi\n",
                "- Formule stile R\n",
                "- Inferenza"
            ]
        },
        {
            "cell_type": "code",
            "execution_count": 49,
            "id": "2b96e5cb",
            "metadata": {
                "id": "ea090183",
                "language": "python"
            },
            "outputs": [],
            "source": [
                "import pandas as pd\n",
                "import numpy as np\n",
                "import matplotlib.pyplot as plt\n",
                "import seaborn as sns\n",
                "import statsmodels.api as sm"
            ]
        },
        {
            "cell_type": "markdown",
            "id": "d0f148d5",
            "metadata": {
                "id": "desc-76923bb0",
                "language": "markdown"
            },
            "source": [
                "Definisce una funzione `plot_resid` per visualizzare i grafici dei residui di un modello di regressione. Crea un grafico scatter dei residui rispetto ai valori predetti e un grafico scatter dei residui rispetto a ciascuna variabile predittrice."
            ]
        },
        {
            "cell_type": "code",
            "execution_count": 50,
            "id": "9d10d9c9",
            "metadata": {
                "id": "76923bb0",
                "language": "python"
            },
            "outputs": [],
            "source": [
                "# Facciamo i grafici dei residui\n",
                "\n",
                "def plot_resid(x, results, skip_first=True):\n",
                "    plt.scatter(results.fittedvalues, results.resid, alpha=0.5)\n",
                "    plt.title('Residui-Previsti')\n",
                "    plt.show()\n",
                "    first = 1 if skip_first else 0\n",
                "    for var in x.columns[first:]:\n",
                "        plt.scatter(x[var], results.resid, alpha=0.5)\n",
                "        plt.title(var)\n",
                "        plt.show()"
            ]
        },
        {
            "cell_type": "markdown",
            "id": "13c7ffeb",
            "metadata": {
                "id": "desc-90baf9d8",
                "language": "markdown"
            },
            "source": [
                "Definisce due funzioni per la selezione stepwise forward: `single_step` esegue un passo testando l'aggiunta di ogni variabile rimanente a quelle già selezionate, e `print_step` stampa i risultati (R-quadrato aggiustato, coefficiente) e restituisce la variabile migliore."
            ]
        },
        {
            "cell_type": "code",
            "execution_count": 51,
            "id": "714f1d3f",
            "metadata": {
                "id": "90baf9d8",
                "language": "python"
            },
            "outputs": [],
            "source": [
                "def single_step(vars, taken, df):\n",
                "    results = {}\n",
                "\n",
                "    for var in vars:\n",
                "        if var in taken:\n",
                "            continue\n",
                "        x = sm.add_constant(df[taken + [var]])\n",
                "        y = df['lmpg']\n",
                "        results[var] = sm.OLS(y, x).fit()\n",
                "\n",
                "    return results\n",
                "\n",
                "def print_step(results):\n",
                "    best = None\n",
                "    max = 0\n",
                "    for var in results:\n",
                "        R2adj = results[var].rsquared_adj\n",
                "        print(f'{var}: R²={R2adj:g}, coef={results[var].params[var]:g}')\n",
                "\n",
                "        if R2adj > max:\n",
                "            max = R2adj\n",
                "            best = var\n",
                "    print(f\"Best: {best}, max: {max}\")\n",
                "    return best"
            ]
        },
        {
            "cell_type": "markdown",
            "id": "3d345ecb",
            "metadata": {
                "id": "desc-639a7d68",
                "language": "markdown"
            },
            "source": [
                "Carica due DataFrame, `dft` e `dfn`, da file pickle precedentemente salvati. Questi file contengono i dati di training e i nuovi dati per la predizione."
            ]
        },
        {
            "cell_type": "code",
            "execution_count": 52,
            "id": "f23dd7bf",
            "metadata": {
                "id": "639a7d68",
                "language": "python"
            },
            "outputs": [],
            "source": [
                "dft = pd.read_pickle('pickle/fdt_train5.plk')\n",
                "dfn = pd.read_pickle('pickle/dft_new4.pkl')"
            ]
        },
        {
            "cell_type": "markdown",
            "id": "cc96c28b",
            "metadata": {
                "id": "desc-3d01354c",
                "language": "markdown"
            },
            "source": [
                "Visualizza il DataFrame `dft` caricato."
            ]
        },
        {
            "cell_type": "code",
            "execution_count": 53,
            "id": "e6519d0f",
            "metadata": {
                "id": "3d01354c",
                "language": "python"
            },
            "outputs": [
                {
                    "data": {
                        "text/html": [
                            "<div>\n",
                            "<style scoped>\n",
                            "    .dataframe tbody tr th:only-of-type {\n",
                            "        vertical-align: middle;\n",
                            "    }\n",
                            "\n",
                            "    .dataframe tbody tr th {\n",
                            "        vertical-align: top;\n",
                            "    }\n",
                            "\n",
                            "    .dataframe thead th {\n",
                            "        text-align: right;\n",
                            "    }\n",
                            "</style>\n",
                            "<table border=\"1\" class=\"dataframe\">\n",
                            "  <thead>\n",
                            "    <tr style=\"text-align: right;\">\n",
                            "      <th></th>\n",
                            "      <th>cylin</th>\n",
                            "      <th>year</th>\n",
                            "      <th>lmpg</th>\n",
                            "      <th>ldisp</th>\n",
                            "      <th>lhp</th>\n",
                            "      <th>lwt</th>\n",
                            "      <th>laccel</th>\n",
                            "      <th>USA</th>\n",
                            "      <th>EU</th>\n",
                            "      <th>JP</th>\n",
                            "    </tr>\n",
                            "    <tr>\n",
                            "      <th>id</th>\n",
                            "      <th></th>\n",
                            "      <th></th>\n",
                            "      <th></th>\n",
                            "      <th></th>\n",
                            "      <th></th>\n",
                            "      <th></th>\n",
                            "      <th></th>\n",
                            "      <th></th>\n",
                            "      <th></th>\n",
                            "      <th></th>\n",
                            "    </tr>\n",
                            "  </thead>\n",
                            "  <tbody>\n",
                            "    <tr>\n",
                            "      <th>1</th>\n",
                            "      <td>8.0</td>\n",
                            "      <td>70.0</td>\n",
                            "      <td>2.890372</td>\n",
                            "      <td>5.726848</td>\n",
                            "      <td>4.867534</td>\n",
                            "      <td>8.161660</td>\n",
                            "      <td>2.484907</td>\n",
                            "      <td>1</td>\n",
                            "      <td>0</td>\n",
                            "      <td>0</td>\n",
                            "    </tr>\n",
                            "    <tr>\n",
                            "      <th>2</th>\n",
                            "      <td>8.0</td>\n",
                            "      <td>70.0</td>\n",
                            "      <td>2.708050</td>\n",
                            "      <td>5.857933</td>\n",
                            "      <td>5.105945</td>\n",
                            "      <td>8.214194</td>\n",
                            "      <td>2.442347</td>\n",
                            "      <td>1</td>\n",
                            "      <td>0</td>\n",
                            "      <td>0</td>\n",
                            "    </tr>\n",
                            "    <tr>\n",
                            "      <th>3</th>\n",
                            "      <td>8.0</td>\n",
                            "      <td>70.0</td>\n",
                            "      <td>2.890372</td>\n",
                            "      <td>5.762051</td>\n",
                            "      <td>5.010635</td>\n",
                            "      <td>8.142063</td>\n",
                            "      <td>2.397895</td>\n",
                            "      <td>1</td>\n",
                            "      <td>0</td>\n",
                            "      <td>0</td>\n",
                            "    </tr>\n",
                            "    <tr>\n",
                            "      <th>4</th>\n",
                            "      <td>8.0</td>\n",
                            "      <td>70.0</td>\n",
                            "      <td>2.772589</td>\n",
                            "      <td>5.717028</td>\n",
                            "      <td>5.010635</td>\n",
                            "      <td>8.141190</td>\n",
                            "      <td>2.484907</td>\n",
                            "      <td>1</td>\n",
                            "      <td>0</td>\n",
                            "      <td>0</td>\n",
                            "    </tr>\n",
                            "    <tr>\n",
                            "      <th>5</th>\n",
                            "      <td>8.0</td>\n",
                            "      <td>70.0</td>\n",
                            "      <td>2.833213</td>\n",
                            "      <td>5.710427</td>\n",
                            "      <td>4.941642</td>\n",
                            "      <td>8.145840</td>\n",
                            "      <td>2.351375</td>\n",
                            "      <td>1</td>\n",
                            "      <td>0</td>\n",
                            "      <td>0</td>\n",
                            "    </tr>\n",
                            "    <tr>\n",
                            "      <th>...</th>\n",
                            "      <td>...</td>\n",
                            "      <td>...</td>\n",
                            "      <td>...</td>\n",
                            "      <td>...</td>\n",
                            "      <td>...</td>\n",
                            "      <td>...</td>\n",
                            "      <td>...</td>\n",
                            "      <td>...</td>\n",
                            "      <td>...</td>\n",
                            "      <td>...</td>\n",
                            "    </tr>\n",
                            "    <tr>\n",
                            "      <th>401</th>\n",
                            "      <td>4.0</td>\n",
                            "      <td>82.0</td>\n",
                            "      <td>3.295837</td>\n",
                            "      <td>4.941642</td>\n",
                            "      <td>4.454347</td>\n",
                            "      <td>7.933797</td>\n",
                            "      <td>2.747271</td>\n",
                            "      <td>1</td>\n",
                            "      <td>0</td>\n",
                            "      <td>0</td>\n",
                            "    </tr>\n",
                            "    <tr>\n",
                            "      <th>402</th>\n",
                            "      <td>4.0</td>\n",
                            "      <td>82.0</td>\n",
                            "      <td>3.784190</td>\n",
                            "      <td>4.574711</td>\n",
                            "      <td>3.951244</td>\n",
                            "      <td>7.663877</td>\n",
                            "      <td>3.202746</td>\n",
                            "      <td>0</td>\n",
                            "      <td>1</td>\n",
                            "      <td>0</td>\n",
                            "    </tr>\n",
                            "    <tr>\n",
                            "      <th>403</th>\n",
                            "      <td>4.0</td>\n",
                            "      <td>82.0</td>\n",
                            "      <td>3.465736</td>\n",
                            "      <td>4.905275</td>\n",
                            "      <td>4.430817</td>\n",
                            "      <td>7.738488</td>\n",
                            "      <td>2.451005</td>\n",
                            "      <td>1</td>\n",
                            "      <td>0</td>\n",
                            "      <td>0</td>\n",
                            "    </tr>\n",
                            "    <tr>\n",
                            "      <th>404</th>\n",
                            "      <td>4.0</td>\n",
                            "      <td>82.0</td>\n",
                            "      <td>3.332205</td>\n",
                            "      <td>4.787492</td>\n",
                            "      <td>4.369448</td>\n",
                            "      <td>7.872836</td>\n",
                            "      <td>2.923162</td>\n",
                            "      <td>1</td>\n",
                            "      <td>0</td>\n",
                            "      <td>0</td>\n",
                            "    </tr>\n",
                            "    <tr>\n",
                            "      <th>405</th>\n",
                            "      <td>4.0</td>\n",
                            "      <td>82.0</td>\n",
                            "      <td>3.433987</td>\n",
                            "      <td>4.779123</td>\n",
                            "      <td>4.406719</td>\n",
                            "      <td>7.908387</td>\n",
                            "      <td>2.965273</td>\n",
                            "      <td>1</td>\n",
                            "      <td>0</td>\n",
                            "      <td>0</td>\n",
                            "    </tr>\n",
                            "  </tbody>\n",
                            "</table>\n",
                            "<p>391 rows × 10 columns</p>\n",
                            "</div>"
                        ],
                        "text/plain": [
                            "     cylin  year      lmpg     ldisp       lhp       lwt    laccel  USA  EU  \\\n",
                            "id                                                                            \n",
                            "1      8.0  70.0  2.890372  5.726848  4.867534  8.161660  2.484907    1   0   \n",
                            "2      8.0  70.0  2.708050  5.857933  5.105945  8.214194  2.442347    1   0   \n",
                            "3      8.0  70.0  2.890372  5.762051  5.010635  8.142063  2.397895    1   0   \n",
                            "4      8.0  70.0  2.772589  5.717028  5.010635  8.141190  2.484907    1   0   \n",
                            "5      8.0  70.0  2.833213  5.710427  4.941642  8.145840  2.351375    1   0   \n",
                            "..     ...   ...       ...       ...       ...       ...       ...  ...  ..   \n",
                            "401    4.0  82.0  3.295837  4.941642  4.454347  7.933797  2.747271    1   0   \n",
                            "402    4.0  82.0  3.784190  4.574711  3.951244  7.663877  3.202746    0   1   \n",
                            "403    4.0  82.0  3.465736  4.905275  4.430817  7.738488  2.451005    1   0   \n",
                            "404    4.0  82.0  3.332205  4.787492  4.369448  7.872836  2.923162    1   0   \n",
                            "405    4.0  82.0  3.433987  4.779123  4.406719  7.908387  2.965273    1   0   \n",
                            "\n",
                            "     JP  \n",
                            "id       \n",
                            "1     0  \n",
                            "2     0  \n",
                            "3     0  \n",
                            "4     0  \n",
                            "5     0  \n",
                            "..   ..  \n",
                            "401   0  \n",
                            "402   0  \n",
                            "403   0  \n",
                            "404   0  \n",
                            "405   0  \n",
                            "\n",
                            "[391 rows x 10 columns]"
                        ]
                    },
                    "execution_count": 53,
                    "metadata": {},
                    "output_type": "execute_result"
                }
            ],
            "source": [
                "dft"
            ]
        },
        {
            "cell_type": "markdown",
            "id": "b3b346ab",
            "metadata": {
                "id": "desc-60deb39b",
                "language": "markdown"
            },
            "source": [
                "Visualizza i nomi delle colonne del DataFrame `dft`."
            ]
        },
        {
            "cell_type": "code",
            "execution_count": 54,
            "id": "65f1bbe3",
            "metadata": {
                "id": "60deb39b",
                "language": "python"
            },
            "outputs": [
                {
                    "data": {
                        "text/plain": [
                            "Index(['cylin', 'year', 'lmpg', 'ldisp', 'lhp', 'lwt', 'laccel', 'USA', 'EU',\n",
                            "       'JP'],\n",
                            "      dtype='object')"
                        ]
                    },
                    "execution_count": 54,
                    "metadata": {},
                    "output_type": "execute_result"
                }
            ],
            "source": [
                "dft.columns"
            ]
        },
        {
            "cell_type": "markdown",
            "id": "382fc7f7",
            "metadata": {
                "id": "desc-bd075a58",
                "language": "markdown"
            },
            "source": [
                "Inizializza la lista `vars` con i nomi delle variabili predittrici candidate e la lista `taken` (variabili già selezionate nel modello) come vuota, per iniziare la procedura di selezione stepwise forward."
            ]
        },
        {
            "cell_type": "code",
            "execution_count": 55,
            "id": "74f6196d",
            "metadata": {
                "id": "bd075a58",
                "language": "python"
            },
            "outputs": [],
            "source": [
                "vars = ['cylin', 'year', 'ldisp', 'lhp', 'lwt', 'laccel', 'USA', 'EU', 'JP']\n",
                "taken = []"
            ]
        },
        {
            "cell_type": "markdown",
            "id": "dd7101b9",
            "metadata": {
                "id": "desc-2f10fec5",
                "language": "markdown"
            },
            "source": [
                "Esegue il primo passo della selezione stepwise forward: chiama `single_step` per testare l'aggiunta di ogni variabile in `vars` al modello (che al momento contiene solo la costante). Stampa i risultati con `print_step` e memorizza la variabile migliore in `chosen`."
            ]
        },
        {
            "cell_type": "code",
            "execution_count": 56,
            "id": "f304cb71",
            "metadata": {
                "id": "2f10fec5",
                "language": "python"
            },
            "outputs": [
                {
                    "name": "stdout",
                    "output_type": "stream",
                    "text": [
                        "cylin: R²=0.682478, coef=-0.164508\n",
                        "year: R²=0.332173, coef=0.0532041\n",
                        "ldisp: R²=0.737823, coef=-0.548554\n",
                        "lhp: R²=0.720563, coef=-0.841372\n",
                        "lwt: R²=0.762929, coef=-1.05737\n",
                        "laccel: R²=0.212555, coef=0.869477\n",
                        "USA: R²=0.317844, coef=-0.396377\n",
                        "EU: R²=0.0621971, coef=0.22876\n",
                        "JP: R²=0.193742, coef=0.373761\n",
                        "Best: lwt, max: 0.7629291453629575\n"
                    ]
                }
            ],
            "source": [
                "results = single_step(vars, taken, dft)\n",
                "chosen = print_step(results)"
            ]
        },
        {
            "cell_type": "markdown",
            "id": "7ae26c70",
            "metadata": {
                "id": "desc-049be79b",
                "language": "markdown"
            },
            "source": [
                "Aggiunge la variabile `chosen` (selezionata nel passo precedente) alla lista `taken`. Esegue il secondo passo della selezione stepwise forward, testando l'aggiunta di ogni variabile rimanente al modello che ora contiene la costante e la prima variabile scelta."
            ]
        },
        {
            "cell_type": "code",
            "execution_count": 57,
            "id": "154c316c",
            "metadata": {
                "id": "049be79b",
                "language": "python"
            },
            "outputs": [
                {
                    "name": "stdout",
                    "output_type": "stream",
                    "text": [
                        "cylin: R²=0.775648, coef=-0.0491256\n",
                        "year: R²=0.879521, coef=0.0328213\n",
                        "ldisp: R²=0.77383, coef=-0.204492\n",
                        "lhp: R²=0.793833, coef=-0.359883\n",
                        "laccel: R²=0.773131, coef=0.214799\n",
                        "USA: R²=0.763264, coef=-0.0273967\n",
                        "EU: R²=0.762321, coef=0.00163176\n",
                        "JP: R²=0.763296, coef=0.0299434\n",
                        "Best: year, max: 0.8795214599276772\n"
                    ]
                }
            ],
            "source": [
                "taken += [chosen]\n",
                "results = single_step(vars, taken, dft)\n",
                "chosen = print_step(results)"
            ]
        },
        {
            "cell_type": "markdown",
            "id": "6e723e13",
            "metadata": {
                "id": "desc-a2d28520",
                "language": "markdown"
            },
            "source": [
                "Aggiunge la nuova variabile `chosen` a `taken`. Esegue il terzo passo della selezione stepwise forward."
            ]
        },
        {
            "cell_type": "code",
            "execution_count": 58,
            "id": "869597f8",
            "metadata": {
                "id": "a2d28520",
                "language": "python"
            },
            "outputs": [
                {
                    "name": "stdout",
                    "output_type": "stream",
                    "text": [
                        "cylin: R²=0.881355, coef=-0.0201094\n",
                        "ldisp: R²=0.881215, coef=-0.0867221\n",
                        "lhp: R²=0.884656, coef=-0.157372\n",
                        "laccel: R²=0.880063, coef=0.0617692\n",
                        "USA: R²=0.881724, coef=-0.0446791\n",
                        "EU: R²=0.881509, coef=0.0453048\n",
                        "JP: R²=0.879238, coef=0.005091\n",
                        "Best: lhp, max: 0.8846555179660891\n"
                    ]
                }
            ],
            "source": [
                "taken += [chosen]\n",
                "results = single_step(vars, taken, dft)\n",
                "chosen = print_step(results)"
            ]
        },
        {
            "cell_type": "markdown",
            "id": "bc3154f3",
            "metadata": {
                "id": "desc-bd40c619",
                "language": "markdown"
            },
            "source": [
                "Aggiunge la nuova variabile `chosen` a `taken`. Esegue il quarto passo della selezione stepwise forward."
            ]
        },
        {
            "cell_type": "code",
            "execution_count": 59,
            "id": "7bc916b5",
            "metadata": {
                "id": "bd40c619",
                "language": "python"
            },
            "outputs": [
                {
                    "name": "stdout",
                    "output_type": "stream",
                    "text": [
                        "cylin: R²=0.885125, coef=-0.0124705\n",
                        "ldisp: R²=0.885073, coef=-0.053578\n",
                        "laccel: R²=0.886265, coef=-0.145114\n",
                        "USA: R²=0.8872, coef=-0.0474973\n",
                        "EU: R²=0.885719, coef=0.0352664\n",
                        "JP: R²=0.884788, coef=0.0203241\n",
                        "Best: USA, max: 0.887200410299922\n"
                    ]
                }
            ],
            "source": [
                "taken += [chosen]\n",
                "results = single_step(vars, taken, dft)\n",
                "chosen = print_step(results)"
            ]
        },
        {
            "cell_type": "markdown",
            "id": "d4b5bb7b",
            "metadata": {
                "id": "desc-2141281f",
                "language": "markdown"
            },
            "source": [
                "Aggiunge la nuova variabile `chosen` a `taken`. Esegue il quinto passo della selezione stepwise forward."
            ]
        },
        {
            "cell_type": "code",
            "execution_count": 60,
            "id": "a9e050ab",
            "metadata": {
                "id": "2141281f",
                "language": "python"
            },
            "outputs": [
                {
                    "name": "stdout",
                    "output_type": "stream",
                    "text": [
                        "cylin: R²=0.887207, coef=-0.00793725\n",
                        "ldisp: R²=0.886909, coef=0.00303311\n",
                        "laccel: R²=0.889203, coef=-0.159399\n",
                        "EU: R²=0.886982, coef=0.00994245\n",
                        "JP: R²=0.886982, coef=-0.00994245\n",
                        "Best: laccel, max: 0.8892029578487393\n"
                    ]
                }
            ],
            "source": [
                "taken += [chosen]\n",
                "results = single_step(vars, taken, dft)\n",
                "chosen = print_step(results)"
            ]
        },
        {
            "cell_type": "markdown",
            "id": "153c2c6b",
            "metadata": {
                "id": "desc-00e3c03c",
                "language": "markdown"
            },
            "source": [
                "Aggiunge la nuova variabile `chosen` a `taken`. Esegue il sesto passo della selezione stepwise forward."
            ]
        },
        {
            "cell_type": "code",
            "execution_count": 61,
            "id": "2377e9cb",
            "metadata": {
                "id": "00e3c03c",
                "language": "python"
            },
            "outputs": [
                {
                    "name": "stdout",
                    "output_type": "stream",
                    "text": [
                        "cylin: R²=0.889711, coef=-0.0132374\n",
                        "ldisp: R²=0.889121, coef=-0.0354327\n",
                        "EU: R²=0.888948, coef=0.00661845\n",
                        "JP: R²=0.888948, coef=-0.00661845\n",
                        "Best: cylin, max: 0.8897111536353929\n"
                    ]
                }
            ],
            "source": [
                "taken += [chosen]\n",
                "results = single_step(vars, taken, dft)\n",
                "chosen = print_step(results)"
            ]
        },
        {
            "cell_type": "markdown",
            "id": "8e00d2f8",
            "metadata": {
                "id": "desc-add73839",
                "language": "markdown"
            },
            "source": [
                "Aggiunge la nuova variabile `chosen` a `taken`. Esegue il settimo passo della selezione stepwise forward. In questo caso, 'EU' e 'JP' non vengono selezionate perché l'R-quadrato aggiustato non migliora o peggiora."
            ]
        },
        {
            "cell_type": "code",
            "execution_count": 62,
            "id": "88d03cd8",
            "metadata": {
                "id": "add73839",
                "language": "python"
            },
            "outputs": [
                {
                    "name": "stdout",
                    "output_type": "stream",
                    "text": [
                        "ldisp: R²=0.889452, coef=0.0173379\n",
                        "EU: R²=0.889426, coef=0.0020575\n",
                        "JP: R²=0.889426, coef=-0.0020575\n",
                        "Best: ldisp, max: 0.8894516907331907\n"
                    ]
                }
            ],
            "source": [
                "taken += [chosen]\n",
                "results = single_step(vars, taken, dft)\n",
                "chosen = print_step(results)"
            ]
        },
        {
            "cell_type": "markdown",
            "id": "114581c0",
            "metadata": {
                "id": "desc-b6ce08a2",
                "language": "markdown"
            },
            "source": [
                "Visualizza la lista finale `taken` delle variabili selezionate dalla procedura stepwise forward."
            ]
        },
        {
            "cell_type": "code",
            "execution_count": 63,
            "id": "cd44ca84",
            "metadata": {
                "id": "b6ce08a2",
                "language": "python"
            },
            "outputs": [
                {
                    "data": {
                        "text/plain": [
                            "['lwt', 'year', 'lhp', 'USA', 'laccel', 'cylin']"
                        ]
                    },
                    "execution_count": 63,
                    "metadata": {},
                    "output_type": "execute_result"
                }
            ],
            "source": [
                "taken"
            ]
        },
        {
            "cell_type": "markdown",
            "id": "a306ff3d",
            "metadata": {
                "id": "desc-802dcc46",
                "language": "markdown"
            },
            "source": [
                "Crea la matrice dei predittori `x` usando le variabili selezionate in `taken` e aggiungendo una costante. Definisce la variabile dipendente `y` come 'lmpg'. Adatta un modello OLS (Ordinary Least Squares) e stampa il sommario completo dei risultati."
            ]
        },
        {
            "cell_type": "code",
            "execution_count": 64,
            "id": "541eac22",
            "metadata": {
                "id": "802dcc46",
                "language": "python"
            },
            "outputs": [
                {
                    "name": "stdout",
                    "output_type": "stream",
                    "text": [
                        "                            OLS Regression Results                            \n",
                        "==============================================================================\n",
                        "Dep. Variable:                   lmpg   R-squared:                       0.891\n",
                        "Model:                            OLS   Adj. R-squared:                  0.890\n",
                        "Method:                 Least Squares   F-statistic:                     525.4\n",
                        "Date:                Sat, 10 May 2025   Prob (F-statistic):          1.11e-181\n",
                        "Time:                        09:06:39   Log-Likelihood:                 302.03\n",
                        "No. Observations:                 391   AIC:                            -590.1\n",
                        "Df Residuals:                     384   BIC:                            -562.3\n",
                        "Df Model:                           6                                         \n",
                        "Covariance Type:            nonrobust                                         \n",
                        "==============================================================================\n",
                        "                 coef    std err          t      P>|t|      [0.025      0.975]\n",
                        "------------------------------------------------------------------------------\n",
                        "const          7.2386      0.352     20.543      0.000       6.546       7.931\n",
                        "lwt           -0.5691      0.066     -8.660      0.000      -0.698      -0.440\n",
                        "year           0.0301      0.002     17.475      0.000       0.027       0.033\n",
                        "lhp           -0.2846      0.057     -5.009      0.000      -0.396      -0.173\n",
                        "USA           -0.0458      0.015     -2.979      0.003      -0.076      -0.016\n",
                        "laccel        -0.1799      0.058     -3.121      0.002      -0.293      -0.067\n",
                        "cylin         -0.0132      0.008     -1.666      0.097      -0.029       0.002\n",
                        "==============================================================================\n",
                        "Omnibus:                        7.737   Durbin-Watson:                   1.507\n",
                        "Prob(Omnibus):                  0.021   Jarque-Bera (JB):               11.868\n",
                        "Skew:                          -0.083   Prob(JB):                      0.00265\n",
                        "Kurtosis:                       3.837   Cond. No.                     4.78e+03\n",
                        "==============================================================================\n",
                        "\n",
                        "Notes:\n",
                        "[1] Standard Errors assume that the covariance matrix of the errors is correctly specified.\n",
                        "[2] The condition number is large, 4.78e+03. This might indicate that there are\n",
                        "strong multicollinearity or other numerical problems.\n"
                    ]
                }
            ],
            "source": [
                "x = sm.add_constant(dft[taken])\n",
                "y = dft['lmpg']\n",
                "results = sm.OLS(y, x).fit()\n",
                "print(results.summary())"
            ]
        },
        {
            "cell_type": "markdown",
            "id": "c0b9c1e0",
            "metadata": {
                "id": "desc-b4440606",
                "language": "markdown"
            },
            "source": [
                "Utilizza la funzione `plot_resid` definita precedentemente per visualizzare i grafici dei residui del modello finale ottenuto dalla selezione stepwise."
            ]
        },
        {
            "cell_type": "code",
            "execution_count": 65,
            "id": "c9894100",
            "metadata": {
                "id": "b4440606",
                "language": "python"
            },
            "outputs": [
                {
                    "data": {
                        "image/png": "[encoded data removed]",
                        "text/plain": [
                            "<Figure size 640x480 with 1 Axes>"
                        ]
                    },
                    "metadata": {},
                    "output_type": "display_data"
                },
                {
                    "data": {
                        "image/png": "[encoded data removed]",
                        "text/plain": [
                            "<Figure size 640x480 with 1 Axes>"
                        ]
                    },
                    "metadata": {},
                    "output_type": "display_data"
                },
                {
                    "data": {
                        "image/png": "[encoded data removed]",
                        "text/plain": [
                            "<Figure size 640x480 with 1 Axes>"
                        ]
                    },
                    "metadata": {},
                    "output_type": "display_data"
                },
                {
                    "data": {
                        "image/png": "[encoded data removed]",
                        "text/plain": [
                            "<Figure size 640x480 with 1 Axes>"
                        ]
                    },
                    "metadata": {},
                    "output_type": "display_data"
                },
                {
                    "data": {
                        "image/png": "[encoded data removed]",
                        "text/plain": [
                            "<Figure size 640x480 with 1 Axes>"
                        ]
                    },
                    "metadata": {},
                    "output_type": "display_data"
                },
                {
                    "data": {
                        "image/png": "[encoded data removed]",
                        "text/plain": [
                            "<Figure size 640x480 with 1 Axes>"
                        ]
                    },
                    "metadata": {},
                    "output_type": "display_data"
                },
                {
                    "data": {
                        "image/png": "[encoded data removed]",
                        "text/plain": [
                            "<Figure size 640x480 with 1 Axes>"
                        ]
                    },
                    "metadata": {},
                    "output_type": "display_data"
                }
            ],
            "source": [
                "plot_resid(x, results, skip_first=True)"
            ]
        },
        {
            "cell_type": "markdown",
            "id": "f3e17c47",
            "metadata": {
                "id": "1a3e7af5",
                "language": "markdown"
            },
            "source": [
                "https://www.statsmodels.org/stable/example_formulas.html"
            ]
        },
        {
            "cell_type": "markdown",
            "id": "2f4ecdd4",
            "metadata": {
                "id": "desc-20c48818",
                "language": "markdown"
            },
            "source": [
                "Importa `statsmodels.formula.api` come `smf` per utilizzare la sintassi delle formule stile R. Adatta un modello OLS usando una formula che include le variabili selezionate ('lwt', 'year', 'lhp', 'USA', 'laccel', 'cylin') per predire 'lmpg'. Stampa il sommario dei risultati."
            ]
        },
        {
            "cell_type": "code",
            "execution_count": 66,
            "id": "2b939dae",
            "metadata": {
                "id": "20c48818",
                "language": "python"
            },
            "outputs": [
                {
                    "name": "stdout",
                    "output_type": "stream",
                    "text": [
                        "                            OLS Regression Results                            \n",
                        "==============================================================================\n",
                        "Dep. Variable:                   lmpg   R-squared:                       0.891\n",
                        "Model:                            OLS   Adj. R-squared:                  0.890\n",
                        "Method:                 Least Squares   F-statistic:                     525.4\n",
                        "Date:                Sat, 10 May 2025   Prob (F-statistic):          1.11e-181\n",
                        "Time:                        09:06:40   Log-Likelihood:                 302.03\n",
                        "No. Observations:                 391   AIC:                            -590.1\n",
                        "Df Residuals:                     384   BIC:                            -562.3\n",
                        "Df Model:                           6                                         \n",
                        "Covariance Type:            nonrobust                                         \n",
                        "==============================================================================\n",
                        "                 coef    std err          t      P>|t|      [0.025      0.975]\n",
                        "------------------------------------------------------------------------------\n",
                        "Intercept      7.2386      0.352     20.543      0.000       6.546       7.931\n",
                        "lwt           -0.5691      0.066     -8.660      0.000      -0.698      -0.440\n",
                        "year           0.0301      0.002     17.475      0.000       0.027       0.033\n",
                        "lhp           -0.2846      0.057     -5.009      0.000      -0.396      -0.173\n",
                        "USA           -0.0458      0.015     -2.979      0.003      -0.076      -0.016\n",
                        "laccel        -0.1799      0.058     -3.121      0.002      -0.293      -0.067\n",
                        "cylin         -0.0132      0.008     -1.666      0.097      -0.029       0.002\n",
                        "==============================================================================\n",
                        "Omnibus:                        7.737   Durbin-Watson:                   1.507\n",
                        "Prob(Omnibus):                  0.021   Jarque-Bera (JB):               11.868\n",
                        "Skew:                          -0.083   Prob(JB):                      0.00265\n",
                        "Kurtosis:                       3.837   Cond. No.                     4.78e+03\n",
                        "==============================================================================\n",
                        "\n",
                        "Notes:\n",
                        "[1] Standard Errors assume that the covariance matrix of the errors is correctly specified.\n",
                        "[2] The condition number is large, 4.78e+03. This might indicate that there are\n",
                        "strong multicollinearity or other numerical problems.\n"
                    ]
                }
            ],
            "source": [
                "import statsmodels.formula.api as smf\n",
                "\n",
                "results = smf.ols(formula='lmpg ~ lwt + year + lhp + USA + laccel + cylin', data=dft).fit()\n",
                "print(results.summary())"
            ]
        },
        {
            "cell_type": "markdown",
            "id": "44e58d46",
            "metadata": {
                "id": "desc-f8d55060",
                "language": "markdown"
            },
            "source": [
                "Adatta un nuovo modello OLS aggiungendo un termine quadratico per la variabile 'year' (`I(year**2)`) alla formula precedente. Stampa il sommario dei risultati."
            ]
        },
        {
            "cell_type": "code",
            "execution_count": 67,
            "id": "ebd8343e",
            "metadata": {
                "id": "f8d55060",
                "language": "python"
            },
            "outputs": [
                {
                    "name": "stdout",
                    "output_type": "stream",
                    "text": [
                        "                            OLS Regression Results                            \n",
                        "==============================================================================\n",
                        "Dep. Variable:                   lmpg   R-squared:                       0.898\n",
                        "Model:                            OLS   Adj. R-squared:                  0.896\n",
                        "Method:                 Least Squares   F-statistic:                     482.5\n",
                        "Date:                Sat, 10 May 2025   Prob (F-statistic):          1.24e-185\n",
                        "Time:                        09:06:40   Log-Likelihood:                 314.58\n",
                        "No. Observations:                 391   AIC:                            -613.2\n",
                        "Df Residuals:                     383   BIC:                            -581.4\n",
                        "Df Model:                           7                                         \n",
                        "Covariance Type:            nonrobust                                         \n",
                        "================================================================================\n",
                        "                   coef    std err          t      P>|t|      [0.025      0.975]\n",
                        "--------------------------------------------------------------------------------\n",
                        "Intercept       20.4285      2.639      7.740      0.000      15.239      25.618\n",
                        "lwt             -0.5228      0.064     -8.121      0.000      -0.649      -0.396\n",
                        "year            -0.3244      0.070     -4.610      0.000      -0.463      -0.186\n",
                        "lhp             -0.3147      0.055     -5.678      0.000      -0.424      -0.206\n",
                        "USA             -0.0525      0.015     -3.509      0.001      -0.082      -0.023\n",
                        "laccel          -0.1689      0.056     -3.020      0.003      -0.279      -0.059\n",
                        "cylin           -0.0122      0.008     -1.578      0.115      -0.027       0.003\n",
                        "I(year ** 2)     0.0023      0.000      5.040      0.000       0.001       0.003\n",
                        "==============================================================================\n",
                        "Omnibus:                        6.896   Durbin-Watson:                   1.612\n",
                        "Prob(Omnibus):                  0.032   Jarque-Bera (JB):                8.822\n",
                        "Skew:                          -0.155   Prob(JB):                       0.0121\n",
                        "Kurtosis:                       3.667   Cond. No.                     2.78e+06\n",
                        "==============================================================================\n",
                        "\n",
                        "Notes:\n",
                        "[1] Standard Errors assume that the covariance matrix of the errors is correctly specified.\n",
                        "[2] The condition number is large, 2.78e+06. This might indicate that there are\n",
                        "strong multicollinearity or other numerical problems.\n"
                    ]
                }
            ],
            "source": [
                "results = smf.ols(formula='lmpg ~ lwt + year + lhp + USA + laccel + cylin + I(year**2)', data=dft).fit()\n",
                "print(results.summary())"
            ]
        },
        {
            "cell_type": "markdown",
            "id": "5a40c1ad",
            "metadata": {
                "id": "desc-d5c3b03f",
                "language": "markdown"
            },
            "source": [
                "Adatta un altro modello OLS aggiungendo un termine quadratico per 'cylin' (`I(cylin**2)`) alla formula che già include il termine quadratico per 'year'. Stampa il sommario e l'R-quadrato aggiustato."
            ]
        },
        {
            "cell_type": "code",
            "execution_count": 68,
            "id": "03260704",
            "metadata": {
                "id": "d5c3b03f",
                "language": "python"
            },
            "outputs": [
                {
                    "name": "stdout",
                    "output_type": "stream",
                    "text": [
                        "                            OLS Regression Results                            \n",
                        "==============================================================================\n",
                        "Dep. Variable:                   lmpg   R-squared:                       0.898\n",
                        "Model:                            OLS   Adj. R-squared:                  0.896\n",
                        "Method:                 Least Squares   F-statistic:                     421.2\n",
                        "Date:                Sat, 10 May 2025   Prob (F-statistic):          2.71e-184\n",
                        "Time:                        09:06:40   Log-Likelihood:                 314.62\n",
                        "No. Observations:                 391   AIC:                            -611.2\n",
                        "Df Residuals:                     382   BIC:                            -575.5\n",
                        "Df Model:                           8                                         \n",
                        "Covariance Type:            nonrobust                                         \n",
                        "=================================================================================\n",
                        "                    coef    std err          t      P>|t|      [0.025      0.975]\n",
                        "---------------------------------------------------------------------------------\n",
                        "Intercept        20.4163      2.643      7.725      0.000      15.220      25.613\n",
                        "lwt              -0.5208      0.065     -8.031      0.000      -0.648      -0.393\n",
                        "year             -0.3236      0.071     -4.588      0.000      -0.462      -0.185\n",
                        "lhp              -0.3170      0.056     -5.653      0.000      -0.427      -0.207\n",
                        "USA              -0.0518      0.015     -3.404      0.001      -0.082      -0.022\n",
                        "laccel           -0.1671      0.056     -2.966      0.003      -0.278      -0.056\n",
                        "cylin            -0.0240      0.042     -0.567      0.571      -0.107       0.059\n",
                        "I(year ** 2)      0.0023      0.000      5.016      0.000       0.001       0.003\n",
                        "I(cylin ** 2)     0.0010      0.004      0.284      0.776      -0.006       0.008\n",
                        "==============================================================================\n",
                        "Omnibus:                        7.200   Durbin-Watson:                   1.616\n",
                        "Prob(Omnibus):                  0.027   Jarque-Bera (JB):                9.372\n",
                        "Skew:                          -0.157   Prob(JB):                      0.00922\n",
                        "Kurtosis:                       3.690   Cond. No.                     2.78e+06\n",
                        "==============================================================================\n",
                        "\n",
                        "Notes:\n",
                        "[1] Standard Errors assume that the covariance matrix of the errors is correctly specified.\n",
                        "[2] The condition number is large, 2.78e+06. This might indicate that there are\n",
                        "strong multicollinearity or other numerical problems.\n",
                        "0.8960500959135653\n"
                    ]
                }
            ],
            "source": [
                "results = smf.ols(formula='lmpg ~ lwt + year + lhp + USA + laccel + cylin + I(year**2) + I(cylin**2)', data=dft).fit()\n",
                "print(results.summary())\n",
                "print(results.rsquared_adj)"
            ]
        },
        {
            "cell_type": "markdown",
            "id": "e08ccea9",
            "metadata": {
                "id": "desc-bf89c9fb",
                "language": "markdown"
            },
            "source": [
                "Prova un modello alternativo sostituendo il termine quadratico di 'cylin' con un termine quadratico per 'laccel' (`I(laccel**2)`). Stampa il sommario e l'R-quadrato aggiustato."
            ]
        },
        {
            "cell_type": "code",
            "execution_count": 69,
            "id": "703df11e",
            "metadata": {
                "id": "bf89c9fb",
                "language": "python"
            },
            "outputs": [
                {
                    "name": "stdout",
                    "output_type": "stream",
                    "text": [
                        "                            OLS Regression Results                            \n",
                        "==============================================================================\n",
                        "Dep. Variable:                   lmpg   R-squared:                       0.899\n",
                        "Model:                            OLS   Adj. R-squared:                  0.897\n",
                        "Method:                 Least Squares   F-statistic:                     426.9\n",
                        "Date:                Sat, 10 May 2025   Prob (F-statistic):          2.78e-185\n",
                        "Time:                        09:06:40   Log-Likelihood:                 316.96\n",
                        "No. Observations:                 391   AIC:                            -615.9\n",
                        "Df Residuals:                     382   BIC:                            -580.2\n",
                        "Df Model:                           8                                         \n",
                        "Covariance Type:            nonrobust                                         \n",
                        "==================================================================================\n",
                        "                     coef    std err          t      P>|t|      [0.025      0.975]\n",
                        "----------------------------------------------------------------------------------\n",
                        "Intercept         20.7752      2.632      7.894      0.000      15.601      25.950\n",
                        "lwt               -0.5368      0.064     -8.335      0.000      -0.663      -0.410\n",
                        "year              -0.2857      0.072     -3.953      0.000      -0.428      -0.144\n",
                        "lhp               -0.3001      0.056     -5.401      0.000      -0.409      -0.191\n",
                        "USA               -0.0497      0.015     -3.320      0.001      -0.079      -0.020\n",
                        "laccel            -1.4933      0.615     -2.428      0.016      -2.703      -0.284\n",
                        "cylin             -0.0141      0.008     -1.824      0.069      -0.029       0.001\n",
                        "I(year ** 2)       0.0021      0.000      4.381      0.000       0.001       0.003\n",
                        "I(laccel ** 2)     0.2452      0.113      2.162      0.031       0.022       0.468\n",
                        "==============================================================================\n",
                        "Omnibus:                        8.881   Durbin-Watson:                   1.647\n",
                        "Prob(Omnibus):                  0.012   Jarque-Bera (JB):               11.307\n",
                        "Skew:                          -0.215   Prob(JB):                      0.00351\n",
                        "Kurtosis:                       3.713   Cond. No.                     2.78e+06\n",
                        "==============================================================================\n",
                        "\n",
                        "Notes:\n",
                        "[1] Standard Errors assume that the covariance matrix of the errors is correctly specified.\n",
                        "[2] The condition number is large, 2.78e+06. This might indicate that there are\n",
                        "strong multicollinearity or other numerical problems.\n",
                        "0.8972854744453268\n"
                    ]
                }
            ],
            "source": [
                "results = smf.ols(formula='lmpg ~ lwt + year + lhp + USA + laccel + cylin + I(year**2) + I(laccel**2)', data=dft).fit()\n",
                "print(results.summary())\n",
                "print(results.rsquared_adj)"
            ]
        },
        {
            "cell_type": "markdown",
            "id": "016c5294",
            "metadata": {
                "id": "desc-37cc0f20",
                "language": "markdown"
            },
            "source": [
                "Aggiunge un termine di interazione tra 'lwt' e 'year' (`lwt * year`) al modello precedente che include i termini quadratici per 'year' e 'laccel'. Stampa il sommario e l'R-quadrato aggiustato."
            ]
        },
        {
            "cell_type": "code",
            "execution_count": 70,
            "id": "9374c981",
            "metadata": {
                "id": "37cc0f20",
                "language": "python"
            },
            "outputs": [
                {
                    "name": "stdout",
                    "output_type": "stream",
                    "text": [
                        "                            OLS Regression Results                            \n",
                        "==============================================================================\n",
                        "Dep. Variable:                   lmpg   R-squared:                       0.900\n",
                        "Model:                            OLS   Adj. R-squared:                  0.897\n",
                        "Method:                 Least Squares   F-statistic:                     380.3\n",
                        "Date:                Sat, 10 May 2025   Prob (F-statistic):          2.58e-184\n",
                        "Time:                        09:06:40   Log-Likelihood:                 317.81\n",
                        "No. Observations:                 391   AIC:                            -615.6\n",
                        "Df Residuals:                     381   BIC:                            -575.9\n",
                        "Df Model:                           9                                         \n",
                        "Covariance Type:            nonrobust                                         \n",
                        "==================================================================================\n",
                        "                     coef    std err          t      P>|t|      [0.025      0.975]\n",
                        "----------------------------------------------------------------------------------\n",
                        "Intercept         27.0665      5.536      4.889      0.000      16.182      37.951\n",
                        "lwt               -1.1709      0.495     -2.364      0.019      -2.145      -0.197\n",
                        "year              -0.3820      0.104     -3.681      0.000      -0.586      -0.178\n",
                        "lwt:year           0.0085      0.007      1.291      0.197      -0.004       0.021\n",
                        "lhp               -0.3080      0.056     -5.514      0.000      -0.418      -0.198\n",
                        "USA               -0.0507      0.015     -3.389      0.001      -0.080      -0.021\n",
                        "laccel            -1.5823      0.618     -2.559      0.011      -2.798      -0.367\n",
                        "cylin             -0.0138      0.008     -1.788      0.075      -0.029       0.001\n",
                        "I(year ** 2)       0.0023      0.000      4.570      0.000       0.001       0.003\n",
                        "I(laccel ** 2)     0.2581      0.114      2.270      0.024       0.035       0.482\n",
                        "==============================================================================\n",
                        "Omnibus:                       10.565   Durbin-Watson:                   1.656\n",
                        "Prob(Omnibus):                  0.005   Jarque-Bera (JB):               13.481\n",
                        "Skew:                          -0.256   Prob(JB):                      0.00118\n",
                        "Kurtosis:                       3.752   Cond. No.                     5.90e+06\n",
                        "==============================================================================\n",
                        "\n",
                        "Notes:\n",
                        "[1] Standard Errors assume that the covariance matrix of the errors is correctly specified.\n",
                        "[2] The condition number is large, 5.9e+06. This might indicate that there are\n",
                        "strong multicollinearity or other numerical problems.\n",
                        "0.8974647367426475\n"
                    ]
                }
            ],
            "source": [
                "results = smf.ols(formula='lmpg ~ lwt * year + lhp + USA + laccel + cylin + I(year**2) + I(laccel**2)', data=dft).fit()\n",
                "print(results.summary())\n",
                "print(results.rsquared_adj)"
            ]
        },
        {
            "cell_type": "markdown",
            "id": "d1b9359f",
            "metadata": {
                "id": "desc-5739959a",
                "language": "markdown"
            },
            "source": [
                "Definisce la formula del modello finale, che include l'interazione 'lwt*year' e i termini quadratici 'I(year**2)' e 'I(laccel**2)'. Adatta il modello OLS con questa formula e stampa il sommario dei risultati."
            ]
        },
        {
            "cell_type": "code",
            "execution_count": 71,
            "id": "fe68615f",
            "metadata": {
                "id": "5739959a",
                "language": "python"
            },
            "outputs": [
                {
                    "name": "stdout",
                    "output_type": "stream",
                    "text": [
                        "                            OLS Regression Results                            \n",
                        "==============================================================================\n",
                        "Dep. Variable:                   lmpg   R-squared:                       0.900\n",
                        "Model:                            OLS   Adj. R-squared:                  0.897\n",
                        "Method:                 Least Squares   F-statistic:                     380.3\n",
                        "Date:                Sat, 10 May 2025   Prob (F-statistic):          2.58e-184\n",
                        "Time:                        09:06:40   Log-Likelihood:                 317.81\n",
                        "No. Observations:                 391   AIC:                            -615.6\n",
                        "Df Residuals:                     381   BIC:                            -575.9\n",
                        "Df Model:                           9                                         \n",
                        "Covariance Type:            nonrobust                                         \n",
                        "==================================================================================\n",
                        "                     coef    std err          t      P>|t|      [0.025      0.975]\n",
                        "----------------------------------------------------------------------------------\n",
                        "Intercept         27.0665      5.536      4.889      0.000      16.182      37.951\n",
                        "lwt               -1.1709      0.495     -2.364      0.019      -2.145      -0.197\n",
                        "year              -0.3820      0.104     -3.681      0.000      -0.586      -0.178\n",
                        "lwt:year           0.0085      0.007      1.291      0.197      -0.004       0.021\n",
                        "lhp               -0.3080      0.056     -5.514      0.000      -0.418      -0.198\n",
                        "USA               -0.0507      0.015     -3.389      0.001      -0.080      -0.021\n",
                        "laccel            -1.5823      0.618     -2.559      0.011      -2.798      -0.367\n",
                        "cylin             -0.0138      0.008     -1.788      0.075      -0.029       0.001\n",
                        "I(year ** 2)       0.0023      0.000      4.570      0.000       0.001       0.003\n",
                        "I(laccel ** 2)     0.2581      0.114      2.270      0.024       0.035       0.482\n",
                        "==============================================================================\n",
                        "Omnibus:                       10.565   Durbin-Watson:                   1.656\n",
                        "Prob(Omnibus):                  0.005   Jarque-Bera (JB):               13.481\n",
                        "Skew:                          -0.256   Prob(JB):                      0.00118\n",
                        "Kurtosis:                       3.752   Cond. No.                     5.90e+06\n",
                        "==============================================================================\n",
                        "\n",
                        "Notes:\n",
                        "[1] Standard Errors assume that the covariance matrix of the errors is correctly specified.\n",
                        "[2] The condition number is large, 5.9e+06. This might indicate that there are\n",
                        "strong multicollinearity or other numerical problems.\n"
                    ]
                }
            ],
            "source": [
                "# Modello finale\n",
                "\n",
                "formula = 'lmpg ~ lwt * year + lhp + USA + laccel + cylin + I(year**2) + I(laccel**2)'\n",
                "model = smf.ols(formula=formula, data=dft)\n",
                "results = model.fit()\n",
                "print(results.summary())"
            ]
        },
        {
            "cell_type": "markdown",
            "id": "8673cb89",
            "metadata": {
                "id": "desc-9fbfb316",
                "language": "markdown"
            },
            "source": [
                "Calcola la somma dei quadrati dei residui (SSR) per il modello finale sui dati di training `dft`, confrontando le predizioni del modello con i valori effettivi di 'lmpg'."
            ]
        },
        {
            "cell_type": "code",
            "execution_count": 72,
            "id": "0c60d106",
            "metadata": {
                "id": "9fbfb316",
                "language": "python"
            },
            "outputs": [
                {
                    "data": {
                        "text/plain": [
                            "np.float64(4.5049969190397)"
                        ]
                    },
                    "execution_count": 72,
                    "metadata": {},
                    "output_type": "execute_result"
                }
            ],
            "source": [
                "np.sum((results.predict(dft) - dft['lmpg']) ** 2)"
            ]
        },
        {
            "cell_type": "markdown",
            "id": "5c452108",
            "metadata": {
                "id": "desc-e9d35afd",
                "language": "markdown"
            },
            "source": [
                "Calcola la somma dei quadrati dei residui (SSR) utilizzando l'attributo `mse_resid` (errore quadratico medio dei residui) e `df_resid` (gradi di libertà dei residui) del modello. Questo dovrebbe dare lo stesso risultato della cella precedente."
            ]
        },
        {
            "cell_type": "code",
            "execution_count": 73,
            "id": "4d9a50d2",
            "metadata": {
                "id": "e9d35afd",
                "language": "python"
            },
            "outputs": [
                {
                    "data": {
                        "text/plain": [
                            "np.float64(4.504996919039699)"
                        ]
                    },
                    "execution_count": 73,
                    "metadata": {},
                    "output_type": "execute_result"
                }
            ],
            "source": [
                "results.mse_resid * results.df_resid"
            ]
        },
        {
            "cell_type": "markdown",
            "id": "534a679a",
            "metadata": {
                "id": "desc-12f969f9",
                "language": "markdown"
            },
            "source": [
                "Verifica che `results.predict()` applicato ai dati di training `dft` produca predizioni consistenti. Stampa la SSR calcolata manualmente e quella ottenuta dagli attributi del modello per confronto."
            ]
        },
        {
            "cell_type": "code",
            "execution_count": 74,
            "id": "5d7fb5eb",
            "metadata": {
                "id": "12f969f9",
                "language": "python"
            },
            "outputs": [
                {
                    "name": "stdout",
                    "output_type": "stream",
                    "text": [
                        "4.505\n",
                        "4.505\n"
                    ]
                }
            ],
            "source": [
                "# results.predict() fa la cosa attesa, ovvero applica la stessa formula ai nuovi dati\n",
                "\n",
                "print(f'{np.sum((results.predict(dft) - dft[\"lmpg\"])**2):g}')\n",
                "print(f'{results.mse_resid * results.df_resid:g}')"
            ]
        },
        {
            "cell_type": "markdown",
            "id": "e4e8d3fd",
            "metadata": {
                "id": "desc-0b281069",
                "language": "markdown"
            },
            "source": [
                "Visualizza il DataFrame `dfn`, che contiene i nuovi dati per i quali si vogliono fare previsioni."
            ]
        },
        {
            "cell_type": "code",
            "execution_count": 75,
            "id": "b322a4e8",
            "metadata": {
                "id": "0b281069",
                "language": "python"
            },
            "outputs": [
                {
                    "data": {
                        "text/html": [
                            "<div>\n",
                            "<style scoped>\n",
                            "    .dataframe tbody tr th:only-of-type {\n",
                            "        vertical-align: middle;\n",
                            "    }\n",
                            "\n",
                            "    .dataframe tbody tr th {\n",
                            "        vertical-align: top;\n",
                            "    }\n",
                            "\n",
                            "    .dataframe thead th {\n",
                            "        text-align: right;\n",
                            "    }\n",
                            "</style>\n",
                            "<table border=\"1\" class=\"dataframe\">\n",
                            "  <thead>\n",
                            "    <tr style=\"text-align: right;\">\n",
                            "      <th></th>\n",
                            "      <th>cylin</th>\n",
                            "      <th>year</th>\n",
                            "      <th>ldisp</th>\n",
                            "      <th>lhp</th>\n",
                            "      <th>lwt</th>\n",
                            "      <th>laccel</th>\n",
                            "      <th>USA</th>\n",
                            "      <th>EU</th>\n",
                            "    </tr>\n",
                            "    <tr>\n",
                            "      <th>id</th>\n",
                            "      <th></th>\n",
                            "      <th></th>\n",
                            "      <th></th>\n",
                            "      <th></th>\n",
                            "      <th></th>\n",
                            "      <th></th>\n",
                            "      <th></th>\n",
                            "      <th></th>\n",
                            "    </tr>\n",
                            "  </thead>\n",
                            "  <tbody>\n",
                            "    <tr>\n",
                            "      <th>11</th>\n",
                            "      <td>4.0</td>\n",
                            "      <td>70.0</td>\n",
                            "      <td>4.890349</td>\n",
                            "      <td>4.744932</td>\n",
                            "      <td>8.035926</td>\n",
                            "      <td>2.862201</td>\n",
                            "      <td>0</td>\n",
                            "      <td>1</td>\n",
                            "    </tr>\n",
                            "    <tr>\n",
                            "      <th>12</th>\n",
                            "      <td>8.0</td>\n",
                            "      <td>70.0</td>\n",
                            "      <td>5.857933</td>\n",
                            "      <td>5.105945</td>\n",
                            "      <td>8.328934</td>\n",
                            "      <td>2.442347</td>\n",
                            "      <td>1</td>\n",
                            "      <td>0</td>\n",
                            "    </tr>\n",
                            "    <tr>\n",
                            "      <th>13</th>\n",
                            "      <td>8.0</td>\n",
                            "      <td>70.0</td>\n",
                            "      <td>5.860786</td>\n",
                            "      <td>5.030438</td>\n",
                            "      <td>8.302514</td>\n",
                            "      <td>2.397895</td>\n",
                            "      <td>1</td>\n",
                            "      <td>0</td>\n",
                            "    </tr>\n",
                            "    <tr>\n",
                            "      <th>14</th>\n",
                            "      <td>8.0</td>\n",
                            "      <td>70.0</td>\n",
                            "      <td>5.948035</td>\n",
                            "      <td>5.164786</td>\n",
                            "      <td>8.334712</td>\n",
                            "      <td>2.351375</td>\n",
                            "      <td>1</td>\n",
                            "      <td>0</td>\n",
                            "    </tr>\n",
                            "    <tr>\n",
                            "      <th>15</th>\n",
                            "      <td>8.0</td>\n",
                            "      <td>70.0</td>\n",
                            "      <td>5.886104</td>\n",
                            "      <td>5.164786</td>\n",
                            "      <td>8.255828</td>\n",
                            "      <td>2.397895</td>\n",
                            "      <td>1</td>\n",
                            "      <td>0</td>\n",
                            "    </tr>\n",
                            "    <tr>\n",
                            "      <th>18</th>\n",
                            "      <td>8.0</td>\n",
                            "      <td>70.0</td>\n",
                            "      <td>5.710427</td>\n",
                            "      <td>4.941642</td>\n",
                            "      <td>8.117611</td>\n",
                            "      <td>2.079442</td>\n",
                            "      <td>1</td>\n",
                            "      <td>0</td>\n",
                            "    </tr>\n",
                            "    <tr>\n",
                            "      <th>40</th>\n",
                            "      <td>4.0</td>\n",
                            "      <td>71.0</td>\n",
                            "      <td>4.574711</td>\n",
                            "      <td>3.871201</td>\n",
                            "      <td>7.589842</td>\n",
                            "      <td>2.995732</td>\n",
                            "      <td>0</td>\n",
                            "      <td>1</td>\n",
                            "    </tr>\n",
                            "    <tr>\n",
                            "      <th>367</th>\n",
                            "      <td>4.0</td>\n",
                            "      <td>81.0</td>\n",
                            "      <td>4.795791</td>\n",
                            "      <td>4.700480</td>\n",
                            "      <td>7.937375</td>\n",
                            "      <td>2.734368</td>\n",
                            "      <td>0</td>\n",
                            "      <td>1</td>\n",
                            "    </tr>\n",
                            "  </tbody>\n",
                            "</table>\n",
                            "</div>"
                        ],
                        "text/plain": [
                            "     cylin  year     ldisp       lhp       lwt    laccel  USA  EU\n",
                            "id                                                               \n",
                            "11     4.0  70.0  4.890349  4.744932  8.035926  2.862201    0   1\n",
                            "12     8.0  70.0  5.857933  5.105945  8.328934  2.442347    1   0\n",
                            "13     8.0  70.0  5.860786  5.030438  8.302514  2.397895    1   0\n",
                            "14     8.0  70.0  5.948035  5.164786  8.334712  2.351375    1   0\n",
                            "15     8.0  70.0  5.886104  5.164786  8.255828  2.397895    1   0\n",
                            "18     8.0  70.0  5.710427  4.941642  8.117611  2.079442    1   0\n",
                            "40     4.0  71.0  4.574711  3.871201  7.589842  2.995732    0   1\n",
                            "367    4.0  81.0  4.795791  4.700480  7.937375  2.734368    0   1"
                        ]
                    },
                    "execution_count": 75,
                    "metadata": {},
                    "output_type": "execute_result"
                }
            ],
            "source": [
                "dfn"
            ]
        },
        {
            "cell_type": "markdown",
            "id": "58c79101",
            "metadata": {
                "id": "desc-168e2674",
                "language": "markdown"
            },
            "source": [
                "Utilizza il modello finale (`results`) per fare previsioni puntuali della variabile 'lmpg' per i nuovi dati contenuti in `dfn`."
            ]
        },
        {
            "cell_type": "code",
            "execution_count": 76,
            "id": "51ea3f38",
            "metadata": {
                "id": "168e2674",
                "language": "python"
            },
            "outputs": [
                {
                    "data": {
                        "text/plain": [
                            "id\n",
                            "11     2.899372\n",
                            "12     2.603046\n",
                            "13     2.656301\n",
                            "14     2.612969\n",
                            "15     2.641780\n",
                            "18     2.925869\n",
                            "40     3.418562\n",
                            "367    3.299953\n",
                            "dtype: float64"
                        ]
                    },
                    "execution_count": 76,
                    "metadata": {},
                    "output_type": "execute_result"
                }
            ],
            "source": [
                "# Previsioni puntuali per lmpg\n",
                "\n",
                "results.predict(dfn)"
            ]
        },
        {
            "cell_type": "markdown",
            "id": "0dbe6603",
            "metadata": {
                "id": "desc-7118d0c7",
                "language": "markdown"
            },
            "source": [
                "Calcola gli intervalli di confidenza al 95% per le previsioni medie delle risposte future (`lmpg`) sui nuovi dati `dfn`. Utilizza il metodo `get_prediction()` e `conf_int()`."
            ]
        },
        {
            "cell_type": "code",
            "execution_count": 77,
            "id": "98f656e5",
            "metadata": {
                "id": "7118d0c7",
                "language": "python"
            },
            "outputs": [
                {
                    "name": "stdout",
                    "output_type": "stream",
                    "text": [
                        "[[2.85092556 2.94781884]\n",
                        " [2.56802707 2.6380643 ]\n",
                        " [2.61893288 2.69366969]\n",
                        " [2.57527505 2.65066208]\n",
                        " [2.60830093 2.67525839]\n",
                        " [2.83359855 3.01814   ]\n",
                        " [3.36855936 3.4685647 ]\n",
                        " [3.26307991 3.33682665]]\n"
                    ]
                }
            ],
            "source": [
                "# Facciamo un intervallo di predizione per risposte future\n",
                "\n",
                "conf = 0.95\n",
                "alpha = 1 - conf\n",
                "pred = results.get_prediction(dfn)\n",
                "pred_ci = pred.conf_int(alpha=alpha)\n",
                "print(pred_ci)"
            ]
        },
        {
            "cell_type": "markdown",
            "id": "4e1b49b3",
            "metadata": {
                "id": "desc-06f70aa8",
                "language": "markdown"
            },
            "source": [
                "Importa la distribuzione t da `scipy.stats`. Calcola il quantile `q` della distribuzione t (per un intervallo di confidenza del 95% e i gradi di libertà dei residui del modello) e la deviazione standard dei residui `Se`."
            ]
        },
        {
            "cell_type": "code",
            "execution_count": 78,
            "id": "e0eaf87b",
            "metadata": {
                "id": "06f70aa8",
                "language": "python"
            },
            "outputs": [],
            "source": [
                "from scipy.stats import t\n",
                "\n",
                "q = t.ppf(1-alpha/2, results.df_resid) # 1.9662099\n",
                "Se = np.sqrt(results.mse_resid)        # 0.1087389"
            ]
        },
        {
            "cell_type": "markdown",
            "id": "f2d825e1",
            "metadata": {
                "id": "desc-5b0605ce",
                "language": "markdown"
            },
            "source": [
                "Visualizza la stringa della formula utilizzata per il modello finale."
            ]
        },
        {
            "cell_type": "code",
            "execution_count": 79,
            "id": "507fd24f",
            "metadata": {
                "id": "5b0605ce",
                "language": "python"
            },
            "outputs": [
                {
                    "data": {
                        "text/plain": [
                            "'lmpg ~ lwt * year + lhp + USA + laccel + cylin + I(year**2) + I(laccel**2)'"
                        ]
                    },
                    "execution_count": 79,
                    "metadata": {},
                    "output_type": "execute_result"
                }
            ],
            "source": [
                "formula"
            ]
        },
        {
            "cell_type": "markdown",
            "id": "008e2f8b",
            "metadata": {
                "id": "desc-3ffd42cc",
                "language": "markdown"
            },
            "source": [
                "Crea una copia del DataFrame di training `dft` chiamata `dft2`. Aggiunge manualmente le colonne per i termini di interazione ('lwt*year') e i termini quadratici ('year2', 'laccel2') presenti nella formula del modello finale. Visualizza `dft2`."
            ]
        },
        {
            "cell_type": "code",
            "execution_count": 80,
            "id": "bd282fd3",
            "metadata": {
                "id": "3ffd42cc",
                "language": "python"
            },
            "outputs": [
                {
                    "data": {
                        "text/html": [
                            "<div>\n",
                            "<style scoped>\n",
                            "    .dataframe tbody tr th:only-of-type {\n",
                            "        vertical-align: middle;\n",
                            "    }\n",
                            "\n",
                            "    .dataframe tbody tr th {\n",
                            "        vertical-align: top;\n",
                            "    }\n",
                            "\n",
                            "    .dataframe thead th {\n",
                            "        text-align: right;\n",
                            "    }\n",
                            "</style>\n",
                            "<table border=\"1\" class=\"dataframe\">\n",
                            "  <thead>\n",
                            "    <tr style=\"text-align: right;\">\n",
                            "      <th></th>\n",
                            "      <th>cylin</th>\n",
                            "      <th>year</th>\n",
                            "      <th>lmpg</th>\n",
                            "      <th>ldisp</th>\n",
                            "      <th>lhp</th>\n",
                            "      <th>lwt</th>\n",
                            "      <th>laccel</th>\n",
                            "      <th>USA</th>\n",
                            "      <th>EU</th>\n",
                            "      <th>JP</th>\n",
                            "      <th>lwt*year</th>\n",
                            "      <th>year2</th>\n",
                            "      <th>laccel2</th>\n",
                            "    </tr>\n",
                            "    <tr>\n",
                            "      <th>id</th>\n",
                            "      <th></th>\n",
                            "      <th></th>\n",
                            "      <th></th>\n",
                            "      <th></th>\n",
                            "      <th></th>\n",
                            "      <th></th>\n",
                            "      <th></th>\n",
                            "      <th></th>\n",
                            "      <th></th>\n",
                            "      <th></th>\n",
                            "      <th></th>\n",
                            "      <th></th>\n",
                            "      <th></th>\n",
                            "    </tr>\n",
                            "  </thead>\n",
                            "  <tbody>\n",
                            "    <tr>\n",
                            "      <th>1</th>\n",
                            "      <td>8.0</td>\n",
                            "      <td>70.0</td>\n",
                            "      <td>2.890372</td>\n",
                            "      <td>5.726848</td>\n",
                            "      <td>4.867534</td>\n",
                            "      <td>8.161660</td>\n",
                            "      <td>2.484907</td>\n",
                            "      <td>1</td>\n",
                            "      <td>0</td>\n",
                            "      <td>0</td>\n",
                            "      <td>571.316232</td>\n",
                            "      <td>4900.0</td>\n",
                            "      <td>6.174761</td>\n",
                            "    </tr>\n",
                            "    <tr>\n",
                            "      <th>2</th>\n",
                            "      <td>8.0</td>\n",
                            "      <td>70.0</td>\n",
                            "      <td>2.708050</td>\n",
                            "      <td>5.857933</td>\n",
                            "      <td>5.105945</td>\n",
                            "      <td>8.214194</td>\n",
                            "      <td>2.442347</td>\n",
                            "      <td>1</td>\n",
                            "      <td>0</td>\n",
                            "      <td>0</td>\n",
                            "      <td>574.993609</td>\n",
                            "      <td>4900.0</td>\n",
                            "      <td>5.965059</td>\n",
                            "    </tr>\n",
                            "    <tr>\n",
                            "      <th>3</th>\n",
                            "      <td>8.0</td>\n",
                            "      <td>70.0</td>\n",
                            "      <td>2.890372</td>\n",
                            "      <td>5.762051</td>\n",
                            "      <td>5.010635</td>\n",
                            "      <td>8.142063</td>\n",
                            "      <td>2.397895</td>\n",
                            "      <td>1</td>\n",
                            "      <td>0</td>\n",
                            "      <td>0</td>\n",
                            "      <td>569.944430</td>\n",
                            "      <td>4900.0</td>\n",
                            "      <td>5.749902</td>\n",
                            "    </tr>\n",
                            "    <tr>\n",
                            "      <th>4</th>\n",
                            "      <td>8.0</td>\n",
                            "      <td>70.0</td>\n",
                            "      <td>2.772589</td>\n",
                            "      <td>5.717028</td>\n",
                            "      <td>5.010635</td>\n",
                            "      <td>8.141190</td>\n",
                            "      <td>2.484907</td>\n",
                            "      <td>1</td>\n",
                            "      <td>0</td>\n",
                            "      <td>0</td>\n",
                            "      <td>569.883286</td>\n",
                            "      <td>4900.0</td>\n",
                            "      <td>6.174761</td>\n",
                            "    </tr>\n",
                            "    <tr>\n",
                            "      <th>5</th>\n",
                            "      <td>8.0</td>\n",
                            "      <td>70.0</td>\n",
                            "      <td>2.833213</td>\n",
                            "      <td>5.710427</td>\n",
                            "      <td>4.941642</td>\n",
                            "      <td>8.145840</td>\n",
                            "      <td>2.351375</td>\n",
                            "      <td>1</td>\n",
                            "      <td>0</td>\n",
                            "      <td>0</td>\n",
                            "      <td>570.208773</td>\n",
                            "      <td>4900.0</td>\n",
                            "      <td>5.528966</td>\n",
                            "    </tr>\n",
                            "    <tr>\n",
                            "      <th>...</th>\n",
                            "      <td>...</td>\n",
                            "      <td>...</td>\n",
                            "      <td>...</td>\n",
                            "      <td>...</td>\n",
                            "      <td>...</td>\n",
                            "      <td>...</td>\n",
                            "      <td>...</td>\n",
                            "      <td>...</td>\n",
                            "      <td>...</td>\n",
                            "      <td>...</td>\n",
                            "      <td>...</td>\n",
                            "      <td>...</td>\n",
                            "      <td>...</td>\n",
                            "    </tr>\n",
                            "    <tr>\n",
                            "      <th>401</th>\n",
                            "      <td>4.0</td>\n",
                            "      <td>82.0</td>\n",
                            "      <td>3.295837</td>\n",
                            "      <td>4.941642</td>\n",
                            "      <td>4.454347</td>\n",
                            "      <td>7.933797</td>\n",
                            "      <td>2.747271</td>\n",
                            "      <td>1</td>\n",
                            "      <td>0</td>\n",
                            "      <td>0</td>\n",
                            "      <td>650.571344</td>\n",
                            "      <td>6724.0</td>\n",
                            "      <td>7.547497</td>\n",
                            "    </tr>\n",
                            "    <tr>\n",
                            "      <th>402</th>\n",
                            "      <td>4.0</td>\n",
                            "      <td>82.0</td>\n",
                            "      <td>3.784190</td>\n",
                            "      <td>4.574711</td>\n",
                            "      <td>3.951244</td>\n",
                            "      <td>7.663877</td>\n",
                            "      <td>3.202746</td>\n",
                            "      <td>0</td>\n",
                            "      <td>1</td>\n",
                            "      <td>0</td>\n",
                            "      <td>628.437935</td>\n",
                            "      <td>6724.0</td>\n",
                            "      <td>10.257585</td>\n",
                            "    </tr>\n",
                            "    <tr>\n",
                            "      <th>403</th>\n",
                            "      <td>4.0</td>\n",
                            "      <td>82.0</td>\n",
                            "      <td>3.465736</td>\n",
                            "      <td>4.905275</td>\n",
                            "      <td>4.430817</td>\n",
                            "      <td>7.738488</td>\n",
                            "      <td>2.451005</td>\n",
                            "      <td>1</td>\n",
                            "      <td>0</td>\n",
                            "      <td>0</td>\n",
                            "      <td>634.556026</td>\n",
                            "      <td>6724.0</td>\n",
                            "      <td>6.007426</td>\n",
                            "    </tr>\n",
                            "    <tr>\n",
                            "      <th>404</th>\n",
                            "      <td>4.0</td>\n",
                            "      <td>82.0</td>\n",
                            "      <td>3.332205</td>\n",
                            "      <td>4.787492</td>\n",
                            "      <td>4.369448</td>\n",
                            "      <td>7.872836</td>\n",
                            "      <td>2.923162</td>\n",
                            "      <td>1</td>\n",
                            "      <td>0</td>\n",
                            "      <td>0</td>\n",
                            "      <td>645.572566</td>\n",
                            "      <td>6724.0</td>\n",
                            "      <td>8.544874</td>\n",
                            "    </tr>\n",
                            "    <tr>\n",
                            "      <th>405</th>\n",
                            "      <td>4.0</td>\n",
                            "      <td>82.0</td>\n",
                            "      <td>3.433987</td>\n",
                            "      <td>4.779123</td>\n",
                            "      <td>4.406719</td>\n",
                            "      <td>7.908387</td>\n",
                            "      <td>2.965273</td>\n",
                            "      <td>1</td>\n",
                            "      <td>0</td>\n",
                            "      <td>0</td>\n",
                            "      <td>648.487747</td>\n",
                            "      <td>6724.0</td>\n",
                            "      <td>8.792844</td>\n",
                            "    </tr>\n",
                            "  </tbody>\n",
                            "</table>\n",
                            "<p>391 rows × 13 columns</p>\n",
                            "</div>"
                        ],
                        "text/plain": [
                            "     cylin  year      lmpg     ldisp       lhp       lwt    laccel  USA  EU  \\\n",
                            "id                                                                            \n",
                            "1      8.0  70.0  2.890372  5.726848  4.867534  8.161660  2.484907    1   0   \n",
                            "2      8.0  70.0  2.708050  5.857933  5.105945  8.214194  2.442347    1   0   \n",
                            "3      8.0  70.0  2.890372  5.762051  5.010635  8.142063  2.397895    1   0   \n",
                            "4      8.0  70.0  2.772589  5.717028  5.010635  8.141190  2.484907    1   0   \n",
                            "5      8.0  70.0  2.833213  5.710427  4.941642  8.145840  2.351375    1   0   \n",
                            "..     ...   ...       ...       ...       ...       ...       ...  ...  ..   \n",
                            "401    4.0  82.0  3.295837  4.941642  4.454347  7.933797  2.747271    1   0   \n",
                            "402    4.0  82.0  3.784190  4.574711  3.951244  7.663877  3.202746    0   1   \n",
                            "403    4.0  82.0  3.465736  4.905275  4.430817  7.738488  2.451005    1   0   \n",
                            "404    4.0  82.0  3.332205  4.787492  4.369448  7.872836  2.923162    1   0   \n",
                            "405    4.0  82.0  3.433987  4.779123  4.406719  7.908387  2.965273    1   0   \n",
                            "\n",
                            "     JP    lwt*year   year2    laccel2  \n",
                            "id                                      \n",
                            "1     0  571.316232  4900.0   6.174761  \n",
                            "2     0  574.993609  4900.0   5.965059  \n",
                            "3     0  569.944430  4900.0   5.749902  \n",
                            "4     0  569.883286  4900.0   6.174761  \n",
                            "5     0  570.208773  4900.0   5.528966  \n",
                            "..   ..         ...     ...        ...  \n",
                            "401   0  650.571344  6724.0   7.547497  \n",
                            "402   0  628.437935  6724.0  10.257585  \n",
                            "403   0  634.556026  6724.0   6.007426  \n",
                            "404   0  645.572566  6724.0   8.544874  \n",
                            "405   0  648.487747  6724.0   8.792844  \n",
                            "\n",
                            "[391 rows x 13 columns]"
                        ]
                    },
                    "execution_count": 80,
                    "metadata": {},
                    "output_type": "execute_result"
                }
            ],
            "source": [
                "dft2 = dft.copy()\n",
                "dft2['lwt*year'] = dft2['lwt'] * dft2['year']\n",
                "dft2['year2'] = dft2['year'] ** 2\n",
                "dft2['laccel2'] = dft2['laccel'] ** 2\n",
                "dft2"
            ]
        },
        {
            "cell_type": "markdown",
            "id": "a6b4bc79",
            "metadata": {
                "id": "desc-b2e58dc7",
                "language": "markdown"
            },
            "source": [
                "Visualizza nuovamente la stringa della formula per riferimento."
            ]
        },
        {
            "cell_type": "code",
            "execution_count": 81,
            "id": "000a2818",
            "metadata": {
                "id": "b2e58dc7",
                "language": "python"
            },
            "outputs": [
                {
                    "data": {
                        "text/plain": [
                            "'lmpg ~ lwt * year + lhp + USA + laccel + cylin + I(year**2) + I(laccel**2)'"
                        ]
                    },
                    "execution_count": 81,
                    "metadata": {},
                    "output_type": "execute_result"
                }
            ],
            "source": [
                "formula"
            ]
        },
        {
            "cell_type": "markdown",
            "id": "b1e88562",
            "metadata": {
                "id": "desc-44cd7abf",
                "language": "markdown"
            },
            "source": [
                "Definisce una lista `vars` contenente i nomi delle colonne (incluse quelle create per interazioni e termini quadratici) che compongono la matrice dei predittori per il calcolo manuale."
            ]
        },
        {
            "cell_type": "code",
            "execution_count": 82,
            "id": "888519b5",
            "metadata": {
                "id": "44cd7abf",
                "language": "python"
            },
            "outputs": [],
            "source": [
                "vars = ['cylin', 'year', 'lhp', 'lwt', 'laccel', 'USA', 'lwt*year', 'year2', 'laccel2']"
            ]
        },
        {
            "cell_type": "markdown",
            "id": "a07a9f6b",
            "metadata": {
                "id": "desc-983f268d",
                "language": "markdown"
            },
            "source": [
                "Crea la matrice del disegno `X` per i dati di training `dft2` selezionando le colonne specificate in `vars` e aggiungendo una costante (intercetta). Visualizza la matrice `X`."
            ]
        },
        {
            "cell_type": "code",
            "execution_count": 83,
            "id": "55008631",
            "metadata": {
                "id": "983f268d",
                "language": "python"
            },
            "outputs": [
                {
                    "data": {
                        "text/html": [
                            "<div>\n",
                            "<style scoped>\n",
                            "    .dataframe tbody tr th:only-of-type {\n",
                            "        vertical-align: middle;\n",
                            "    }\n",
                            "\n",
                            "    .dataframe tbody tr th {\n",
                            "        vertical-align: top;\n",
                            "    }\n",
                            "\n",
                            "    .dataframe thead th {\n",
                            "        text-align: right;\n",
                            "    }\n",
                            "</style>\n",
                            "<table border=\"1\" class=\"dataframe\">\n",
                            "  <thead>\n",
                            "    <tr style=\"text-align: right;\">\n",
                            "      <th></th>\n",
                            "      <th>const</th>\n",
                            "      <th>cylin</th>\n",
                            "      <th>year</th>\n",
                            "      <th>lhp</th>\n",
                            "      <th>lwt</th>\n",
                            "      <th>laccel</th>\n",
                            "      <th>USA</th>\n",
                            "      <th>lwt*year</th>\n",
                            "      <th>year2</th>\n",
                            "      <th>laccel2</th>\n",
                            "    </tr>\n",
                            "    <tr>\n",
                            "      <th>id</th>\n",
                            "      <th></th>\n",
                            "      <th></th>\n",
                            "      <th></th>\n",
                            "      <th></th>\n",
                            "      <th></th>\n",
                            "      <th></th>\n",
                            "      <th></th>\n",
                            "      <th></th>\n",
                            "      <th></th>\n",
                            "      <th></th>\n",
                            "    </tr>\n",
                            "  </thead>\n",
                            "  <tbody>\n",
                            "    <tr>\n",
                            "      <th>1</th>\n",
                            "      <td>1.0</td>\n",
                            "      <td>8.0</td>\n",
                            "      <td>70.0</td>\n",
                            "      <td>4.867534</td>\n",
                            "      <td>8.161660</td>\n",
                            "      <td>2.484907</td>\n",
                            "      <td>1</td>\n",
                            "      <td>571.316232</td>\n",
                            "      <td>4900.0</td>\n",
                            "      <td>6.174761</td>\n",
                            "    </tr>\n",
                            "    <tr>\n",
                            "      <th>2</th>\n",
                            "      <td>1.0</td>\n",
                            "      <td>8.0</td>\n",
                            "      <td>70.0</td>\n",
                            "      <td>5.105945</td>\n",
                            "      <td>8.214194</td>\n",
                            "      <td>2.442347</td>\n",
                            "      <td>1</td>\n",
                            "      <td>574.993609</td>\n",
                            "      <td>4900.0</td>\n",
                            "      <td>5.965059</td>\n",
                            "    </tr>\n",
                            "    <tr>\n",
                            "      <th>3</th>\n",
                            "      <td>1.0</td>\n",
                            "      <td>8.0</td>\n",
                            "      <td>70.0</td>\n",
                            "      <td>5.010635</td>\n",
                            "      <td>8.142063</td>\n",
                            "      <td>2.397895</td>\n",
                            "      <td>1</td>\n",
                            "      <td>569.944430</td>\n",
                            "      <td>4900.0</td>\n",
                            "      <td>5.749902</td>\n",
                            "    </tr>\n",
                            "    <tr>\n",
                            "      <th>4</th>\n",
                            "      <td>1.0</td>\n",
                            "      <td>8.0</td>\n",
                            "      <td>70.0</td>\n",
                            "      <td>5.010635</td>\n",
                            "      <td>8.141190</td>\n",
                            "      <td>2.484907</td>\n",
                            "      <td>1</td>\n",
                            "      <td>569.883286</td>\n",
                            "      <td>4900.0</td>\n",
                            "      <td>6.174761</td>\n",
                            "    </tr>\n",
                            "    <tr>\n",
                            "      <th>5</th>\n",
                            "      <td>1.0</td>\n",
                            "      <td>8.0</td>\n",
                            "      <td>70.0</td>\n",
                            "      <td>4.941642</td>\n",
                            "      <td>8.145840</td>\n",
                            "      <td>2.351375</td>\n",
                            "      <td>1</td>\n",
                            "      <td>570.208773</td>\n",
                            "      <td>4900.0</td>\n",
                            "      <td>5.528966</td>\n",
                            "    </tr>\n",
                            "    <tr>\n",
                            "      <th>...</th>\n",
                            "      <td>...</td>\n",
                            "      <td>...</td>\n",
                            "      <td>...</td>\n",
                            "      <td>...</td>\n",
                            "      <td>...</td>\n",
                            "      <td>...</td>\n",
                            "      <td>...</td>\n",
                            "      <td>...</td>\n",
                            "      <td>...</td>\n",
                            "      <td>...</td>\n",
                            "    </tr>\n",
                            "    <tr>\n",
                            "      <th>401</th>\n",
                            "      <td>1.0</td>\n",
                            "      <td>4.0</td>\n",
                            "      <td>82.0</td>\n",
                            "      <td>4.454347</td>\n",
                            "      <td>7.933797</td>\n",
                            "      <td>2.747271</td>\n",
                            "      <td>1</td>\n",
                            "      <td>650.571344</td>\n",
                            "      <td>6724.0</td>\n",
                            "      <td>7.547497</td>\n",
                            "    </tr>\n",
                            "    <tr>\n",
                            "      <th>402</th>\n",
                            "      <td>1.0</td>\n",
                            "      <td>4.0</td>\n",
                            "      <td>82.0</td>\n",
                            "      <td>3.951244</td>\n",
                            "      <td>7.663877</td>\n",
                            "      <td>3.202746</td>\n",
                            "      <td>0</td>\n",
                            "      <td>628.437935</td>\n",
                            "      <td>6724.0</td>\n",
                            "      <td>10.257585</td>\n",
                            "    </tr>\n",
                            "    <tr>\n",
                            "      <th>403</th>\n",
                            "      <td>1.0</td>\n",
                            "      <td>4.0</td>\n",
                            "      <td>82.0</td>\n",
                            "      <td>4.430817</td>\n",
                            "      <td>7.738488</td>\n",
                            "      <td>2.451005</td>\n",
                            "      <td>1</td>\n",
                            "      <td>634.556026</td>\n",
                            "      <td>6724.0</td>\n",
                            "      <td>6.007426</td>\n",
                            "    </tr>\n",
                            "    <tr>\n",
                            "      <th>404</th>\n",
                            "      <td>1.0</td>\n",
                            "      <td>4.0</td>\n",
                            "      <td>82.0</td>\n",
                            "      <td>4.369448</td>\n",
                            "      <td>7.872836</td>\n",
                            "      <td>2.923162</td>\n",
                            "      <td>1</td>\n",
                            "      <td>645.572566</td>\n",
                            "      <td>6724.0</td>\n",
                            "      <td>8.544874</td>\n",
                            "    </tr>\n",
                            "    <tr>\n",
                            "      <th>405</th>\n",
                            "      <td>1.0</td>\n",
                            "      <td>4.0</td>\n",
                            "      <td>82.0</td>\n",
                            "      <td>4.406719</td>\n",
                            "      <td>7.908387</td>\n",
                            "      <td>2.965273</td>\n",
                            "      <td>1</td>\n",
                            "      <td>648.487747</td>\n",
                            "      <td>6724.0</td>\n",
                            "      <td>8.792844</td>\n",
                            "    </tr>\n",
                            "  </tbody>\n",
                            "</table>\n",
                            "<p>391 rows × 10 columns</p>\n",
                            "</div>"
                        ],
                        "text/plain": [
                            "     const  cylin  year       lhp       lwt    laccel  USA    lwt*year  \\\n",
                            "id                                                                       \n",
                            "1      1.0    8.0  70.0  4.867534  8.161660  2.484907    1  571.316232   \n",
                            "2      1.0    8.0  70.0  5.105945  8.214194  2.442347    1  574.993609   \n",
                            "3      1.0    8.0  70.0  5.010635  8.142063  2.397895    1  569.944430   \n",
                            "4      1.0    8.0  70.0  5.010635  8.141190  2.484907    1  569.883286   \n",
                            "5      1.0    8.0  70.0  4.941642  8.145840  2.351375    1  570.208773   \n",
                            "..     ...    ...   ...       ...       ...       ...  ...         ...   \n",
                            "401    1.0    4.0  82.0  4.454347  7.933797  2.747271    1  650.571344   \n",
                            "402    1.0    4.0  82.0  3.951244  7.663877  3.202746    0  628.437935   \n",
                            "403    1.0    4.0  82.0  4.430817  7.738488  2.451005    1  634.556026   \n",
                            "404    1.0    4.0  82.0  4.369448  7.872836  2.923162    1  645.572566   \n",
                            "405    1.0    4.0  82.0  4.406719  7.908387  2.965273    1  648.487747   \n",
                            "\n",
                            "      year2    laccel2  \n",
                            "id                      \n",
                            "1    4900.0   6.174761  \n",
                            "2    4900.0   5.965059  \n",
                            "3    4900.0   5.749902  \n",
                            "4    4900.0   6.174761  \n",
                            "5    4900.0   5.528966  \n",
                            "..      ...        ...  \n",
                            "401  6724.0   7.547497  \n",
                            "402  6724.0  10.257585  \n",
                            "403  6724.0   6.007426  \n",
                            "404  6724.0   8.544874  \n",
                            "405  6724.0   8.792844  \n",
                            "\n",
                            "[391 rows x 10 columns]"
                        ]
                    },
                    "execution_count": 83,
                    "metadata": {},
                    "output_type": "execute_result"
                }
            ],
            "source": [
                "X = sm.add_constant(dft2[vars])\n",
                "X"
            ]
        },
        {
            "cell_type": "markdown",
            "id": "d1466c4c",
            "metadata": {
                "id": "desc-d295d1e2",
                "language": "markdown"
            },
            "source": [
                "Calcola la matrice di covarianza dei coefficienti del modello, `cov = (X^T X)^-1`, utilizzando la matrice del disegno `X`. Visualizza la matrice `cov`."
            ]
        },
        {
            "cell_type": "code",
            "execution_count": 84,
            "id": "2070a3bf",
            "metadata": {
                "id": "d295d1e2",
                "language": "python"
            },
            "outputs": [
                {
                    "data": {
                        "text/plain": [
                            "array([[ 2.59175762e+03,  2.39415848e-01, -4.58700086e+01,\n",
                            "        -3.85125238e+00, -2.01373084e+02, -3.64774569e+01,\n",
                            "        -5.12610044e-01,  2.71423075e+00,  1.60631413e-01,\n",
                            "         5.65957600e+00],\n",
                            "       [ 2.39415848e-01,  5.04084338e-03, -3.81843395e-03,\n",
                            "        -1.40751627e-03, -2.98215868e-02,  5.22962849e-02,\n",
                            "        -1.97487954e-03,  1.22313235e-04,  1.96395131e-05,\n",
                            "        -8.30142548e-03],\n",
                            "       [-4.58700086e+01, -3.81843395e-03,  9.10683978e-01,\n",
                            "         8.55641214e-02,  3.02907367e+00, -5.03078342e-01,\n",
                            "         1.49660630e-02, -4.15168768e-02, -3.82875317e-03,\n",
                            "         1.08168254e-01],\n",
                            "       [-3.85125238e+00, -1.40751627e-03,  8.55641214e-02,\n",
                            "         2.63898750e-01,  3.11949340e-02, -1.21051865e-01,\n",
                            "         7.81831925e-03, -3.40494943e-03, -3.73628059e-04,\n",
                            "         5.94428653e-02],\n",
                            "       [-2.01373084e+02, -2.98215868e-02,  3.02907367e+00,\n",
                            "         3.11949340e-02,  2.07411999e+01,  3.02041102e+00,\n",
                            "         1.66054473e-02, -2.73585692e-01, -5.72911336e-03,\n",
                            "        -4.77613129e-01],\n",
                            "       [-3.64774569e+01,  5.22962849e-02, -5.03078342e-01,\n",
                            "        -1.21051865e-01,  3.02041102e+00,  3.23320581e+01,\n",
                            "        -6.18479290e-02, -3.83896896e-02,  5.22493960e-03,\n",
                            "        -5.92171083e+00],\n",
                            "       [-5.12610044e-01, -1.97487954e-03,  1.49660630e-02,\n",
                            "         7.81831925e-03,  1.66054473e-02, -6.18479290e-02,\n",
                            "         1.89598200e-02, -4.64521266e-04, -7.49760613e-05,\n",
                            "         1.20071947e-02],\n",
                            "       [ 2.71423075e+00,  1.22313235e-04, -4.15168768e-02,\n",
                            "        -3.40494943e-03, -2.73585692e-01, -3.83896896e-02,\n",
                            "        -4.64521267e-04,  3.67068710e-03,  8.24831142e-05,\n",
                            "         5.57769073e-03],\n",
                            "       [ 1.60631412e-01,  1.96395131e-05, -3.82875317e-03,\n",
                            "        -3.73628058e-04, -5.72911336e-03,  5.22493961e-03,\n",
                            "        -7.49760613e-05,  8.24831142e-05,  2.08744468e-05,\n",
                            "        -9.86113568e-04],\n",
                            "       [ 5.65957600e+00, -8.30142548e-03,  1.08168254e-01,\n",
                            "         5.94428653e-02, -4.77613129e-01, -5.92171083e+00,\n",
                            "         1.20071947e-02,  5.57769073e-03, -9.86113567e-04,\n",
                            "         1.09405625e+00]])"
                        ]
                    },
                    "execution_count": 84,
                    "metadata": {},
                    "output_type": "execute_result"
                }
            ],
            "source": [
                "cov = np.linalg.inv(X.T @ X)\n",
                "cov"
            ]
        },
        {
            "cell_type": "markdown",
            "id": "d8c3a37a",
            "metadata": {
                "id": "desc-51d2bd01",
                "language": "markdown"
            },
            "source": [
                "Calcola manualmente il vettore dei coefficienti `B = cov @ X^T @ y` per verificare che la matrice `X` e `cov` siano corrette. Confronta il quinto coefficiente (corrispondente a 'lwt') con quello ottenuto dal modello `statsmodels`."
            ]
        },
        {
            "cell_type": "code",
            "execution_count": 85,
            "id": "f47ee5a5",
            "metadata": {
                "id": "51d2bd01",
                "language": "python"
            },
            "outputs": [
                {
                    "data": {
                        "text/plain": [
                            "array([ 2.70664897e+01, -1.38021350e-02, -3.81980318e-01, -3.08029495e-01,\n",
                            "       -1.17094785e+00, -1.58229729e+00, -5.07496942e-02,  8.50818584e-03,\n",
                            "        2.27063100e-03,  2.58138784e-01])"
                        ]
                    },
                    "execution_count": 85,
                    "metadata": {},
                    "output_type": "execute_result"
                }
            ],
            "source": [
                "# Controllo che la matrice sia giusta\n",
                "\n",
                "y = dft['lmpg']\n",
                "\n",
                "B = cov @ (X.T @ y) # Controllo il quinto coefficiente, che corrisponde a lwt ed è -1.1709 come sopra\n",
                "B"
            ]
        },
        {
            "cell_type": "markdown",
            "id": "70c3036d",
            "metadata": {
                "id": "desc-4890970f",
                "language": "markdown"
            },
            "source": [
                "Crea una copia del DataFrame dei nuovi dati `dfn` chiamata `dfn2`. Aggiunge manualmente le colonne per i termini di interazione e quadratici, come fatto per `dft2`. Visualizza `dfn2`."
            ]
        },
        {
            "cell_type": "code",
            "execution_count": 86,
            "id": "09edd4b0",
            "metadata": {
                "id": "4890970f",
                "language": "python"
            },
            "outputs": [
                {
                    "data": {
                        "text/html": [
                            "<div>\n",
                            "<style scoped>\n",
                            "    .dataframe tbody tr th:only-of-type {\n",
                            "        vertical-align: middle;\n",
                            "    }\n",
                            "\n",
                            "    .dataframe tbody tr th {\n",
                            "        vertical-align: top;\n",
                            "    }\n",
                            "\n",
                            "    .dataframe thead th {\n",
                            "        text-align: right;\n",
                            "    }\n",
                            "</style>\n",
                            "<table border=\"1\" class=\"dataframe\">\n",
                            "  <thead>\n",
                            "    <tr style=\"text-align: right;\">\n",
                            "      <th></th>\n",
                            "      <th>cylin</th>\n",
                            "      <th>year</th>\n",
                            "      <th>ldisp</th>\n",
                            "      <th>lhp</th>\n",
                            "      <th>lwt</th>\n",
                            "      <th>laccel</th>\n",
                            "      <th>USA</th>\n",
                            "      <th>EU</th>\n",
                            "      <th>lwt*year</th>\n",
                            "      <th>year2</th>\n",
                            "      <th>laccel2</th>\n",
                            "    </tr>\n",
                            "    <tr>\n",
                            "      <th>id</th>\n",
                            "      <th></th>\n",
                            "      <th></th>\n",
                            "      <th></th>\n",
                            "      <th></th>\n",
                            "      <th></th>\n",
                            "      <th></th>\n",
                            "      <th></th>\n",
                            "      <th></th>\n",
                            "      <th></th>\n",
                            "      <th></th>\n",
                            "      <th></th>\n",
                            "    </tr>\n",
                            "  </thead>\n",
                            "  <tbody>\n",
                            "    <tr>\n",
                            "      <th>11</th>\n",
                            "      <td>4.0</td>\n",
                            "      <td>70.0</td>\n",
                            "      <td>4.890349</td>\n",
                            "      <td>4.744932</td>\n",
                            "      <td>8.035926</td>\n",
                            "      <td>2.862201</td>\n",
                            "      <td>0</td>\n",
                            "      <td>1</td>\n",
                            "      <td>562.514846</td>\n",
                            "      <td>4900.0</td>\n",
                            "      <td>8.192194</td>\n",
                            "    </tr>\n",
                            "    <tr>\n",
                            "      <th>12</th>\n",
                            "      <td>8.0</td>\n",
                            "      <td>70.0</td>\n",
                            "      <td>5.857933</td>\n",
                            "      <td>5.105945</td>\n",
                            "      <td>8.328934</td>\n",
                            "      <td>2.442347</td>\n",
                            "      <td>1</td>\n",
                            "      <td>0</td>\n",
                            "      <td>583.025383</td>\n",
                            "      <td>4900.0</td>\n",
                            "      <td>5.965059</td>\n",
                            "    </tr>\n",
                            "    <tr>\n",
                            "      <th>13</th>\n",
                            "      <td>8.0</td>\n",
                            "      <td>70.0</td>\n",
                            "      <td>5.860786</td>\n",
                            "      <td>5.030438</td>\n",
                            "      <td>8.302514</td>\n",
                            "      <td>2.397895</td>\n",
                            "      <td>1</td>\n",
                            "      <td>0</td>\n",
                            "      <td>581.175960</td>\n",
                            "      <td>4900.0</td>\n",
                            "      <td>5.749902</td>\n",
                            "    </tr>\n",
                            "    <tr>\n",
                            "      <th>14</th>\n",
                            "      <td>8.0</td>\n",
                            "      <td>70.0</td>\n",
                            "      <td>5.948035</td>\n",
                            "      <td>5.164786</td>\n",
                            "      <td>8.334712</td>\n",
                            "      <td>2.351375</td>\n",
                            "      <td>1</td>\n",
                            "      <td>0</td>\n",
                            "      <td>583.429814</td>\n",
                            "      <td>4900.0</td>\n",
                            "      <td>5.528966</td>\n",
                            "    </tr>\n",
                            "    <tr>\n",
                            "      <th>15</th>\n",
                            "      <td>8.0</td>\n",
                            "      <td>70.0</td>\n",
                            "      <td>5.886104</td>\n",
                            "      <td>5.164786</td>\n",
                            "      <td>8.255828</td>\n",
                            "      <td>2.397895</td>\n",
                            "      <td>1</td>\n",
                            "      <td>0</td>\n",
                            "      <td>577.907990</td>\n",
                            "      <td>4900.0</td>\n",
                            "      <td>5.749902</td>\n",
                            "    </tr>\n",
                            "    <tr>\n",
                            "      <th>18</th>\n",
                            "      <td>8.0</td>\n",
                            "      <td>70.0</td>\n",
                            "      <td>5.710427</td>\n",
                            "      <td>4.941642</td>\n",
                            "      <td>8.117611</td>\n",
                            "      <td>2.079442</td>\n",
                            "      <td>1</td>\n",
                            "      <td>0</td>\n",
                            "      <td>568.232752</td>\n",
                            "      <td>4900.0</td>\n",
                            "      <td>4.324077</td>\n",
                            "    </tr>\n",
                            "    <tr>\n",
                            "      <th>40</th>\n",
                            "      <td>4.0</td>\n",
                            "      <td>71.0</td>\n",
                            "      <td>4.574711</td>\n",
                            "      <td>3.871201</td>\n",
                            "      <td>7.589842</td>\n",
                            "      <td>2.995732</td>\n",
                            "      <td>0</td>\n",
                            "      <td>1</td>\n",
                            "      <td>538.878747</td>\n",
                            "      <td>5041.0</td>\n",
                            "      <td>8.974412</td>\n",
                            "    </tr>\n",
                            "    <tr>\n",
                            "      <th>367</th>\n",
                            "      <td>4.0</td>\n",
                            "      <td>81.0</td>\n",
                            "      <td>4.795791</td>\n",
                            "      <td>4.700480</td>\n",
                            "      <td>7.937375</td>\n",
                            "      <td>2.734368</td>\n",
                            "      <td>0</td>\n",
                            "      <td>1</td>\n",
                            "      <td>642.927350</td>\n",
                            "      <td>6561.0</td>\n",
                            "      <td>7.476766</td>\n",
                            "    </tr>\n",
                            "  </tbody>\n",
                            "</table>\n",
                            "</div>"
                        ],
                        "text/plain": [
                            "     cylin  year     ldisp       lhp       lwt    laccel  USA  EU    lwt*year  \\\n",
                            "id                                                                              \n",
                            "11     4.0  70.0  4.890349  4.744932  8.035926  2.862201    0   1  562.514846   \n",
                            "12     8.0  70.0  5.857933  5.105945  8.328934  2.442347    1   0  583.025383   \n",
                            "13     8.0  70.0  5.860786  5.030438  8.302514  2.397895    1   0  581.175960   \n",
                            "14     8.0  70.0  5.948035  5.164786  8.334712  2.351375    1   0  583.429814   \n",
                            "15     8.0  70.0  5.886104  5.164786  8.255828  2.397895    1   0  577.907990   \n",
                            "18     8.0  70.0  5.710427  4.941642  8.117611  2.079442    1   0  568.232752   \n",
                            "40     4.0  71.0  4.574711  3.871201  7.589842  2.995732    0   1  538.878747   \n",
                            "367    4.0  81.0  4.795791  4.700480  7.937375  2.734368    0   1  642.927350   \n",
                            "\n",
                            "      year2   laccel2  \n",
                            "id                     \n",
                            "11   4900.0  8.192194  \n",
                            "12   4900.0  5.965059  \n",
                            "13   4900.0  5.749902  \n",
                            "14   4900.0  5.528966  \n",
                            "15   4900.0  5.749902  \n",
                            "18   4900.0  4.324077  \n",
                            "40   5041.0  8.974412  \n",
                            "367  6561.0  7.476766  "
                        ]
                    },
                    "execution_count": 86,
                    "metadata": {},
                    "output_type": "execute_result"
                }
            ],
            "source": [
                "dfn2 = dfn.copy()\n",
                "dfn2['lwt*year'] = dfn2['lwt'] * dfn2['year']\n",
                "dfn2['year2'] = dfn2['year'] ** 2\n",
                "dfn2['laccel2'] = dfn2['laccel'] ** 2\n",
                "dfn2"
            ]
        },
        {
            "cell_type": "markdown",
            "id": "b3141b5c",
            "metadata": {
                "id": "desc-6dd5d0ec",
                "language": "markdown"
            },
            "source": [
                "Crea la matrice del disegno `x_tilde` per i nuovi dati `dfn2`, selezionando le colonne `vars` e aggiungendo una costante. Visualizza `x_tilde`."
            ]
        },
        {
            "cell_type": "code",
            "execution_count": 87,
            "id": "34092743",
            "metadata": {
                "id": "6dd5d0ec",
                "language": "python"
            },
            "outputs": [
                {
                    "data": {
                        "text/html": [
                            "<div>\n",
                            "<style scoped>\n",
                            "    .dataframe tbody tr th:only-of-type {\n",
                            "        vertical-align: middle;\n",
                            "    }\n",
                            "\n",
                            "    .dataframe tbody tr th {\n",
                            "        vertical-align: top;\n",
                            "    }\n",
                            "\n",
                            "    .dataframe thead th {\n",
                            "        text-align: right;\n",
                            "    }\n",
                            "</style>\n",
                            "<table border=\"1\" class=\"dataframe\">\n",
                            "  <thead>\n",
                            "    <tr style=\"text-align: right;\">\n",
                            "      <th></th>\n",
                            "      <th>const</th>\n",
                            "      <th>cylin</th>\n",
                            "      <th>year</th>\n",
                            "      <th>lhp</th>\n",
                            "      <th>lwt</th>\n",
                            "      <th>laccel</th>\n",
                            "      <th>USA</th>\n",
                            "      <th>lwt*year</th>\n",
                            "      <th>year2</th>\n",
                            "      <th>laccel2</th>\n",
                            "    </tr>\n",
                            "    <tr>\n",
                            "      <th>id</th>\n",
                            "      <th></th>\n",
                            "      <th></th>\n",
                            "      <th></th>\n",
                            "      <th></th>\n",
                            "      <th></th>\n",
                            "      <th></th>\n",
                            "      <th></th>\n",
                            "      <th></th>\n",
                            "      <th></th>\n",
                            "      <th></th>\n",
                            "    </tr>\n",
                            "  </thead>\n",
                            "  <tbody>\n",
                            "    <tr>\n",
                            "      <th>11</th>\n",
                            "      <td>1.0</td>\n",
                            "      <td>4.0</td>\n",
                            "      <td>70.0</td>\n",
                            "      <td>4.744932</td>\n",
                            "      <td>8.035926</td>\n",
                            "      <td>2.862201</td>\n",
                            "      <td>0</td>\n",
                            "      <td>562.514846</td>\n",
                            "      <td>4900.0</td>\n",
                            "      <td>8.192194</td>\n",
                            "    </tr>\n",
                            "    <tr>\n",
                            "      <th>12</th>\n",
                            "      <td>1.0</td>\n",
                            "      <td>8.0</td>\n",
                            "      <td>70.0</td>\n",
                            "      <td>5.105945</td>\n",
                            "      <td>8.328934</td>\n",
                            "      <td>2.442347</td>\n",
                            "      <td>1</td>\n",
                            "      <td>583.025383</td>\n",
                            "      <td>4900.0</td>\n",
                            "      <td>5.965059</td>\n",
                            "    </tr>\n",
                            "    <tr>\n",
                            "      <th>13</th>\n",
                            "      <td>1.0</td>\n",
                            "      <td>8.0</td>\n",
                            "      <td>70.0</td>\n",
                            "      <td>5.030438</td>\n",
                            "      <td>8.302514</td>\n",
                            "      <td>2.397895</td>\n",
                            "      <td>1</td>\n",
                            "      <td>581.175960</td>\n",
                            "      <td>4900.0</td>\n",
                            "      <td>5.749902</td>\n",
                            "    </tr>\n",
                            "    <tr>\n",
                            "      <th>14</th>\n",
                            "      <td>1.0</td>\n",
                            "      <td>8.0</td>\n",
                            "      <td>70.0</td>\n",
                            "      <td>5.164786</td>\n",
                            "      <td>8.334712</td>\n",
                            "      <td>2.351375</td>\n",
                            "      <td>1</td>\n",
                            "      <td>583.429814</td>\n",
                            "      <td>4900.0</td>\n",
                            "      <td>5.528966</td>\n",
                            "    </tr>\n",
                            "    <tr>\n",
                            "      <th>15</th>\n",
                            "      <td>1.0</td>\n",
                            "      <td>8.0</td>\n",
                            "      <td>70.0</td>\n",
                            "      <td>5.164786</td>\n",
                            "      <td>8.255828</td>\n",
                            "      <td>2.397895</td>\n",
                            "      <td>1</td>\n",
                            "      <td>577.907990</td>\n",
                            "      <td>4900.0</td>\n",
                            "      <td>5.749902</td>\n",
                            "    </tr>\n",
                            "    <tr>\n",
                            "      <th>18</th>\n",
                            "      <td>1.0</td>\n",
                            "      <td>8.0</td>\n",
                            "      <td>70.0</td>\n",
                            "      <td>4.941642</td>\n",
                            "      <td>8.117611</td>\n",
                            "      <td>2.079442</td>\n",
                            "      <td>1</td>\n",
                            "      <td>568.232752</td>\n",
                            "      <td>4900.0</td>\n",
                            "      <td>4.324077</td>\n",
                            "    </tr>\n",
                            "    <tr>\n",
                            "      <th>40</th>\n",
                            "      <td>1.0</td>\n",
                            "      <td>4.0</td>\n",
                            "      <td>71.0</td>\n",
                            "      <td>3.871201</td>\n",
                            "      <td>7.589842</td>\n",
                            "      <td>2.995732</td>\n",
                            "      <td>0</td>\n",
                            "      <td>538.878747</td>\n",
                            "      <td>5041.0</td>\n",
                            "      <td>8.974412</td>\n",
                            "    </tr>\n",
                            "    <tr>\n",
                            "      <th>367</th>\n",
                            "      <td>1.0</td>\n",
                            "      <td>4.0</td>\n",
                            "      <td>81.0</td>\n",
                            "      <td>4.700480</td>\n",
                            "      <td>7.937375</td>\n",
                            "      <td>2.734368</td>\n",
                            "      <td>0</td>\n",
                            "      <td>642.927350</td>\n",
                            "      <td>6561.0</td>\n",
                            "      <td>7.476766</td>\n",
                            "    </tr>\n",
                            "  </tbody>\n",
                            "</table>\n",
                            "</div>"
                        ],
                        "text/plain": [
                            "     const  cylin  year       lhp       lwt    laccel  USA    lwt*year  \\\n",
                            "id                                                                       \n",
                            "11     1.0    4.0  70.0  4.744932  8.035926  2.862201    0  562.514846   \n",
                            "12     1.0    8.0  70.0  5.105945  8.328934  2.442347    1  583.025383   \n",
                            "13     1.0    8.0  70.0  5.030438  8.302514  2.397895    1  581.175960   \n",
                            "14     1.0    8.0  70.0  5.164786  8.334712  2.351375    1  583.429814   \n",
                            "15     1.0    8.0  70.0  5.164786  8.255828  2.397895    1  577.907990   \n",
                            "18     1.0    8.0  70.0  4.941642  8.117611  2.079442    1  568.232752   \n",
                            "40     1.0    4.0  71.0  3.871201  7.589842  2.995732    0  538.878747   \n",
                            "367    1.0    4.0  81.0  4.700480  7.937375  2.734368    0  642.927350   \n",
                            "\n",
                            "      year2   laccel2  \n",
                            "id                     \n",
                            "11   4900.0  8.192194  \n",
                            "12   4900.0  5.965059  \n",
                            "13   4900.0  5.749902  \n",
                            "14   4900.0  5.528966  \n",
                            "15   4900.0  5.749902  \n",
                            "18   4900.0  4.324077  \n",
                            "40   5041.0  8.974412  \n",
                            "367  6561.0  7.476766  "
                        ]
                    },
                    "execution_count": 87,
                    "metadata": {},
                    "output_type": "execute_result"
                }
            ],
            "source": [
                "x_tilde = sm.add_constant(dfn2[vars])\n",
                "x_tilde"
            ]
        },
        {
            "cell_type": "markdown",
            "id": "7a51318f",
            "metadata": {
                "id": "desc-127baf2e",
                "language": "markdown"
            },
            "source": [
                "Calcola manualmente le previsioni puntuali per i nuovi dati: `pred = x_tilde @ B`. Visualizza le previsioni, che dovrebbero essere uguali a quelle ottenute con `results.predict(dfn)`."
            ]
        },
        {
            "cell_type": "code",
            "execution_count": 88,
            "id": "fe0edb34",
            "metadata": {
                "id": "127baf2e",
                "language": "python"
            },
            "outputs": [
                {
                    "data": {
                        "text/plain": [
                            "id\n",
                            "11     2.899372\n",
                            "12     2.603046\n",
                            "13     2.656301\n",
                            "14     2.612969\n",
                            "15     2.641780\n",
                            "18     2.925869\n",
                            "40     3.418562\n",
                            "367    3.299953\n",
                            "dtype: float64"
                        ]
                    },
                    "execution_count": 88,
                    "metadata": {},
                    "output_type": "execute_result"
                }
            ],
            "source": [
                "pred = x_tilde @ B\n",
                "pred # Vengono uguali a prima"
            ]
        },
        {
            "cell_type": "markdown",
            "id": "85b8552c",
            "metadata": {
                "id": "desc-552ccf15",
                "language": "markdown"
            },
            "source": [
                "Visualizza le dimensioni (forma) della matrice `x_tilde`."
            ]
        },
        {
            "cell_type": "code",
            "execution_count": 89,
            "id": "94c4b6a1",
            "metadata": {
                "id": "552ccf15",
                "language": "python"
            },
            "outputs": [
                {
                    "data": {
                        "text/plain": [
                            "(8, 10)"
                        ]
                    },
                    "execution_count": 89,
                    "metadata": {},
                    "output_type": "execute_result"
                }
            ],
            "source": [
                "x_tilde.shape"
            ]
        },
        {
            "cell_type": "markdown",
            "id": "ffb48a12",
            "metadata": {
                "id": "desc-1e133130",
                "language": "markdown"
            },
            "source": [
                "Visualizza le dimensioni (forma) della matrice di covarianza `cov`."
            ]
        },
        {
            "cell_type": "code",
            "execution_count": 90,
            "id": "c61c51b2",
            "metadata": {
                "id": "1e133130",
                "language": "python"
            },
            "outputs": [
                {
                    "data": {
                        "text/plain": [
                            "(10, 10)"
                        ]
                    },
                    "execution_count": 90,
                    "metadata": {},
                    "output_type": "execute_result"
                }
            ],
            "source": [
                "cov.shape"
            ]
        },
        {
            "cell_type": "markdown",
            "id": "44481183",
            "metadata": {
                "id": "desc-17f248b3",
                "language": "markdown"
            },
            "source": [
                "Calcola la matrice `C = x_tilde @ cov @ x_tilde.T`. Estrae la diagonale di `C`, che contiene le varianze delle risposte medie predette per ogni nuova osservazione, e la memorizza in `scal`."
            ]
        },
        {
            "cell_type": "code",
            "execution_count": 91,
            "id": "a674288f",
            "metadata": {
                "id": "17f248b3",
                "language": "python"
            },
            "outputs": [
                {
                    "data": {
                        "text/plain": [
                            "array([0.05134499, 0.02682679, 0.03054779, 0.03108165, 0.02451933,\n",
                            "       0.18625099, 0.05469619, 0.02974379])"
                        ]
                    },
                    "execution_count": 91,
                    "metadata": {},
                    "output_type": "execute_result"
                }
            ],
            "source": [
                "C = x_tilde.values @ cov @ x_tilde.values.T # Matrice 8x8, mi interessa la diagonale\n",
                "scal = np.diag(C)\n",
                "scal"
            ]
        },
        {
            "cell_type": "markdown",
            "id": "f5d4f4af",
            "metadata": {
                "id": "desc-99fa3f39",
                "language": "markdown"
            },
            "source": [
                "Visualizza la matrice `x_tilde` (matrice del disegno per i nuovi dati)."
            ]
        },
        {
            "cell_type": "code",
            "execution_count": 92,
            "id": "d237c2db",
            "metadata": {
                "id": "99fa3f39",
                "language": "python"
            },
            "outputs": [
                {
                    "data": {
                        "text/html": [
                            "<div>\n",
                            "<style scoped>\n",
                            "    .dataframe tbody tr th:only-of-type {\n",
                            "        vertical-align: middle;\n",
                            "    }\n",
                            "\n",
                            "    .dataframe tbody tr th {\n",
                            "        vertical-align: top;\n",
                            "    }\n",
                            "\n",
                            "    .dataframe thead th {\n",
                            "        text-align: right;\n",
                            "    }\n",
                            "</style>\n",
                            "<table border=\"1\" class=\"dataframe\">\n",
                            "  <thead>\n",
                            "    <tr style=\"text-align: right;\">\n",
                            "      <th></th>\n",
                            "      <th>const</th>\n",
                            "      <th>cylin</th>\n",
                            "      <th>year</th>\n",
                            "      <th>lhp</th>\n",
                            "      <th>lwt</th>\n",
                            "      <th>laccel</th>\n",
                            "      <th>USA</th>\n",
                            "      <th>lwt*year</th>\n",
                            "      <th>year2</th>\n",
                            "      <th>laccel2</th>\n",
                            "    </tr>\n",
                            "    <tr>\n",
                            "      <th>id</th>\n",
                            "      <th></th>\n",
                            "      <th></th>\n",
                            "      <th></th>\n",
                            "      <th></th>\n",
                            "      <th></th>\n",
                            "      <th></th>\n",
                            "      <th></th>\n",
                            "      <th></th>\n",
                            "      <th></th>\n",
                            "      <th></th>\n",
                            "    </tr>\n",
                            "  </thead>\n",
                            "  <tbody>\n",
                            "    <tr>\n",
                            "      <th>11</th>\n",
                            "      <td>1.0</td>\n",
                            "      <td>4.0</td>\n",
                            "      <td>70.0</td>\n",
                            "      <td>4.744932</td>\n",
                            "      <td>8.035926</td>\n",
                            "      <td>2.862201</td>\n",
                            "      <td>0</td>\n",
                            "      <td>562.514846</td>\n",
                            "      <td>4900.0</td>\n",
                            "      <td>8.192194</td>\n",
                            "    </tr>\n",
                            "    <tr>\n",
                            "      <th>12</th>\n",
                            "      <td>1.0</td>\n",
                            "      <td>8.0</td>\n",
                            "      <td>70.0</td>\n",
                            "      <td>5.105945</td>\n",
                            "      <td>8.328934</td>\n",
                            "      <td>2.442347</td>\n",
                            "      <td>1</td>\n",
                            "      <td>583.025383</td>\n",
                            "      <td>4900.0</td>\n",
                            "      <td>5.965059</td>\n",
                            "    </tr>\n",
                            "    <tr>\n",
                            "      <th>13</th>\n",
                            "      <td>1.0</td>\n",
                            "      <td>8.0</td>\n",
                            "      <td>70.0</td>\n",
                            "      <td>5.030438</td>\n",
                            "      <td>8.302514</td>\n",
                            "      <td>2.397895</td>\n",
                            "      <td>1</td>\n",
                            "      <td>581.175960</td>\n",
                            "      <td>4900.0</td>\n",
                            "      <td>5.749902</td>\n",
                            "    </tr>\n",
                            "    <tr>\n",
                            "      <th>14</th>\n",
                            "      <td>1.0</td>\n",
                            "      <td>8.0</td>\n",
                            "      <td>70.0</td>\n",
                            "      <td>5.164786</td>\n",
                            "      <td>8.334712</td>\n",
                            "      <td>2.351375</td>\n",
                            "      <td>1</td>\n",
                            "      <td>583.429814</td>\n",
                            "      <td>4900.0</td>\n",
                            "      <td>5.528966</td>\n",
                            "    </tr>\n",
                            "    <tr>\n",
                            "      <th>15</th>\n",
                            "      <td>1.0</td>\n",
                            "      <td>8.0</td>\n",
                            "      <td>70.0</td>\n",
                            "      <td>5.164786</td>\n",
                            "      <td>8.255828</td>\n",
                            "      <td>2.397895</td>\n",
                            "      <td>1</td>\n",
                            "      <td>577.907990</td>\n",
                            "      <td>4900.0</td>\n",
                            "      <td>5.749902</td>\n",
                            "    </tr>\n",
                            "    <tr>\n",
                            "      <th>18</th>\n",
                            "      <td>1.0</td>\n",
                            "      <td>8.0</td>\n",
                            "      <td>70.0</td>\n",
                            "      <td>4.941642</td>\n",
                            "      <td>8.117611</td>\n",
                            "      <td>2.079442</td>\n",
                            "      <td>1</td>\n",
                            "      <td>568.232752</td>\n",
                            "      <td>4900.0</td>\n",
                            "      <td>4.324077</td>\n",
                            "    </tr>\n",
                            "    <tr>\n",
                            "      <th>40</th>\n",
                            "      <td>1.0</td>\n",
                            "      <td>4.0</td>\n",
                            "      <td>71.0</td>\n",
                            "      <td>3.871201</td>\n",
                            "      <td>7.589842</td>\n",
                            "      <td>2.995732</td>\n",
                            "      <td>0</td>\n",
                            "      <td>538.878747</td>\n",
                            "      <td>5041.0</td>\n",
                            "      <td>8.974412</td>\n",
                            "    </tr>\n",
                            "    <tr>\n",
                            "      <th>367</th>\n",
                            "      <td>1.0</td>\n",
                            "      <td>4.0</td>\n",
                            "      <td>81.0</td>\n",
                            "      <td>4.700480</td>\n",
                            "      <td>7.937375</td>\n",
                            "      <td>2.734368</td>\n",
                            "      <td>0</td>\n",
                            "      <td>642.927350</td>\n",
                            "      <td>6561.0</td>\n",
                            "      <td>7.476766</td>\n",
                            "    </tr>\n",
                            "  </tbody>\n",
                            "</table>\n",
                            "</div>"
                        ],
                        "text/plain": [
                            "     const  cylin  year       lhp       lwt    laccel  USA    lwt*year  \\\n",
                            "id                                                                       \n",
                            "11     1.0    4.0  70.0  4.744932  8.035926  2.862201    0  562.514846   \n",
                            "12     1.0    8.0  70.0  5.105945  8.328934  2.442347    1  583.025383   \n",
                            "13     1.0    8.0  70.0  5.030438  8.302514  2.397895    1  581.175960   \n",
                            "14     1.0    8.0  70.0  5.164786  8.334712  2.351375    1  583.429814   \n",
                            "15     1.0    8.0  70.0  5.164786  8.255828  2.397895    1  577.907990   \n",
                            "18     1.0    8.0  70.0  4.941642  8.117611  2.079442    1  568.232752   \n",
                            "40     1.0    4.0  71.0  3.871201  7.589842  2.995732    0  538.878747   \n",
                            "367    1.0    4.0  81.0  4.700480  7.937375  2.734368    0  642.927350   \n",
                            "\n",
                            "      year2   laccel2  \n",
                            "id                     \n",
                            "11   4900.0  8.192194  \n",
                            "12   4900.0  5.965059  \n",
                            "13   4900.0  5.749902  \n",
                            "14   4900.0  5.528966  \n",
                            "15   4900.0  5.749902  \n",
                            "18   4900.0  4.324077  \n",
                            "40   5041.0  8.974412  \n",
                            "367  6561.0  7.476766  "
                        ]
                    },
                    "execution_count": 92,
                    "metadata": {},
                    "output_type": "execute_result"
                }
            ],
            "source": [
                "x_tilde"
            ]
        },
        {
            "cell_type": "markdown",
            "id": "c95dbea0",
            "metadata": {
                "id": "desc-f0594ef5",
                "language": "markdown"
            },
            "source": [
                "Calcola manualmente i limiti superiori (`ucb`) e inferiori (`lcb`) dell'intervallo di predizione per ogni nuova osservazione, usando la formula: `predizione ± q * Se * sqrt(1 + varianza_risposta_media_predetta)`. Stampa i limiti per ogni osservazione."
            ]
        },
        {
            "cell_type": "code",
            "execution_count": 93,
            "id": "8aa18e13",
            "metadata": {
                "id": "f0594ef5",
                "language": "python"
            },
            "outputs": [
                {
                    "name": "stdout",
                    "output_type": "stream",
                    "text": [
                        "2.68015 3.1186\n",
                        "2.38639 2.8197\n",
                        "2.43926 2.87335\n",
                        "2.39587 2.83007\n",
                        "2.42537 2.85819\n",
                        "2.693 3.15873\n",
                        "3.19899 3.63813\n",
                        "3.08299 3.51691\n"
                    ]
                }
            ],
            "source": [
                "ucb = pred.values + q * Se * np.sqrt(1 + scal)\n",
                "lcb = pred.values - q * Se * np.sqrt(1 + scal)\n",
                "\n",
                "for i in range(len(ucb)):\n",
                "    print(f'{lcb[i]:g} {ucb[i]:g}')"
            ]
        },
        {
            "cell_type": "markdown",
            "id": "124de49d",
            "metadata": {
                "id": "desc-66560746",
                "language": "markdown"
            },
            "source": [
                "Stampa gli intervalli di confidenza (`pred_ci`) calcolati precedentemente con il metodo `get_prediction().conf_int()` per confronto con i calcoli manuali."
            ]
        },
        {
            "cell_type": "code",
            "execution_count": 94,
            "id": "bae5d09f",
            "metadata": {
                "id": "66560746",
                "language": "python"
            },
            "outputs": [
                {
                    "name": "stdout",
                    "output_type": "stream",
                    "text": [
                        "[[2.85092556 2.94781884]\n",
                        " [2.56802707 2.6380643 ]\n",
                        " [2.61893288 2.69366969]\n",
                        " [2.57527505 2.65066208]\n",
                        " [2.60830093 2.67525839]\n",
                        " [2.83359855 3.01814   ]\n",
                        " [3.36855936 3.4685647 ]\n",
                        " [3.26307991 3.33682665]]\n"
                    ]
                }
            ],
            "source": [
                "print(pred_ci)"
            ]
        },
        {
            "cell_type": "markdown",
            "id": "4b9f21c4",
            "metadata": {
                "id": "desc-b8456942",
                "language": "markdown"
            },
            "source": [
                "Calcola l'ampiezza degli intervalli di predizione ottenuti da `statsmodels` (`wi_ci`) e quelli calcolati manualmente (`wi_my`). Crea un grafico scatter per confrontare le due serie di ampiezze, verificando che siano consistenti."
            ]
        },
        {
            "cell_type": "code",
            "execution_count": 95,
            "id": "fa3524e6",
            "metadata": {
                "id": "b8456942",
                "language": "python"
            },
            "outputs": [
                {
                    "data": {
                        "image/png": "[encoded data removed]",
                        "text/plain": [
                            "<Figure size 640x480 with 1 Axes>"
                        ]
                    },
                    "metadata": {},
                    "output_type": "display_data"
                }
            ],
            "source": [
                "wi_ci = pred_ci[:,1] - pred_ci[:,0]\n",
                "wi_my = ucb - lcb\n",
                "plt.plot(wi_ci, wi_my, 'o')\n",
                "plt.show()"
            ]
        }
    ],
    "metadata": {
        "kernelspec": {
            "display_name": "Python 3 (ipykernel)",
            "language": "python",
            "name": "python3"
        },
        "language_info": {
            "codemirror_mode": {
                "name": "ipython",
                "version": 3
            },
            "file_extension": ".py",
            "mimetype": "text/x-python",
            "name": "python",
            "nbconvert_exporter": "python",
            "pygments_lexer": "ipython3",
            "version": "3.11.6"
        }
    },
    "nbformat": 4,
    "nbformat_minor": 5
}
