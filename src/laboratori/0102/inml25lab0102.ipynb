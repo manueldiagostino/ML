{
 "cells": [
  {
   "cell_type": "code",
   "execution_count": 3,
   "metadata": {},
   "outputs": [
    {
     "name": "stdout",
     "output_type": "stream",
     "text": [
      "/home/jovyan/src/laboratori/0102\n"
     ]
    }
   ],
   "source": [
    "%cd ~/src/laboratori/0102"
   ]
  },
  {
   "cell_type": "markdown",
   "metadata": {
    "id": "k5AHuIsc23mA"
   },
   "source": [
    "# **Introduzione al Machine Learning -- laboratorio 1 e 2**\n",
    "\n",
    "\n",
    "*   Colab, python, librerie\n",
    "*   Generare numeri casuali\n",
    "*   Fare grafici\n",
    "*   Caricare file\n",
    "\n",
    "\n"
   ]
  },
  {
   "cell_type": "markdown",
   "metadata": {
    "id": "lqUscdQp49_r"
   },
   "source": [
    "Notebook ispirato a Jupyter Notebook\n",
    "\n",
    "Celle di codice e celle di testo\n",
    "\n",
    "Celle di codice, di default c'è python\n",
    "\n",
    "Le celle di codice si eseguono con Ctrl-Enter"
   ]
  },
  {
   "cell_type": "code",
   "execution_count": 4,
   "metadata": {
    "colab": {
     "base_uri": "https://localhost:8080/"
    },
    "executionInfo": {
     "elapsed": 45,
     "status": "ok",
     "timestamp": 1739953929032,
     "user": {
      "displayName": "Francesco Morandin",
      "userId": "10258364529162349636"
     },
     "user_tz": -60
    },
    "id": "deGElom65cX_",
    "outputId": "971f5c06-2129-4df1-e43d-504f591ef093"
   },
   "outputs": [
    {
     "name": "stdout",
     "output_type": "stream",
     "text": [
      "Hello World!\n"
     ]
    }
   ],
   "source": [
    "print('Hello World!')"
   ]
  },
  {
   "cell_type": "markdown",
   "metadata": {
    "id": "HizxS-8aKmaa"
   },
   "source": [
    "Vediamo che versione di python c'è.\n",
    "\n",
    "Iniziare con il punto esclamativo vuol dire che il comando passa alla shell linux."
   ]
  },
  {
   "cell_type": "code",
   "execution_count": 5,
   "metadata": {
    "colab": {
     "base_uri": "https://localhost:8080/"
    },
    "executionInfo": {
     "elapsed": 98,
     "status": "ok",
     "timestamp": 1739951127556,
     "user": {
      "displayName": "Francesco Morandin",
      "userId": "10258364529162349636"
     },
     "user_tz": -60
    },
    "id": "31tvCkIoKlt2",
    "outputId": "a666dcde-976c-4652-8d82-3a2dfa8f1dfc"
   },
   "outputs": [
    {
     "name": "stdout",
     "output_type": "stream",
     "text": [
      "Python 3.11.6\n"
     ]
    }
   ],
   "source": [
    "!python --version"
   ]
  },
  {
   "cell_type": "markdown",
   "metadata": {
    "id": "zqpTfg6i66EZ"
   },
   "source": [
    "Librerie fondamentali che useremo:\n",
    "\n",
    "*   numpy (numeric python) `import numpy as np`\n",
    "*   matplotlib (grafici scientifici) `import matplotlib.pyplot as plt`\n",
    "*   scipy (cose avanzate sopra numpy, funzioni di distribuzione)\n",
    "*   pandas (serve a gestire i dataset, detti DataFrame)\n",
    "*   seaborn (grafici più sofisticati)\n",
    "*   torch (tipo numpy, ma anche su gpu, e deep learning)\n",
    "*   tensorflow (libreria classica per deep learning)\n",
    "\n",
    "Inizialmente cercheremo di usare poco le librerie, anche a costo di forzare il metodo.\n",
    "\n"
   ]
  },
  {
   "cell_type": "code",
   "execution_count": 6,
   "metadata": {
    "colab": {
     "base_uri": "https://localhost:8080/"
    },
    "executionInfo": {
     "elapsed": 113,
     "status": "ok",
     "timestamp": 1739951175412,
     "user": {
      "displayName": "Francesco Morandin",
      "userId": "10258364529162349636"
     },
     "user_tz": -60
    },
    "id": "9LZoWu8iK9T4",
    "outputId": "e5ac97a6-f500-43ec-8878-411d7a60df04"
   },
   "outputs": [
    {
     "name": "stdout",
     "output_type": "stream",
     "text": [
      "total 816\n",
      "drwxr-xr-x 2 jovyan 984   4096 Feb 20 08:30 .\n",
      "drwxr-xr-x 3 jovyan 984   4096 Feb 19 10:17 ..\n",
      "-rw-r--r-- 1 jovyan 984 329721 Feb 19 10:15 body.xlsx\n",
      "-rw-r--r-- 1 jovyan 984 494789 Feb 20 08:31 inml25lab0102.ipynb\n"
     ]
    }
   ],
   "source": [
    "!ls -al"
   ]
  },
  {
   "cell_type": "markdown",
   "metadata": {
    "id": "RU_BOhAnLHQh"
   },
   "source": [
    "Vogliamo generare un campione casuale."
   ]
  },
  {
   "cell_type": "code",
   "execution_count": 7,
   "metadata": {
    "id": "lWfqfYk5LGwY"
   },
   "outputs": [],
   "source": [
    "import random"
   ]
  },
  {
   "cell_type": "code",
   "execution_count": 8,
   "metadata": {
    "colab": {
     "base_uri": "https://localhost:8080/"
    },
    "executionInfo": {
     "elapsed": 8,
     "status": "ok",
     "timestamp": 1739951371413,
     "user": {
      "displayName": "Francesco Morandin",
      "userId": "10258364529162349636"
     },
     "user_tz": -60
    },
    "id": "X2rHHapOLdCC",
    "outputId": "75cfb088-800d-4c8b-8cdf-888c89398bfc"
   },
   "outputs": [
    {
     "data": {
      "text/plain": [
       "3"
      ]
     },
     "execution_count": 8,
     "metadata": {},
     "output_type": "execute_result"
    }
   ],
   "source": [
    "random.randint(1,6)"
   ]
  },
  {
   "cell_type": "code",
   "execution_count": 9,
   "metadata": {
    "id": "Ph-XNJeYLzN_"
   },
   "outputs": [],
   "source": [
    "dice = random.randint(1,6)"
   ]
  },
  {
   "cell_type": "code",
   "execution_count": 10,
   "metadata": {
    "colab": {
     "base_uri": "https://localhost:8080/"
    },
    "executionInfo": {
     "elapsed": 14,
     "status": "ok",
     "timestamp": 1739951423180,
     "user": {
      "displayName": "Francesco Morandin",
      "userId": "10258364529162349636"
     },
     "user_tz": -60
    },
    "id": "eVaNdm9WL6KS",
    "outputId": "f67fa4b4-f2ad-43a0-916a-52d9040391ba"
   },
   "outputs": [
    {
     "data": {
      "text/plain": [
       "1"
      ]
     },
     "execution_count": 10,
     "metadata": {},
     "output_type": "execute_result"
    }
   ],
   "source": [
    "random.randint(1,6)\n",
    "random.randint(1,6)\n",
    "random.randint(1,6)"
   ]
  },
  {
   "cell_type": "markdown",
   "metadata": {
    "id": "QUrGK803L8yr"
   },
   "source": [
    "Viene visualizzato come output aggiuntivo solo il valore ritornato dall'ultima funzione."
   ]
  },
  {
   "cell_type": "code",
   "execution_count": 11,
   "metadata": {
    "colab": {
     "base_uri": "https://localhost:8080/"
    },
    "executionInfo": {
     "elapsed": 1209,
     "status": "ok",
     "timestamp": 1739951505035,
     "user": {
      "displayName": "Francesco Morandin",
      "userId": "10258364529162349636"
     },
     "user_tz": -60
    },
    "id": "8e4a2ULdMJt9",
    "outputId": "f9e7cbe0-ca67-4219-9a52-73123b346adf"
   },
   "outputs": [
    {
     "name": "stdout",
     "output_type": "stream",
     "text": [
      "1\n",
      "3\n",
      "6\n"
     ]
    }
   ],
   "source": [
    "print(random.randint(1,6))\n",
    "print(random.randint(1,6))\n",
    "print(random.randint(1,6))"
   ]
  },
  {
   "cell_type": "code",
   "execution_count": 12,
   "metadata": {
    "colab": {
     "base_uri": "https://localhost:8080/"
    },
    "executionInfo": {
     "elapsed": 13,
     "status": "ok",
     "timestamp": 1739951672054,
     "user": {
      "displayName": "Francesco Morandin",
      "userId": "10258364529162349636"
     },
     "user_tz": -60
    },
    "id": "WK3SDSYqMRtq",
    "outputId": "97bdc2df-38d7-4f01-c31c-5ae8b067e6a1"
   },
   "outputs": [
    {
     "name": "stdout",
     "output_type": "stream",
     "text": [
      "2\n",
      "2\n",
      "1\n"
     ]
    }
   ],
   "source": [
    "random.seed()\n",
    "print(random.randint(1,6))\n",
    "print(random.randint(1,6))\n",
    "print(random.randint(1,6))"
   ]
  },
  {
   "cell_type": "markdown",
   "metadata": {
    "id": "2TdZ22raMsyB"
   },
   "source": [
    "Così la sequenza ha qualche chance di sembrare casuale."
   ]
  },
  {
   "cell_type": "code",
   "execution_count": 13,
   "metadata": {
    "colab": {
     "base_uri": "https://localhost:8080/"
    },
    "executionInfo": {
     "elapsed": 8,
     "status": "ok",
     "timestamp": 1739951681719,
     "user": {
      "displayName": "Francesco Morandin",
      "userId": "10258364529162349636"
     },
     "user_tz": -60
    },
    "id": "d9YYreyqMySu",
    "outputId": "2bab42f1-6eac-48df-e553-9c9e1bc65ab9"
   },
   "outputs": [
    {
     "name": "stdout",
     "output_type": "stream",
     "text": [
      "2\n",
      "5\n",
      "1\n"
     ]
    }
   ],
   "source": [
    "random.seed(114)\n",
    "print(random.randint(1,6))\n",
    "print(random.randint(1,6))\n",
    "print(random.randint(1,6))"
   ]
  },
  {
   "cell_type": "markdown",
   "metadata": {
    "id": "47RCwZH-M9ri"
   },
   "source": [
    "Così i numeri generati sono riproducibili."
   ]
  },
  {
   "cell_type": "code",
   "execution_count": 14,
   "metadata": {
    "colab": {
     "base_uri": "https://localhost:8080/"
    },
    "executionInfo": {
     "elapsed": 6,
     "status": "ok",
     "timestamp": 1739951848987,
     "user": {
      "displayName": "Francesco Morandin",
      "userId": "10258364529162349636"
     },
     "user_tz": -60
    },
    "id": "tgksOcg2NEJ_",
    "outputId": "deadc77c-8063-4685-a057-9b701e3b4eca"
   },
   "outputs": [
    {
     "name": "stdout",
     "output_type": "stream",
     "text": [
      "[3, 6, 2, 6, 5, 1, 2, 5, 5, 6]\n"
     ]
    }
   ],
   "source": [
    "dices = [] # lista vuota\n",
    "for i in range(10):\n",
    "    dices.append(random.randint(1,6))\n",
    "print(dices)"
   ]
  },
  {
   "cell_type": "code",
   "execution_count": 15,
   "metadata": {
    "colab": {
     "base_uri": "https://localhost:8080/"
    },
    "executionInfo": {
     "elapsed": 5,
     "status": "ok",
     "timestamp": 1739951949603,
     "user": {
      "displayName": "Francesco Morandin",
      "userId": "10258364529162349636"
     },
     "user_tz": -60
    },
    "id": "yPvQj3jINoHS",
    "outputId": "6a3e7eb7-1ccc-406a-f5cc-a938f2e02d2e"
   },
   "outputs": [
    {
     "name": "stdout",
     "output_type": "stream",
     "text": [
      "[5, 3, 5, 1, 5, 3, 3, 6, 1, 1]\n"
     ]
    }
   ],
   "source": [
    "dices = []\n",
    "for _ in range(10): # _ è una variabile che può buttare\n",
    "    dices += [random.randint(1,6)] # + concatena liste\n",
    "print(dices)"
   ]
  },
  {
   "cell_type": "code",
   "execution_count": 16,
   "metadata": {
    "colab": {
     "base_uri": "https://localhost:8080/"
    },
    "executionInfo": {
     "elapsed": 11,
     "status": "ok",
     "timestamp": 1739951997988,
     "user": {
      "displayName": "Francesco Morandin",
      "userId": "10258364529162349636"
     },
     "user_tz": -60
    },
    "id": "CQCKYzX0N9Un",
    "outputId": "d367529c-d002-4c6e-fc41-b9dc4589c519"
   },
   "outputs": [
    {
     "name": "stdout",
     "output_type": "stream",
     "text": [
      "[4, 4, 1, 5, 5, 3, 3, 5, 6, 6]\n"
     ]
    }
   ],
   "source": [
    "dices = [random.randint(1,6) for _ in range(10)]\n",
    "print(dices)"
   ]
  },
  {
   "cell_type": "markdown",
   "metadata": {
    "id": "mqtxArXGODes"
   },
   "source": [
    "La list comprehension è il modo \"pythonico\" di fare queste cose."
   ]
  },
  {
   "cell_type": "code",
   "execution_count": 17,
   "metadata": {
    "executionInfo": {
     "elapsed": 16,
     "status": "ok",
     "timestamp": 1739952161553,
     "user": {
      "displayName": "Francesco Morandin",
      "userId": "10258364529162349636"
     },
     "user_tz": -60
    },
    "id": "0kJLFbAN_tQ-"
   },
   "outputs": [],
   "source": [
    "# List comprehension\n",
    "dices = [random.randint(1, 6) for _ in range(600)]"
   ]
  },
  {
   "cell_type": "code",
   "execution_count": 18,
   "metadata": {
    "colab": {
     "base_uri": "https://localhost:8080/"
    },
    "executionInfo": {
     "elapsed": 1664,
     "status": "ok",
     "timestamp": 1739952228471,
     "user": {
      "displayName": "Francesco Morandin",
      "userId": "10258364529162349636"
     },
     "user_tz": -60
    },
    "id": "IJWhkRRdASbj",
    "outputId": "cb95efe8-b0c2-4c8b-bc7d-29ddd381cf79"
   },
   "outputs": [
    {
     "data": {
      "text/plain": [
       "[4, 5, 4, 2, 4, 6, 2, 3, 5, 3, 6, 1, 1, 2, 5]"
      ]
     },
     "execution_count": 18,
     "metadata": {},
     "output_type": "execute_result"
    }
   ],
   "source": [
    "dices[:15]"
   ]
  },
  {
   "cell_type": "code",
   "execution_count": 19,
   "metadata": {
    "colab": {
     "base_uri": "https://localhost:8080/"
    },
    "executionInfo": {
     "elapsed": 19,
     "status": "ok",
     "timestamp": 1739952321775,
     "user": {
      "displayName": "Francesco Morandin",
      "userId": "10258364529162349636"
     },
     "user_tz": -60
    },
    "id": "_APVbkFgPS4f",
    "outputId": "8f4dde1d-6b0b-46aa-ba8d-625e1739136d"
   },
   "outputs": [
    {
     "data": {
      "text/plain": [
       "107"
      ]
     },
     "execution_count": 19,
     "metadata": {},
     "output_type": "execute_result"
    }
   ],
   "source": [
    "dices.count(1) # conta quante volte compare un elemento"
   ]
  },
  {
   "cell_type": "code",
   "execution_count": 20,
   "metadata": {
    "colab": {
     "base_uri": "https://localhost:8080/"
    },
    "executionInfo": {
     "elapsed": 152,
     "status": "ok",
     "timestamp": 1739952424415,
     "user": {
      "displayName": "Francesco Morandin",
      "userId": "10258364529162349636"
     },
     "user_tz": -60
    },
    "id": "NMQZuROPPfAy",
    "outputId": "2b0a8f68-5bb0-497e-9a99-4cead656fbdd"
   },
   "outputs": [
    {
     "data": {
      "text/plain": [
       "[1, 2, 3, 4, 5, 6]"
      ]
     },
     "execution_count": 20,
     "metadata": {},
     "output_type": "execute_result"
    }
   ],
   "source": [
    "list(range(1, 7)) # list() per \"vedere\" i numeri"
   ]
  },
  {
   "cell_type": "code",
   "execution_count": 21,
   "metadata": {
    "colab": {
     "base_uri": "https://localhost:8080/"
    },
    "executionInfo": {
     "elapsed": 7,
     "status": "ok",
     "timestamp": 1739952456251,
     "user": {
      "displayName": "Francesco Morandin",
      "userId": "10258364529162349636"
     },
     "user_tz": -60
    },
    "id": "pwzj0_RPAvLq",
    "outputId": "5acc011b-2b88-47e0-eca4-e5cffefb4540"
   },
   "outputs": [
    {
     "name": "stdout",
     "output_type": "stream",
     "text": [
      "[107, 90, 111, 111, 87, 94]\n"
     ]
    }
   ],
   "source": [
    "# Conto le frequenze\n",
    "freqs = [dices.count(i) for i in range(1, 7)]\n",
    "print(freqs)"
   ]
  },
  {
   "cell_type": "code",
   "execution_count": 22,
   "metadata": {
    "executionInfo": {
     "elapsed": 296,
     "status": "ok",
     "timestamp": 1739953066780,
     "user": {
      "displayName": "Francesco Morandin",
      "userId": "10258364529162349636"
     },
     "user_tz": -60
    },
    "id": "dDD27SVdQFHA"
   },
   "outputs": [],
   "source": [
    "import pandas as pd               # libreria per gestire i dataset\n",
    "import numpy as np                # libreria per matematica e array\n",
    "import matplotlib.pyplot as plt   # libreria per i grafici\n",
    "\n",
    "path = 'body.xlsx'\n",
    "ret = pd.read_excel(path, sheet_name=None)"
   ]
  },
  {
   "cell_type": "code",
   "execution_count": 23,
   "metadata": {
    "colab": {
     "base_uri": "https://localhost:8080/"
    },
    "executionInfo": {
     "elapsed": 25,
     "status": "ok",
     "timestamp": 1739953092305,
     "user": {
      "displayName": "Francesco Morandin",
      "userId": "10258364529162349636"
     },
     "user_tz": -60
    },
    "id": "wXPxRisBRUyE",
    "outputId": "33584024-1ef0-4ddc-80df-8bda16ee3315"
   },
   "outputs": [
    {
     "data": {
      "text/plain": [
       "dict"
      ]
     },
     "execution_count": 23,
     "metadata": {},
     "output_type": "execute_result"
    }
   ],
   "source": [
    "type(ret)"
   ]
  },
  {
   "cell_type": "code",
   "execution_count": 24,
   "metadata": {
    "colab": {
     "base_uri": "https://localhost:8080/"
    },
    "executionInfo": {
     "elapsed": 30,
     "status": "ok",
     "timestamp": 1739953135142,
     "user": {
      "displayName": "Francesco Morandin",
      "userId": "10258364529162349636"
     },
     "user_tz": -60
    },
    "id": "6cmz9jQrST_k",
    "outputId": "b1582f1b-3b68-4db5-d6b4-6ecadbd80b20"
   },
   "outputs": [
    {
     "name": "stdout",
     "output_type": "stream",
     "text": [
      "dict_keys(['body.dat', 'Sheet3', 'Sheet4', 'Sheet4 (2)', 'Sheet6', 'Sheet1', 'Sheet2'])\n",
      "7\n"
     ]
    }
   ],
   "source": [
    "print(ret.keys())\n",
    "print(len(ret))"
   ]
  },
  {
   "cell_type": "code",
   "execution_count": 25,
   "metadata": {
    "colab": {
     "base_uri": "https://localhost:8080/",
     "height": 204
    },
    "executionInfo": {
     "elapsed": 592,
     "status": "ok",
     "timestamp": 1739953163458,
     "user": {
      "displayName": "Francesco Morandin",
      "userId": "10258364529162349636"
     },
     "user_tz": -60
    },
    "id": "pTMxvdaMShB4",
    "outputId": "3ea34502-20e1-4e2e-f0d2-f5f25821fb04"
   },
   "outputs": [
    {
     "data": {
      "text/plain": [
       "pandas.core.frame.DataFrame"
      ]
     },
     "execution_count": 25,
     "metadata": {},
     "output_type": "execute_result"
    }
   ],
   "source": [
    "type(ret['body.dat'])"
   ]
  },
  {
   "cell_type": "code",
   "execution_count": 26,
   "metadata": {
    "colab": {
     "base_uri": "https://localhost:8080/",
     "height": 582
    },
    "executionInfo": {
     "elapsed": 59,
     "status": "ok",
     "timestamp": 1739953176775,
     "user": {
      "displayName": "Francesco Morandin",
      "userId": "10258364529162349636"
     },
     "user_tz": -60
    },
    "id": "ERfT7CqLSmbW",
    "outputId": "30ea67c6-f122-4032-d481-f1672facb598"
   },
   "outputs": [
    {
     "data": {
      "text/html": [
       "<div>\n",
       "<style scoped>\n",
       "    .dataframe tbody tr th:only-of-type {\n",
       "        vertical-align: middle;\n",
       "    }\n",
       "\n",
       "    .dataframe tbody tr th {\n",
       "        vertical-align: top;\n",
       "    }\n",
       "\n",
       "    .dataframe thead th {\n",
       "        text-align: right;\n",
       "    }\n",
       "</style>\n",
       "<table border=\"1\" class=\"dataframe\">\n",
       "  <thead>\n",
       "    <tr style=\"text-align: right;\">\n",
       "      <th></th>\n",
       "      <th>Id</th>\n",
       "      <th>Biacromial diameter (see Fig. 2)</th>\n",
       "      <th>Biiliac diameter, or \"pelvic breadth\" (see Fig. 2)</th>\n",
       "      <th>Bitrochanteric diameter (see Fig. 2)</th>\n",
       "      <th>Chest depth between spine and sternum at nipple level,</th>\n",
       "      <th>Chest diameter at nipple level, mid-expiration</th>\n",
       "      <th>Elbow diameter, sum of two elbows</th>\n",
       "      <th>Wrist diameter, sum of two wrists</th>\n",
       "      <th>Knee diameter, sum of two knees</th>\n",
       "      <th>Ankle diameter, sum of two ankles</th>\n",
       "      <th>...</th>\n",
       "      <th>Bicep girth, flexed, average of right and left girths</th>\n",
       "      <th>Forearm girth, extended, palm up, average of right and</th>\n",
       "      <th>Knee girth over patella, slightly flexed position, average</th>\n",
       "      <th>Calf maximum girth, average of right and left girths</th>\n",
       "      <th>Ankle minimum girth, average of right and left girths</th>\n",
       "      <th>Wrist minimum girth, average of right and left girths</th>\n",
       "      <th>Age (years)</th>\n",
       "      <th>Weight (kg)</th>\n",
       "      <th>Height (cm)</th>\n",
       "      <th>Gender (1 - male, 0 - female)</th>\n",
       "    </tr>\n",
       "  </thead>\n",
       "  <tbody>\n",
       "    <tr>\n",
       "      <th>0</th>\n",
       "      <td>1</td>\n",
       "      <td>42.9</td>\n",
       "      <td>26.0</td>\n",
       "      <td>31.5</td>\n",
       "      <td>17.7</td>\n",
       "      <td>28.0</td>\n",
       "      <td>13.1</td>\n",
       "      <td>10.4</td>\n",
       "      <td>18.8</td>\n",
       "      <td>14.1</td>\n",
       "      <td>...</td>\n",
       "      <td>32.5</td>\n",
       "      <td>26.0</td>\n",
       "      <td>34.5</td>\n",
       "      <td>36.5</td>\n",
       "      <td>23.5</td>\n",
       "      <td>16.5</td>\n",
       "      <td>21</td>\n",
       "      <td>65.6</td>\n",
       "      <td>174.0</td>\n",
       "      <td>1</td>\n",
       "    </tr>\n",
       "    <tr>\n",
       "      <th>1</th>\n",
       "      <td>2</td>\n",
       "      <td>43.7</td>\n",
       "      <td>28.5</td>\n",
       "      <td>33.5</td>\n",
       "      <td>16.9</td>\n",
       "      <td>30.8</td>\n",
       "      <td>14.0</td>\n",
       "      <td>11.8</td>\n",
       "      <td>20.6</td>\n",
       "      <td>15.1</td>\n",
       "      <td>...</td>\n",
       "      <td>34.4</td>\n",
       "      <td>28.0</td>\n",
       "      <td>36.5</td>\n",
       "      <td>37.5</td>\n",
       "      <td>24.5</td>\n",
       "      <td>17.0</td>\n",
       "      <td>23</td>\n",
       "      <td>71.8</td>\n",
       "      <td>175.3</td>\n",
       "      <td>1</td>\n",
       "    </tr>\n",
       "    <tr>\n",
       "      <th>2</th>\n",
       "      <td>3</td>\n",
       "      <td>40.1</td>\n",
       "      <td>28.2</td>\n",
       "      <td>33.3</td>\n",
       "      <td>20.9</td>\n",
       "      <td>31.7</td>\n",
       "      <td>13.9</td>\n",
       "      <td>10.9</td>\n",
       "      <td>19.7</td>\n",
       "      <td>14.1</td>\n",
       "      <td>...</td>\n",
       "      <td>33.4</td>\n",
       "      <td>28.8</td>\n",
       "      <td>37.0</td>\n",
       "      <td>37.3</td>\n",
       "      <td>21.9</td>\n",
       "      <td>16.9</td>\n",
       "      <td>28</td>\n",
       "      <td>80.7</td>\n",
       "      <td>193.5</td>\n",
       "      <td>1</td>\n",
       "    </tr>\n",
       "    <tr>\n",
       "      <th>3</th>\n",
       "      <td>4</td>\n",
       "      <td>44.3</td>\n",
       "      <td>29.9</td>\n",
       "      <td>34.0</td>\n",
       "      <td>18.4</td>\n",
       "      <td>28.2</td>\n",
       "      <td>13.9</td>\n",
       "      <td>11.2</td>\n",
       "      <td>20.9</td>\n",
       "      <td>15.0</td>\n",
       "      <td>...</td>\n",
       "      <td>31.0</td>\n",
       "      <td>26.2</td>\n",
       "      <td>37.0</td>\n",
       "      <td>34.8</td>\n",
       "      <td>23.0</td>\n",
       "      <td>16.6</td>\n",
       "      <td>23</td>\n",
       "      <td>72.6</td>\n",
       "      <td>186.5</td>\n",
       "      <td>1</td>\n",
       "    </tr>\n",
       "    <tr>\n",
       "      <th>4</th>\n",
       "      <td>5</td>\n",
       "      <td>42.5</td>\n",
       "      <td>29.9</td>\n",
       "      <td>34.0</td>\n",
       "      <td>21.5</td>\n",
       "      <td>29.4</td>\n",
       "      <td>15.2</td>\n",
       "      <td>11.6</td>\n",
       "      <td>20.7</td>\n",
       "      <td>14.9</td>\n",
       "      <td>...</td>\n",
       "      <td>32.0</td>\n",
       "      <td>28.4</td>\n",
       "      <td>37.7</td>\n",
       "      <td>38.6</td>\n",
       "      <td>24.4</td>\n",
       "      <td>18.0</td>\n",
       "      <td>22</td>\n",
       "      <td>78.8</td>\n",
       "      <td>187.2</td>\n",
       "      <td>1</td>\n",
       "    </tr>\n",
       "    <tr>\n",
       "      <th>...</th>\n",
       "      <td>...</td>\n",
       "      <td>...</td>\n",
       "      <td>...</td>\n",
       "      <td>...</td>\n",
       "      <td>...</td>\n",
       "      <td>...</td>\n",
       "      <td>...</td>\n",
       "      <td>...</td>\n",
       "      <td>...</td>\n",
       "      <td>...</td>\n",
       "      <td>...</td>\n",
       "      <td>...</td>\n",
       "      <td>...</td>\n",
       "      <td>...</td>\n",
       "      <td>...</td>\n",
       "      <td>...</td>\n",
       "      <td>...</td>\n",
       "      <td>...</td>\n",
       "      <td>...</td>\n",
       "      <td>...</td>\n",
       "      <td>...</td>\n",
       "    </tr>\n",
       "    <tr>\n",
       "      <th>502</th>\n",
       "      <td>503</td>\n",
       "      <td>38.0</td>\n",
       "      <td>30.4</td>\n",
       "      <td>32.9</td>\n",
       "      <td>17.0</td>\n",
       "      <td>27.1</td>\n",
       "      <td>12.9</td>\n",
       "      <td>10.4</td>\n",
       "      <td>19.5</td>\n",
       "      <td>14.4</td>\n",
       "      <td>...</td>\n",
       "      <td>30.3</td>\n",
       "      <td>25.4</td>\n",
       "      <td>37.7</td>\n",
       "      <td>37.9</td>\n",
       "      <td>22.4</td>\n",
       "      <td>15.4</td>\n",
       "      <td>29</td>\n",
       "      <td>71.8</td>\n",
       "      <td>176.5</td>\n",
       "      <td>0</td>\n",
       "    </tr>\n",
       "    <tr>\n",
       "      <th>503</th>\n",
       "      <td>504</td>\n",
       "      <td>35.3</td>\n",
       "      <td>28.7</td>\n",
       "      <td>30.4</td>\n",
       "      <td>17.7</td>\n",
       "      <td>25.6</td>\n",
       "      <td>12.4</td>\n",
       "      <td>9.8</td>\n",
       "      <td>17.3</td>\n",
       "      <td>13.6</td>\n",
       "      <td>...</td>\n",
       "      <td>30.1</td>\n",
       "      <td>23.6</td>\n",
       "      <td>35.6</td>\n",
       "      <td>33.3</td>\n",
       "      <td>22.4</td>\n",
       "      <td>15.2</td>\n",
       "      <td>21</td>\n",
       "      <td>55.5</td>\n",
       "      <td>164.4</td>\n",
       "      <td>0</td>\n",
       "    </tr>\n",
       "    <tr>\n",
       "      <th>504</th>\n",
       "      <td>505</td>\n",
       "      <td>34.7</td>\n",
       "      <td>24.9</td>\n",
       "      <td>24.7</td>\n",
       "      <td>17.3</td>\n",
       "      <td>24.2</td>\n",
       "      <td>12.0</td>\n",
       "      <td>10.2</td>\n",
       "      <td>18.0</td>\n",
       "      <td>13.6</td>\n",
       "      <td>...</td>\n",
       "      <td>27.4</td>\n",
       "      <td>24.0</td>\n",
       "      <td>34.4</td>\n",
       "      <td>34.1</td>\n",
       "      <td>21.2</td>\n",
       "      <td>15.5</td>\n",
       "      <td>33</td>\n",
       "      <td>48.6</td>\n",
       "      <td>160.7</td>\n",
       "      <td>0</td>\n",
       "    </tr>\n",
       "    <tr>\n",
       "      <th>505</th>\n",
       "      <td>506</td>\n",
       "      <td>38.5</td>\n",
       "      <td>29.0</td>\n",
       "      <td>32.9</td>\n",
       "      <td>15.3</td>\n",
       "      <td>25.6</td>\n",
       "      <td>12.0</td>\n",
       "      <td>9.8</td>\n",
       "      <td>18.6</td>\n",
       "      <td>13.3</td>\n",
       "      <td>...</td>\n",
       "      <td>30.6</td>\n",
       "      <td>24.9</td>\n",
       "      <td>38.4</td>\n",
       "      <td>36.6</td>\n",
       "      <td>22.0</td>\n",
       "      <td>15.5</td>\n",
       "      <td>33</td>\n",
       "      <td>66.4</td>\n",
       "      <td>174.0</td>\n",
       "      <td>0</td>\n",
       "    </tr>\n",
       "    <tr>\n",
       "      <th>506</th>\n",
       "      <td>507</td>\n",
       "      <td>35.6</td>\n",
       "      <td>29.0</td>\n",
       "      <td>29.0</td>\n",
       "      <td>20.4</td>\n",
       "      <td>26.8</td>\n",
       "      <td>13.4</td>\n",
       "      <td>10.8</td>\n",
       "      <td>18.7</td>\n",
       "      <td>13.8</td>\n",
       "      <td>...</td>\n",
       "      <td>33.2</td>\n",
       "      <td>25.5</td>\n",
       "      <td>39.6</td>\n",
       "      <td>35.9</td>\n",
       "      <td>23.0</td>\n",
       "      <td>16.4</td>\n",
       "      <td>38</td>\n",
       "      <td>67.3</td>\n",
       "      <td>163.8</td>\n",
       "      <td>0</td>\n",
       "    </tr>\n",
       "  </tbody>\n",
       "</table>\n",
       "<p>507 rows × 26 columns</p>\n",
       "</div>"
      ],
      "text/plain": [
       "      Id  Biacromial diameter (see Fig. 2)  \\\n",
       "0      1                              42.9   \n",
       "1      2                              43.7   \n",
       "2      3                              40.1   \n",
       "3      4                              44.3   \n",
       "4      5                              42.5   \n",
       "..   ...                               ...   \n",
       "502  503                              38.0   \n",
       "503  504                              35.3   \n",
       "504  505                              34.7   \n",
       "505  506                              38.5   \n",
       "506  507                              35.6   \n",
       "\n",
       "     Biiliac diameter, or \"pelvic breadth\" (see Fig. 2)  \\\n",
       "0                                                 26.0    \n",
       "1                                                 28.5    \n",
       "2                                                 28.2    \n",
       "3                                                 29.9    \n",
       "4                                                 29.9    \n",
       "..                                                 ...    \n",
       "502                                               30.4    \n",
       "503                                               28.7    \n",
       "504                                               24.9    \n",
       "505                                               29.0    \n",
       "506                                               29.0    \n",
       "\n",
       "     Bitrochanteric diameter (see Fig. 2)  \\\n",
       "0                                    31.5   \n",
       "1                                    33.5   \n",
       "2                                    33.3   \n",
       "3                                    34.0   \n",
       "4                                    34.0   \n",
       "..                                    ...   \n",
       "502                                  32.9   \n",
       "503                                  30.4   \n",
       "504                                  24.7   \n",
       "505                                  32.9   \n",
       "506                                  29.0   \n",
       "\n",
       "     Chest depth between spine and sternum at nipple level,  \\\n",
       "0                                                 17.7        \n",
       "1                                                 16.9        \n",
       "2                                                 20.9        \n",
       "3                                                 18.4        \n",
       "4                                                 21.5        \n",
       "..                                                 ...        \n",
       "502                                               17.0        \n",
       "503                                               17.7        \n",
       "504                                               17.3        \n",
       "505                                               15.3        \n",
       "506                                               20.4        \n",
       "\n",
       "     Chest diameter at nipple level, mid-expiration  \\\n",
       "0                                              28.0   \n",
       "1                                              30.8   \n",
       "2                                              31.7   \n",
       "3                                              28.2   \n",
       "4                                              29.4   \n",
       "..                                              ...   \n",
       "502                                            27.1   \n",
       "503                                            25.6   \n",
       "504                                            24.2   \n",
       "505                                            25.6   \n",
       "506                                            26.8   \n",
       "\n",
       "     Elbow diameter, sum of two elbows  Wrist diameter, sum of two wrists  \\\n",
       "0                                 13.1                               10.4   \n",
       "1                                 14.0                               11.8   \n",
       "2                                 13.9                               10.9   \n",
       "3                                 13.9                               11.2   \n",
       "4                                 15.2                               11.6   \n",
       "..                                 ...                                ...   \n",
       "502                               12.9                               10.4   \n",
       "503                               12.4                                9.8   \n",
       "504                               12.0                               10.2   \n",
       "505                               12.0                                9.8   \n",
       "506                               13.4                               10.8   \n",
       "\n",
       "     Knee diameter, sum of two knees  Ankle diameter, sum of two ankles  ...  \\\n",
       "0                               18.8                               14.1  ...   \n",
       "1                               20.6                               15.1  ...   \n",
       "2                               19.7                               14.1  ...   \n",
       "3                               20.9                               15.0  ...   \n",
       "4                               20.7                               14.9  ...   \n",
       "..                               ...                                ...  ...   \n",
       "502                             19.5                               14.4  ...   \n",
       "503                             17.3                               13.6  ...   \n",
       "504                             18.0                               13.6  ...   \n",
       "505                             18.6                               13.3  ...   \n",
       "506                             18.7                               13.8  ...   \n",
       "\n",
       "     Bicep girth, flexed, average of right and left girths  \\\n",
       "0                                                 32.5       \n",
       "1                                                 34.4       \n",
       "2                                                 33.4       \n",
       "3                                                 31.0       \n",
       "4                                                 32.0       \n",
       "..                                                 ...       \n",
       "502                                               30.3       \n",
       "503                                               30.1       \n",
       "504                                               27.4       \n",
       "505                                               30.6       \n",
       "506                                               33.2       \n",
       "\n",
       "     Forearm girth, extended, palm up, average of right and  \\\n",
       "0                                                 26.0        \n",
       "1                                                 28.0        \n",
       "2                                                 28.8        \n",
       "3                                                 26.2        \n",
       "4                                                 28.4        \n",
       "..                                                 ...        \n",
       "502                                               25.4        \n",
       "503                                               23.6        \n",
       "504                                               24.0        \n",
       "505                                               24.9        \n",
       "506                                               25.5        \n",
       "\n",
       "     Knee girth over patella, slightly flexed position, average  \\\n",
       "0                                                 34.5            \n",
       "1                                                 36.5            \n",
       "2                                                 37.0            \n",
       "3                                                 37.0            \n",
       "4                                                 37.7            \n",
       "..                                                 ...            \n",
       "502                                               37.7            \n",
       "503                                               35.6            \n",
       "504                                               34.4            \n",
       "505                                               38.4            \n",
       "506                                               39.6            \n",
       "\n",
       "     Calf maximum girth, average of right and left girths  \\\n",
       "0                                                 36.5      \n",
       "1                                                 37.5      \n",
       "2                                                 37.3      \n",
       "3                                                 34.8      \n",
       "4                                                 38.6      \n",
       "..                                                 ...      \n",
       "502                                               37.9      \n",
       "503                                               33.3      \n",
       "504                                               34.1      \n",
       "505                                               36.6      \n",
       "506                                               35.9      \n",
       "\n",
       "     Ankle minimum girth, average of right and left girths  \\\n",
       "0                                                 23.5       \n",
       "1                                                 24.5       \n",
       "2                                                 21.9       \n",
       "3                                                 23.0       \n",
       "4                                                 24.4       \n",
       "..                                                 ...       \n",
       "502                                               22.4       \n",
       "503                                               22.4       \n",
       "504                                               21.2       \n",
       "505                                               22.0       \n",
       "506                                               23.0       \n",
       "\n",
       "     Wrist minimum girth, average of right and left girths  Age (years)  \\\n",
       "0                                                 16.5               21   \n",
       "1                                                 17.0               23   \n",
       "2                                                 16.9               28   \n",
       "3                                                 16.6               23   \n",
       "4                                                 18.0               22   \n",
       "..                                                 ...              ...   \n",
       "502                                               15.4               29   \n",
       "503                                               15.2               21   \n",
       "504                                               15.5               33   \n",
       "505                                               15.5               33   \n",
       "506                                               16.4               38   \n",
       "\n",
       "     Weight (kg)  Height (cm)  Gender (1 - male, 0 - female)  \n",
       "0           65.6        174.0                              1  \n",
       "1           71.8        175.3                              1  \n",
       "2           80.7        193.5                              1  \n",
       "3           72.6        186.5                              1  \n",
       "4           78.8        187.2                              1  \n",
       "..           ...          ...                            ...  \n",
       "502         71.8        176.5                              0  \n",
       "503         55.5        164.4                              0  \n",
       "504         48.6        160.7                              0  \n",
       "505         66.4        174.0                              0  \n",
       "506         67.3        163.8                              0  \n",
       "\n",
       "[507 rows x 26 columns]"
      ]
     },
     "execution_count": 26,
     "metadata": {},
     "output_type": "execute_result"
    }
   ],
   "source": [
    "ret['body.dat']"
   ]
  },
  {
   "cell_type": "code",
   "execution_count": 27,
   "metadata": {
    "colab": {
     "base_uri": "https://localhost:8080/",
     "height": 614
    },
    "executionInfo": {
     "elapsed": 211,
     "status": "ok",
     "timestamp": 1739953332738,
     "user": {
      "displayName": "Francesco Morandin",
      "userId": "10258364529162349636"
     },
     "user_tz": -60
    },
    "id": "ZnA4D-2jTFgB",
    "outputId": "77fbf79b-100f-4409-82c6-6bf0a9c2b684"
   },
   "outputs": [
    {
     "data": {
      "text/html": [
       "<div>\n",
       "<style scoped>\n",
       "    .dataframe tbody tr th:only-of-type {\n",
       "        vertical-align: middle;\n",
       "    }\n",
       "\n",
       "    .dataframe tbody tr th {\n",
       "        vertical-align: top;\n",
       "    }\n",
       "\n",
       "    .dataframe thead th {\n",
       "        text-align: right;\n",
       "    }\n",
       "</style>\n",
       "<table border=\"1\" class=\"dataframe\">\n",
       "  <thead>\n",
       "    <tr style=\"text-align: right;\">\n",
       "      <th></th>\n",
       "      <th>Biacromial diameter (see Fig. 2)</th>\n",
       "      <th>Biiliac diameter, or \"pelvic breadth\" (see Fig. 2)</th>\n",
       "      <th>Bitrochanteric diameter (see Fig. 2)</th>\n",
       "      <th>Chest depth between spine and sternum at nipple level,</th>\n",
       "      <th>Chest diameter at nipple level, mid-expiration</th>\n",
       "      <th>Elbow diameter, sum of two elbows</th>\n",
       "      <th>Wrist diameter, sum of two wrists</th>\n",
       "      <th>Knee diameter, sum of two knees</th>\n",
       "      <th>Ankle diameter, sum of two ankles</th>\n",
       "      <th>Shoulder girth over deltoid muscles</th>\n",
       "      <th>...</th>\n",
       "      <th>Bicep girth, flexed, average of right and left girths</th>\n",
       "      <th>Forearm girth, extended, palm up, average of right and</th>\n",
       "      <th>Knee girth over patella, slightly flexed position, average</th>\n",
       "      <th>Calf maximum girth, average of right and left girths</th>\n",
       "      <th>Ankle minimum girth, average of right and left girths</th>\n",
       "      <th>Wrist minimum girth, average of right and left girths</th>\n",
       "      <th>Age (years)</th>\n",
       "      <th>Weight (kg)</th>\n",
       "      <th>Height (cm)</th>\n",
       "      <th>Gender (1 - male, 0 - female)</th>\n",
       "    </tr>\n",
       "    <tr>\n",
       "      <th>Id</th>\n",
       "      <th></th>\n",
       "      <th></th>\n",
       "      <th></th>\n",
       "      <th></th>\n",
       "      <th></th>\n",
       "      <th></th>\n",
       "      <th></th>\n",
       "      <th></th>\n",
       "      <th></th>\n",
       "      <th></th>\n",
       "      <th></th>\n",
       "      <th></th>\n",
       "      <th></th>\n",
       "      <th></th>\n",
       "      <th></th>\n",
       "      <th></th>\n",
       "      <th></th>\n",
       "      <th></th>\n",
       "      <th></th>\n",
       "      <th></th>\n",
       "      <th></th>\n",
       "    </tr>\n",
       "  </thead>\n",
       "  <tbody>\n",
       "    <tr>\n",
       "      <th>1</th>\n",
       "      <td>42.9</td>\n",
       "      <td>26.0</td>\n",
       "      <td>31.5</td>\n",
       "      <td>17.7</td>\n",
       "      <td>28.0</td>\n",
       "      <td>13.1</td>\n",
       "      <td>10.4</td>\n",
       "      <td>18.8</td>\n",
       "      <td>14.1</td>\n",
       "      <td>106.2</td>\n",
       "      <td>...</td>\n",
       "      <td>32.5</td>\n",
       "      <td>26.0</td>\n",
       "      <td>34.5</td>\n",
       "      <td>36.5</td>\n",
       "      <td>23.5</td>\n",
       "      <td>16.5</td>\n",
       "      <td>21</td>\n",
       "      <td>65.6</td>\n",
       "      <td>174.0</td>\n",
       "      <td>1</td>\n",
       "    </tr>\n",
       "    <tr>\n",
       "      <th>2</th>\n",
       "      <td>43.7</td>\n",
       "      <td>28.5</td>\n",
       "      <td>33.5</td>\n",
       "      <td>16.9</td>\n",
       "      <td>30.8</td>\n",
       "      <td>14.0</td>\n",
       "      <td>11.8</td>\n",
       "      <td>20.6</td>\n",
       "      <td>15.1</td>\n",
       "      <td>110.5</td>\n",
       "      <td>...</td>\n",
       "      <td>34.4</td>\n",
       "      <td>28.0</td>\n",
       "      <td>36.5</td>\n",
       "      <td>37.5</td>\n",
       "      <td>24.5</td>\n",
       "      <td>17.0</td>\n",
       "      <td>23</td>\n",
       "      <td>71.8</td>\n",
       "      <td>175.3</td>\n",
       "      <td>1</td>\n",
       "    </tr>\n",
       "    <tr>\n",
       "      <th>3</th>\n",
       "      <td>40.1</td>\n",
       "      <td>28.2</td>\n",
       "      <td>33.3</td>\n",
       "      <td>20.9</td>\n",
       "      <td>31.7</td>\n",
       "      <td>13.9</td>\n",
       "      <td>10.9</td>\n",
       "      <td>19.7</td>\n",
       "      <td>14.1</td>\n",
       "      <td>115.1</td>\n",
       "      <td>...</td>\n",
       "      <td>33.4</td>\n",
       "      <td>28.8</td>\n",
       "      <td>37.0</td>\n",
       "      <td>37.3</td>\n",
       "      <td>21.9</td>\n",
       "      <td>16.9</td>\n",
       "      <td>28</td>\n",
       "      <td>80.7</td>\n",
       "      <td>193.5</td>\n",
       "      <td>1</td>\n",
       "    </tr>\n",
       "    <tr>\n",
       "      <th>4</th>\n",
       "      <td>44.3</td>\n",
       "      <td>29.9</td>\n",
       "      <td>34.0</td>\n",
       "      <td>18.4</td>\n",
       "      <td>28.2</td>\n",
       "      <td>13.9</td>\n",
       "      <td>11.2</td>\n",
       "      <td>20.9</td>\n",
       "      <td>15.0</td>\n",
       "      <td>104.5</td>\n",
       "      <td>...</td>\n",
       "      <td>31.0</td>\n",
       "      <td>26.2</td>\n",
       "      <td>37.0</td>\n",
       "      <td>34.8</td>\n",
       "      <td>23.0</td>\n",
       "      <td>16.6</td>\n",
       "      <td>23</td>\n",
       "      <td>72.6</td>\n",
       "      <td>186.5</td>\n",
       "      <td>1</td>\n",
       "    </tr>\n",
       "    <tr>\n",
       "      <th>5</th>\n",
       "      <td>42.5</td>\n",
       "      <td>29.9</td>\n",
       "      <td>34.0</td>\n",
       "      <td>21.5</td>\n",
       "      <td>29.4</td>\n",
       "      <td>15.2</td>\n",
       "      <td>11.6</td>\n",
       "      <td>20.7</td>\n",
       "      <td>14.9</td>\n",
       "      <td>107.5</td>\n",
       "      <td>...</td>\n",
       "      <td>32.0</td>\n",
       "      <td>28.4</td>\n",
       "      <td>37.7</td>\n",
       "      <td>38.6</td>\n",
       "      <td>24.4</td>\n",
       "      <td>18.0</td>\n",
       "      <td>22</td>\n",
       "      <td>78.8</td>\n",
       "      <td>187.2</td>\n",
       "      <td>1</td>\n",
       "    </tr>\n",
       "    <tr>\n",
       "      <th>...</th>\n",
       "      <td>...</td>\n",
       "      <td>...</td>\n",
       "      <td>...</td>\n",
       "      <td>...</td>\n",
       "      <td>...</td>\n",
       "      <td>...</td>\n",
       "      <td>...</td>\n",
       "      <td>...</td>\n",
       "      <td>...</td>\n",
       "      <td>...</td>\n",
       "      <td>...</td>\n",
       "      <td>...</td>\n",
       "      <td>...</td>\n",
       "      <td>...</td>\n",
       "      <td>...</td>\n",
       "      <td>...</td>\n",
       "      <td>...</td>\n",
       "      <td>...</td>\n",
       "      <td>...</td>\n",
       "      <td>...</td>\n",
       "      <td>...</td>\n",
       "    </tr>\n",
       "    <tr>\n",
       "      <th>503</th>\n",
       "      <td>38.0</td>\n",
       "      <td>30.4</td>\n",
       "      <td>32.9</td>\n",
       "      <td>17.0</td>\n",
       "      <td>27.1</td>\n",
       "      <td>12.9</td>\n",
       "      <td>10.4</td>\n",
       "      <td>19.5</td>\n",
       "      <td>14.4</td>\n",
       "      <td>108.4</td>\n",
       "      <td>...</td>\n",
       "      <td>30.3</td>\n",
       "      <td>25.4</td>\n",
       "      <td>37.7</td>\n",
       "      <td>37.9</td>\n",
       "      <td>22.4</td>\n",
       "      <td>15.4</td>\n",
       "      <td>29</td>\n",
       "      <td>71.8</td>\n",
       "      <td>176.5</td>\n",
       "      <td>0</td>\n",
       "    </tr>\n",
       "    <tr>\n",
       "      <th>504</th>\n",
       "      <td>35.3</td>\n",
       "      <td>28.7</td>\n",
       "      <td>30.4</td>\n",
       "      <td>17.7</td>\n",
       "      <td>25.6</td>\n",
       "      <td>12.4</td>\n",
       "      <td>9.8</td>\n",
       "      <td>17.3</td>\n",
       "      <td>13.6</td>\n",
       "      <td>99.3</td>\n",
       "      <td>...</td>\n",
       "      <td>30.1</td>\n",
       "      <td>23.6</td>\n",
       "      <td>35.6</td>\n",
       "      <td>33.3</td>\n",
       "      <td>22.4</td>\n",
       "      <td>15.2</td>\n",
       "      <td>21</td>\n",
       "      <td>55.5</td>\n",
       "      <td>164.4</td>\n",
       "      <td>0</td>\n",
       "    </tr>\n",
       "    <tr>\n",
       "      <th>505</th>\n",
       "      <td>34.7</td>\n",
       "      <td>24.9</td>\n",
       "      <td>24.7</td>\n",
       "      <td>17.3</td>\n",
       "      <td>24.2</td>\n",
       "      <td>12.0</td>\n",
       "      <td>10.2</td>\n",
       "      <td>18.0</td>\n",
       "      <td>13.6</td>\n",
       "      <td>91.9</td>\n",
       "      <td>...</td>\n",
       "      <td>27.4</td>\n",
       "      <td>24.0</td>\n",
       "      <td>34.4</td>\n",
       "      <td>34.1</td>\n",
       "      <td>21.2</td>\n",
       "      <td>15.5</td>\n",
       "      <td>33</td>\n",
       "      <td>48.6</td>\n",
       "      <td>160.7</td>\n",
       "      <td>0</td>\n",
       "    </tr>\n",
       "    <tr>\n",
       "      <th>506</th>\n",
       "      <td>38.5</td>\n",
       "      <td>29.0</td>\n",
       "      <td>32.9</td>\n",
       "      <td>15.3</td>\n",
       "      <td>25.6</td>\n",
       "      <td>12.0</td>\n",
       "      <td>9.8</td>\n",
       "      <td>18.6</td>\n",
       "      <td>13.3</td>\n",
       "      <td>107.1</td>\n",
       "      <td>...</td>\n",
       "      <td>30.6</td>\n",
       "      <td>24.9</td>\n",
       "      <td>38.4</td>\n",
       "      <td>36.6</td>\n",
       "      <td>22.0</td>\n",
       "      <td>15.5</td>\n",
       "      <td>33</td>\n",
       "      <td>66.4</td>\n",
       "      <td>174.0</td>\n",
       "      <td>0</td>\n",
       "    </tr>\n",
       "    <tr>\n",
       "      <th>507</th>\n",
       "      <td>35.6</td>\n",
       "      <td>29.0</td>\n",
       "      <td>29.0</td>\n",
       "      <td>20.4</td>\n",
       "      <td>26.8</td>\n",
       "      <td>13.4</td>\n",
       "      <td>10.8</td>\n",
       "      <td>18.7</td>\n",
       "      <td>13.8</td>\n",
       "      <td>100.5</td>\n",
       "      <td>...</td>\n",
       "      <td>33.2</td>\n",
       "      <td>25.5</td>\n",
       "      <td>39.6</td>\n",
       "      <td>35.9</td>\n",
       "      <td>23.0</td>\n",
       "      <td>16.4</td>\n",
       "      <td>38</td>\n",
       "      <td>67.3</td>\n",
       "      <td>163.8</td>\n",
       "      <td>0</td>\n",
       "    </tr>\n",
       "  </tbody>\n",
       "</table>\n",
       "<p>507 rows × 25 columns</p>\n",
       "</div>"
      ],
      "text/plain": [
       "     Biacromial diameter (see Fig. 2)  \\\n",
       "Id                                      \n",
       "1                                42.9   \n",
       "2                                43.7   \n",
       "3                                40.1   \n",
       "4                                44.3   \n",
       "5                                42.5   \n",
       "..                                ...   \n",
       "503                              38.0   \n",
       "504                              35.3   \n",
       "505                              34.7   \n",
       "506                              38.5   \n",
       "507                              35.6   \n",
       "\n",
       "     Biiliac diameter, or \"pelvic breadth\" (see Fig. 2)  \\\n",
       "Id                                                        \n",
       "1                                                 26.0    \n",
       "2                                                 28.5    \n",
       "3                                                 28.2    \n",
       "4                                                 29.9    \n",
       "5                                                 29.9    \n",
       "..                                                 ...    \n",
       "503                                               30.4    \n",
       "504                                               28.7    \n",
       "505                                               24.9    \n",
       "506                                               29.0    \n",
       "507                                               29.0    \n",
       "\n",
       "     Bitrochanteric diameter (see Fig. 2)  \\\n",
       "Id                                          \n",
       "1                                    31.5   \n",
       "2                                    33.5   \n",
       "3                                    33.3   \n",
       "4                                    34.0   \n",
       "5                                    34.0   \n",
       "..                                    ...   \n",
       "503                                  32.9   \n",
       "504                                  30.4   \n",
       "505                                  24.7   \n",
       "506                                  32.9   \n",
       "507                                  29.0   \n",
       "\n",
       "     Chest depth between spine and sternum at nipple level,  \\\n",
       "Id                                                            \n",
       "1                                                 17.7        \n",
       "2                                                 16.9        \n",
       "3                                                 20.9        \n",
       "4                                                 18.4        \n",
       "5                                                 21.5        \n",
       "..                                                 ...        \n",
       "503                                               17.0        \n",
       "504                                               17.7        \n",
       "505                                               17.3        \n",
       "506                                               15.3        \n",
       "507                                               20.4        \n",
       "\n",
       "     Chest diameter at nipple level, mid-expiration  \\\n",
       "Id                                                    \n",
       "1                                              28.0   \n",
       "2                                              30.8   \n",
       "3                                              31.7   \n",
       "4                                              28.2   \n",
       "5                                              29.4   \n",
       "..                                              ...   \n",
       "503                                            27.1   \n",
       "504                                            25.6   \n",
       "505                                            24.2   \n",
       "506                                            25.6   \n",
       "507                                            26.8   \n",
       "\n",
       "     Elbow diameter, sum of two elbows  Wrist diameter, sum of two wrists  \\\n",
       "Id                                                                          \n",
       "1                                 13.1                               10.4   \n",
       "2                                 14.0                               11.8   \n",
       "3                                 13.9                               10.9   \n",
       "4                                 13.9                               11.2   \n",
       "5                                 15.2                               11.6   \n",
       "..                                 ...                                ...   \n",
       "503                               12.9                               10.4   \n",
       "504                               12.4                                9.8   \n",
       "505                               12.0                               10.2   \n",
       "506                               12.0                                9.8   \n",
       "507                               13.4                               10.8   \n",
       "\n",
       "     Knee diameter, sum of two knees  Ankle diameter, sum of two ankles  \\\n",
       "Id                                                                        \n",
       "1                               18.8                               14.1   \n",
       "2                               20.6                               15.1   \n",
       "3                               19.7                               14.1   \n",
       "4                               20.9                               15.0   \n",
       "5                               20.7                               14.9   \n",
       "..                               ...                                ...   \n",
       "503                             19.5                               14.4   \n",
       "504                             17.3                               13.6   \n",
       "505                             18.0                               13.6   \n",
       "506                             18.6                               13.3   \n",
       "507                             18.7                               13.8   \n",
       "\n",
       "     Shoulder girth over deltoid muscles  ...  \\\n",
       "Id                                        ...   \n",
       "1                                  106.2  ...   \n",
       "2                                  110.5  ...   \n",
       "3                                  115.1  ...   \n",
       "4                                  104.5  ...   \n",
       "5                                  107.5  ...   \n",
       "..                                   ...  ...   \n",
       "503                                108.4  ...   \n",
       "504                                 99.3  ...   \n",
       "505                                 91.9  ...   \n",
       "506                                107.1  ...   \n",
       "507                                100.5  ...   \n",
       "\n",
       "     Bicep girth, flexed, average of right and left girths  \\\n",
       "Id                                                           \n",
       "1                                                 32.5       \n",
       "2                                                 34.4       \n",
       "3                                                 33.4       \n",
       "4                                                 31.0       \n",
       "5                                                 32.0       \n",
       "..                                                 ...       \n",
       "503                                               30.3       \n",
       "504                                               30.1       \n",
       "505                                               27.4       \n",
       "506                                               30.6       \n",
       "507                                               33.2       \n",
       "\n",
       "     Forearm girth, extended, palm up, average of right and  \\\n",
       "Id                                                            \n",
       "1                                                 26.0        \n",
       "2                                                 28.0        \n",
       "3                                                 28.8        \n",
       "4                                                 26.2        \n",
       "5                                                 28.4        \n",
       "..                                                 ...        \n",
       "503                                               25.4        \n",
       "504                                               23.6        \n",
       "505                                               24.0        \n",
       "506                                               24.9        \n",
       "507                                               25.5        \n",
       "\n",
       "     Knee girth over patella, slightly flexed position, average  \\\n",
       "Id                                                                \n",
       "1                                                 34.5            \n",
       "2                                                 36.5            \n",
       "3                                                 37.0            \n",
       "4                                                 37.0            \n",
       "5                                                 37.7            \n",
       "..                                                 ...            \n",
       "503                                               37.7            \n",
       "504                                               35.6            \n",
       "505                                               34.4            \n",
       "506                                               38.4            \n",
       "507                                               39.6            \n",
       "\n",
       "     Calf maximum girth, average of right and left girths  \\\n",
       "Id                                                          \n",
       "1                                                 36.5      \n",
       "2                                                 37.5      \n",
       "3                                                 37.3      \n",
       "4                                                 34.8      \n",
       "5                                                 38.6      \n",
       "..                                                 ...      \n",
       "503                                               37.9      \n",
       "504                                               33.3      \n",
       "505                                               34.1      \n",
       "506                                               36.6      \n",
       "507                                               35.9      \n",
       "\n",
       "     Ankle minimum girth, average of right and left girths  \\\n",
       "Id                                                           \n",
       "1                                                 23.5       \n",
       "2                                                 24.5       \n",
       "3                                                 21.9       \n",
       "4                                                 23.0       \n",
       "5                                                 24.4       \n",
       "..                                                 ...       \n",
       "503                                               22.4       \n",
       "504                                               22.4       \n",
       "505                                               21.2       \n",
       "506                                               22.0       \n",
       "507                                               23.0       \n",
       "\n",
       "     Wrist minimum girth, average of right and left girths  Age (years)  \\\n",
       "Id                                                                        \n",
       "1                                                 16.5               21   \n",
       "2                                                 17.0               23   \n",
       "3                                                 16.9               28   \n",
       "4                                                 16.6               23   \n",
       "5                                                 18.0               22   \n",
       "..                                                 ...              ...   \n",
       "503                                               15.4               29   \n",
       "504                                               15.2               21   \n",
       "505                                               15.5               33   \n",
       "506                                               15.5               33   \n",
       "507                                               16.4               38   \n",
       "\n",
       "     Weight (kg)  Height (cm)  Gender (1 - male, 0 - female)  \n",
       "Id                                                            \n",
       "1           65.6        174.0                              1  \n",
       "2           71.8        175.3                              1  \n",
       "3           80.7        193.5                              1  \n",
       "4           72.6        186.5                              1  \n",
       "5           78.8        187.2                              1  \n",
       "..           ...          ...                            ...  \n",
       "503         71.8        176.5                              0  \n",
       "504         55.5        164.4                              0  \n",
       "505         48.6        160.7                              0  \n",
       "506         66.4        174.0                              0  \n",
       "507         67.3        163.8                              0  \n",
       "\n",
       "[507 rows x 25 columns]"
      ]
     },
     "execution_count": 27,
     "metadata": {},
     "output_type": "execute_result"
    }
   ],
   "source": [
    "body = pd.read_excel(path, index_col=0)\n",
    "body"
   ]
  },
  {
   "cell_type": "code",
   "execution_count": 28,
   "metadata": {
    "colab": {
     "base_uri": "https://localhost:8080/"
    },
    "executionInfo": {
     "elapsed": 15,
     "status": "ok",
     "timestamp": 1739953407764,
     "user": {
      "displayName": "Francesco Morandin",
      "userId": "10258364529162349636"
     },
     "user_tz": -60
    },
    "id": "jryTcmcNTeWk",
    "outputId": "33ce7fa1-a73f-4e21-cf49-fc677bf98fc7"
   },
   "outputs": [
    {
     "data": {
      "text/plain": [
       "Index(['Biacromial diameter (see Fig. 2)',\n",
       "       'Biiliac diameter, or \"pelvic breadth\" (see Fig. 2)',\n",
       "       'Bitrochanteric diameter (see Fig. 2)',\n",
       "       'Chest depth between spine and sternum at nipple level,',\n",
       "       'Chest diameter at nipple level, mid-expiration',\n",
       "       'Elbow diameter, sum of two elbows',\n",
       "       'Wrist diameter, sum of two wrists', 'Knee diameter, sum of two knees',\n",
       "       'Ankle diameter, sum of two ankles',\n",
       "       'Shoulder girth over deltoid muscles',\n",
       "       'Chest girth, nipple line in males and just above breast',\n",
       "       'Waist girth, narrowest part of torso below the rib cage,',\n",
       "       'Navel (or \"Abdominal\") girth at umbilicus and iliac crest,',\n",
       "       'Hip girth at level of bitrochanteric diameter',\n",
       "       'Thigh girth below gluteal fold, average of right and left',\n",
       "       'Bicep girth, flexed, average of right and left girths',\n",
       "       'Forearm girth, extended, palm up, average of right and',\n",
       "       'Knee girth over patella, slightly flexed position, average',\n",
       "       'Calf maximum girth, average of right and left girths',\n",
       "       'Ankle minimum girth, average of right and left girths',\n",
       "       'Wrist minimum girth, average of right and left girths', 'Age (years)',\n",
       "       'Weight (kg)', 'Height (cm)', 'Gender (1 - male, 0 - female)'],\n",
       "      dtype='object')"
      ]
     },
     "execution_count": 28,
     "metadata": {},
     "output_type": "execute_result"
    }
   ],
   "source": [
    "body.columns"
   ]
  },
  {
   "cell_type": "code",
   "execution_count": 29,
   "metadata": {
    "colab": {
     "base_uri": "https://localhost:8080/",
     "height": 204
    },
    "executionInfo": {
     "elapsed": 32,
     "status": "ok",
     "timestamp": 1739953481192,
     "user": {
      "displayName": "Francesco Morandin",
      "userId": "10258364529162349636"
     },
     "user_tz": -60
    },
    "id": "-x5p7LcDTtqZ",
    "outputId": "c3b03f02-4169-4fe1-ee95-546e1508146c"
   },
   "outputs": [
    {
     "data": {
      "text/plain": [
       "pandas.core.series.Series"
      ]
     },
     "execution_count": 29,
     "metadata": {},
     "output_type": "execute_result"
    }
   ],
   "source": [
    "age = body['Age (years)']\n",
    "type(age)"
   ]
  },
  {
   "cell_type": "code",
   "execution_count": 30,
   "metadata": {
    "executionInfo": {
     "elapsed": 12,
     "status": "ok",
     "timestamp": 1739953521822,
     "user": {
      "displayName": "Francesco Morandin",
      "userId": "10258364529162349636"
     },
     "user_tz": -60
    },
    "id": "iKKAABdZT2iQ"
   },
   "outputs": [],
   "source": [
    "age = list(age)"
   ]
  },
  {
   "cell_type": "code",
   "execution_count": 31,
   "metadata": {
    "colab": {
     "base_uri": "https://localhost:8080/"
    },
    "executionInfo": {
     "elapsed": 11,
     "status": "ok",
     "timestamp": 1739953530229,
     "user": {
      "displayName": "Francesco Morandin",
      "userId": "10258364529162349636"
     },
     "user_tz": -60
    },
    "id": "UDmE-se0T9fR",
    "outputId": "5025e873-8a7d-49fd-f5c1-7d98fb1fe919"
   },
   "outputs": [
    {
     "data": {
      "text/plain": [
       "[21, 23, 28, 23, 22, 21, 26, 27, 23, 21, 23, 22, 20, 26, 23]"
      ]
     },
     "execution_count": 31,
     "metadata": {},
     "output_type": "execute_result"
    }
   ],
   "source": [
    "age[0:15]"
   ]
  },
  {
   "cell_type": "code",
   "execution_count": 32,
   "metadata": {
    "colab": {
     "base_uri": "https://localhost:8080/"
    },
    "executionInfo": {
     "elapsed": 20,
     "status": "ok",
     "timestamp": 1739953590332,
     "user": {
      "displayName": "Francesco Morandin",
      "userId": "10258364529162349636"
     },
     "user_tz": -60
    },
    "id": "tPdey_KYT_KD",
    "outputId": "6f47afed-d4de-4a6c-d56a-fd0c4ca6d480"
   },
   "outputs": [
    {
     "data": {
      "text/plain": [
       "(18, 67)"
      ]
     },
     "execution_count": 32,
     "metadata": {},
     "output_type": "execute_result"
    }
   ],
   "source": [
    "min(age), max(age)"
   ]
  },
  {
   "cell_type": "code",
   "execution_count": 33,
   "metadata": {
    "executionInfo": {
     "elapsed": 3,
     "status": "ok",
     "timestamp": 1739953712428,
     "user": {
      "displayName": "Francesco Morandin",
      "userId": "10258364529162349636"
     },
     "user_tz": -60
    },
    "id": "RSup6UtWUX10"
   },
   "outputs": [],
   "source": [
    "freqs = [age.count(i) for i in range(min(age), max(age)+1)]"
   ]
  },
  {
   "cell_type": "code",
   "execution_count": 34,
   "metadata": {
    "colab": {
     "base_uri": "https://localhost:8080/",
     "height": 430
    },
    "executionInfo": {
     "elapsed": 388,
     "status": "ok",
     "timestamp": 1739954987524,
     "user": {
      "displayName": "Francesco Morandin",
      "userId": "10258364529162349636"
     },
     "user_tz": -60
    },
    "id": "2KcuDZSYUunM",
    "outputId": "1ea90853-8ba0-4ad0-f425-ceaccd464199"
   },
   "outputs": [
    {
     "data": {
      "image/png": "[encoded data removed]",
      "text/plain": [
       "<Figure size 640x480 with 1 Axes>"
      ]
     },
     "metadata": {},
     "output_type": "display_data"
    }
   ],
   "source": [
    "plt.plot(range(min(age), max(age)+1), freqs, 'g.')\n",
    "plt.savefig('age.png')\n",
    "plt.savefig('age.pdf')\n",
    "plt.show()"
   ]
  },
  {
   "cell_type": "code",
   "execution_count": 35,
   "metadata": {
    "colab": {
     "base_uri": "https://localhost:8080/",
     "height": 430
    },
    "executionInfo": {
     "elapsed": 418,
     "status": "ok",
     "timestamp": 1739955001317,
     "user": {
      "displayName": "Francesco Morandin",
      "userId": "10258364529162349636"
     },
     "user_tz": -60
    },
    "id": "XN_niy1hZP7w",
    "outputId": "28548751-6c30-4518-866b-6b328da5148f"
   },
   "outputs": [
    {
     "data": {
      "image/png": "[encoded data removed]",
      "text/plain": [
       "<Figure size 640x480 with 1 Axes>"
      ]
     },
     "metadata": {},
     "output_type": "display_data"
    }
   ],
   "source": [
    "plt.bar(range(min(age), max(age)+1), freqs)\n",
    "plt.savefig('age.png')\n",
    "plt.savefig('age.pdf')\n",
    "plt.show()"
   ]
  },
  {
   "cell_type": "markdown",
   "metadata": {
    "id": "VAnR7UD1Z1xi"
   },
   "source": [
    "Vorrei raccogliere in bin..."
   ]
  },
  {
   "cell_type": "code",
   "execution_count": 36,
   "metadata": {
    "colab": {
     "base_uri": "https://localhost:8080/",
     "height": 483
    },
    "executionInfo": {
     "elapsed": 199,
     "status": "ok",
     "timestamp": 1739955160668,
     "user": {
      "displayName": "Francesco Morandin",
      "userId": "10258364529162349636"
     },
     "user_tz": -60
    },
    "id": "otrTweQrZ4Mb",
    "outputId": "85300048-db1f-43a8-8097-b26d3b8fa88d"
   },
   "outputs": [
    {
     "data": {
      "text/plain": [
       "(array([113., 145.,  82.,  63.,  39.,  35.,  15.,   8.,   4.,   3.]),\n",
       " array([18. , 22.9, 27.8, 32.7, 37.6, 42.5, 47.4, 52.3, 57.2, 62.1, 67. ]),\n",
       " <BarContainer object of 10 artists>)"
      ]
     },
     "execution_count": 36,
     "metadata": {},
     "output_type": "execute_result"
    },
    {
     "data": {
      "image/png": "[encoded data removed]",
      "text/plain": [
       "<Figure size 640x480 with 1 Axes>"
      ]
     },
     "metadata": {},
     "output_type": "display_data"
    }
   ],
   "source": [
    "plt.hist(age)"
   ]
  },
  {
   "cell_type": "markdown",
   "metadata": {
    "id": "IAfY6qmRb9KL"
   },
   "source": [
    "Attenzione che se il campione è a valori interi, i bin dovrebbero contenere ciascuno lo stesso numero di interi, e di default potrebbe non essere così."
   ]
  },
  {
   "cell_type": "code",
   "execution_count": 37,
   "metadata": {
    "colab": {
     "base_uri": "https://localhost:8080/"
    },
    "executionInfo": {
     "elapsed": 43,
     "status": "ok",
     "timestamp": 1739955792164,
     "user": {
      "displayName": "Francesco Morandin",
      "userId": "10258364529162349636"
     },
     "user_tz": -60
    },
    "id": "ujsMk0hUciIc",
    "outputId": "8cb4acad-64f7-4595-9d38-a8037e77604a"
   },
   "outputs": [
    {
     "data": {
      "text/plain": [
       "[18, 21, 24, 27, 30, 33, 36, 39, 42, 45, 48, 51, 54, 57, 60, 63, 66, 69]"
      ]
     },
     "execution_count": 37,
     "metadata": {},
     "output_type": "execute_result"
    }
   ],
   "source": [
    "list(range(18,70,3))"
   ]
  },
  {
   "cell_type": "code",
   "execution_count": 38,
   "metadata": {
    "colab": {
     "base_uri": "https://localhost:8080/",
     "height": 519
    },
    "executionInfo": {
     "elapsed": 355,
     "status": "ok",
     "timestamp": 1739955872865,
     "user": {
      "displayName": "Francesco Morandin",
      "userId": "10258364529162349636"
     },
     "user_tz": -60
    },
    "id": "CnF81a5WcHAa",
    "outputId": "10531c0a-9abd-4822-bdb2-f744d0538199"
   },
   "outputs": [
    {
     "data": {
      "text/plain": [
       "(array([60., 92., 85., 60., 43., 38., 32., 25., 25., 17.,  8.,  9.,  6.,\n",
       "         0.,  4.,  2.,  1.]),\n",
       " array([18., 21., 24., 27., 30., 33., 36., 39., 42., 45., 48., 51., 54.,\n",
       "        57., 60., 63., 66., 69.]),\n",
       " <BarContainer object of 17 artists>)"
      ]
     },
     "execution_count": 38,
     "metadata": {},
     "output_type": "execute_result"
    },
    {
     "data": {
      "image/png": "[encoded data removed]",
      "text/plain": [
       "<Figure size 640x480 with 1 Axes>"
      ]
     },
     "metadata": {},
     "output_type": "display_data"
    }
   ],
   "source": [
    "plt.hist(age, bins=range(18,70,3))"
   ]
  },
  {
   "cell_type": "markdown",
   "metadata": {
    "id": "bNXzcWyxDmwN"
   },
   "source": [
    "Generiamo un campione Gaussiano"
   ]
  },
  {
   "cell_type": "code",
   "execution_count": 39,
   "metadata": {
    "id": "1bqfeSk3DmeS"
   },
   "outputs": [],
   "source": [
    "n = 200\n",
    "mu = 42\n",
    "sigma = 7\n",
    "\n",
    "X = [random.gauss(mu, sigma) for _ in range(n)]"
   ]
  },
  {
   "cell_type": "code",
   "execution_count": 40,
   "metadata": {
    "colab": {
     "base_uri": "https://localhost:8080/",
     "height": 447
    },
    "executionInfo": {
     "elapsed": 804,
     "status": "ok",
     "timestamp": 1708525829176,
     "user": {
      "displayName": "Francesco Morandin",
      "userId": "10258364529162349636"
     },
     "user_tz": -60
    },
    "id": "IAI4LrziD9Vn",
    "outputId": "f1c0d42e-5386-4249-91a0-909246bd6769"
   },
   "outputs": [
    {
     "data": {
      "text/plain": [
       "[<matplotlib.lines.Line2D at 0x7216a4c5be50>]"
      ]
     },
     "execution_count": 40,
     "metadata": {},
     "output_type": "execute_result"
    },
    {
     "data": {
      "image/png": "[encoded data removed]",
      "text/plain": [
       "<Figure size 640x480 with 1 Axes>"
      ]
     },
     "metadata": {},
     "output_type": "display_data"
    }
   ],
   "source": [
    "plt.plot(X, 'g.') # g: green '.': dot"
   ]
  },
  {
   "cell_type": "code",
   "execution_count": 41,
   "metadata": {
    "colab": {
     "base_uri": "https://localhost:8080/",
     "height": 552
    },
    "executionInfo": {
     "elapsed": 822,
     "status": "ok",
     "timestamp": 1708526015333,
     "user": {
      "displayName": "Francesco Morandin",
      "userId": "10258364529162349636"
     },
     "user_tz": -60
    },
    "id": "oJYjsuXLE4f_",
    "outputId": "5d9626ce-685d-4c62-848c-2ad70e745556"
   },
   "outputs": [
    {
     "data": {
      "text/plain": [
       "(array([ 3.,  7.,  7., 27., 27., 42., 27., 31., 16.,  8.,  5.]),\n",
       " array([23.63490876, 26.93635415, 30.23779954, 33.53924494, 36.84069033,\n",
       "        40.14213573, 43.44358112, 46.74502652, 50.04647191, 53.34791731,\n",
       "        56.6493627 , 59.9508081 ]),\n",
       " <BarContainer object of 11 artists>)"
      ]
     },
     "execution_count": 41,
     "metadata": {},
     "output_type": "execute_result"
    },
    {
     "data": {
      "image/png": "[encoded data removed]",
      "text/plain": [
       "<Figure size 640x480 with 1 Axes>"
      ]
     },
     "metadata": {},
     "output_type": "display_data"
    }
   ],
   "source": [
    "plt.hist(X, bins='auto')"
   ]
  },
  {
   "cell_type": "code",
   "execution_count": 42,
   "metadata": {
    "colab": {
     "base_uri": "https://localhost:8080/",
     "height": 499
    },
    "executionInfo": {
     "elapsed": 721,
     "status": "ok",
     "timestamp": 1708526093893,
     "user": {
      "displayName": "Francesco Morandin",
      "userId": "10258364529162349636"
     },
     "user_tz": -60
    },
    "id": "53jESGVIFeez",
    "outputId": "cc607b3e-02a7-4574-d5aa-0353ced3a700"
   },
   "outputs": [
    {
     "data": {
      "text/plain": [
       "(array([13., 42., 75., 52., 18.]),\n",
       " array([23.63490876, 30.89808862, 38.16126849, 45.42444836, 52.68762823,\n",
       "        59.9508081 ]),\n",
       " <BarContainer object of 5 artists>)"
      ]
     },
     "execution_count": 42,
     "metadata": {},
     "output_type": "execute_result"
    },
    {
     "data": {
      "image/png": "[encoded data removed]",
      "text/plain": [
       "<Figure size 640x480 with 1 Axes>"
      ]
     },
     "metadata": {},
     "output_type": "display_data"
    }
   ],
   "source": [
    "plt.hist(X, bins=5) # non esagerare o andare troppo scarsi con i bin"
   ]
  },
  {
   "cell_type": "code",
   "execution_count": 43,
   "metadata": {
    "executionInfo": {
     "elapsed": 58,
     "status": "ok",
     "timestamp": 1739956101328,
     "user": {
      "displayName": "Francesco Morandin",
      "userId": "10258364529162349636"
     },
     "user_tz": -60
    },
    "id": "hx_BUYiAdK2c"
   },
   "outputs": [],
   "source": [
    "height = list(body['Height (cm)'])"
   ]
  },
  {
   "cell_type": "code",
   "execution_count": 44,
   "metadata": {
    "colab": {
     "base_uri": "https://localhost:8080/"
    },
    "executionInfo": {
     "elapsed": 60,
     "status": "ok",
     "timestamp": 1739956135854,
     "user": {
      "displayName": "Francesco Morandin",
      "userId": "10258364529162349636"
     },
     "user_tz": -60
    },
    "id": "V5JNlCIZdwAT",
    "outputId": "91fa701a-3fd0-4442-c063-923c880bae27"
   },
   "outputs": [
    {
     "name": "stdout",
     "output_type": "stream",
     "text": [
      "[174.0, 175.3, 193.5, 186.5, 187.2, 181.5, 184.0, 184.5, 175.0, 184.0]\n",
      "[147.2, 149.5, 149.9, 151.1, 151.1, 152.0, 152.0, 152.4, 152.4, 152.4]\n"
     ]
    }
   ],
   "source": [
    "sorted_height = sorted(height) # crea una nuova lista ordinata\n",
    "print(height[0:10])\n",
    "print(sorted_height[0:10])"
   ]
  },
  {
   "cell_type": "code",
   "execution_count": 45,
   "metadata": {
    "executionInfo": {
     "elapsed": 56,
     "status": "ok",
     "timestamp": 1739956144152,
     "user": {
      "displayName": "Francesco Morandin",
      "userId": "10258364529162349636"
     },
     "user_tz": -60
    },
    "id": "5bxF25nodgrf"
   },
   "outputs": [],
   "source": [
    "height.sort() # la lista si può ordinare \"sul posto\""
   ]
  },
  {
   "cell_type": "code",
   "execution_count": 46,
   "metadata": {
    "colab": {
     "base_uri": "https://localhost:8080/"
    },
    "executionInfo": {
     "elapsed": 9,
     "status": "ok",
     "timestamp": 1739956151123,
     "user": {
      "displayName": "Francesco Morandin",
      "userId": "10258364529162349636"
     },
     "user_tz": -60
    },
    "id": "cD5aOyQAdjbr",
    "outputId": "a741ec20-944a-4422-a5f6-d4b4f900796a"
   },
   "outputs": [
    {
     "name": "stdout",
     "output_type": "stream",
     "text": [
      "[147.2, 149.5, 149.9, 151.1, 151.1, 152.0, 152.0, 152.4, 152.4, 152.4]\n"
     ]
    }
   ],
   "source": [
    "print(height[0:10])"
   ]
  },
  {
   "cell_type": "code",
   "execution_count": 47,
   "metadata": {
    "colab": {
     "base_uri": "https://localhost:8080/",
     "height": 204
    },
    "executionInfo": {
     "elapsed": 476,
     "status": "ok",
     "timestamp": 1739956365748,
     "user": {
      "displayName": "Francesco Morandin",
      "userId": "10258364529162349636"
     },
     "user_tz": -60
    },
    "id": "wHGH3ur7eC9z",
    "outputId": "6b93a61f-215c-4f66-f7ea-1daee667ca54"
   },
   "outputs": [
    {
     "data": {
      "text/plain": [
       "pandas.core.series.Series"
      ]
     },
     "execution_count": 47,
     "metadata": {},
     "output_type": "execute_result"
    }
   ],
   "source": [
    "height = body['Height (cm)']\n",
    "type(height)"
   ]
  },
  {
   "cell_type": "code",
   "execution_count": 48,
   "metadata": {
    "colab": {
     "base_uri": "https://localhost:8080/"
    },
    "executionInfo": {
     "elapsed": 13,
     "status": "ok",
     "timestamp": 1739956205180,
     "user": {
      "displayName": "Francesco Morandin",
      "userId": "10258364529162349636"
     },
     "user_tz": -60
    },
    "id": "oUkeaiT9eJ8X",
    "outputId": "52103b52-b6f0-4748-e4e5-eceab7cca2d3"
   },
   "outputs": [
    {
     "name": "stdout",
     "output_type": "stream",
     "text": [
      "Id\n",
      "1      174.0\n",
      "2      175.3\n",
      "3      193.5\n",
      "4      186.5\n",
      "5      187.2\n",
      "       ...  \n",
      "503    176.5\n",
      "504    164.4\n",
      "505    160.7\n",
      "506    174.0\n",
      "507    163.8\n",
      "Name: Height (cm), Length: 507, dtype: float64\n"
     ]
    }
   ],
   "source": [
    "print(height)"
   ]
  },
  {
   "cell_type": "code",
   "execution_count": 49,
   "metadata": {
    "colab": {
     "base_uri": "https://localhost:8080/"
    },
    "executionInfo": {
     "elapsed": 37,
     "status": "ok",
     "timestamp": 1739956273685,
     "user": {
      "displayName": "Francesco Morandin",
      "userId": "10258364529162349636"
     },
     "user_tz": -60
    },
    "id": "V0TAPUyHeYVJ",
    "outputId": "6478dd95-c50f-4057-c400-0a07243f4ff7"
   },
   "outputs": [
    {
     "data": {
      "text/plain": [
       "array([174. , 175.3, 193.5, 186.5, 187.2, 181.5, 184. , 184.5, 175. ,\n",
       "       184. , 180. , 177.8, 192. , 176. , 174. , 184. , 192.7, 171.5,\n",
       "       173. , 176. , 176. , 180.5, 172.7, 176. , 173.5, 178. , 180.3,\n",
       "       180.3, 164.5, 173. , 183.5, 175.5, 188. , 189.2, 172.8, 170. ,\n",
       "       182. , 170. , 177.8, 184.2, 186.7, 171.4, 172.7, 175.3, 180.3,\n",
       "       182.9, 188. , 177.2, 172.1, 167. , 169.5, 174. , 172.7, 182.2,\n",
       "       164.1, 163. , 171.5, 184.2, 174. , 174. , 177. , 186. , 167. ,\n",
       "       171.8, 182. , 167. , 177.8, 164.5, 192. , 175.5, 171.2, 181.6,\n",
       "       167.4, 181.1, 177. , 174.5, 177.5, 170.5, 182.4, 197.1, 180.1,\n",
       "       175.5, 180.6, 184.4, 175.5, 180.6, 177. , 177.1, 181.6, 176.5,\n",
       "       175. , 174. , 165.1, 177. , 192. , 176.5, 169.4, 182.1, 179.8,\n",
       "       175.3, 184.9, 177.3, 167.4, 178.1, 168.9, 157.2, 180.3, 170.2,\n",
       "       177.8, 172.7, 165.1, 186.7, 165.1, 174. , 175.3, 185.4, 177.8,\n",
       "       180.3, 180.3, 177.8, 177.8, 177.8, 177.8, 177.8, 163.8, 188. ,\n",
       "       198.1, 175.3, 166.4, 190.5, 166.4, 177.8, 179.7, 172.7, 190.5,\n",
       "       185.4, 168.9, 167.6, 175.3, 170.2, 190.5, 177.8, 190.5, 177.8,\n",
       "       184.2, 176.5, 177.8, 180.3, 171.4, 172.7, 172.7, 177.8, 177.8,\n",
       "       182.9, 170.2, 167.6, 175.3, 165.1, 185.4, 181.6, 172.7, 190.5,\n",
       "       179.1, 175.3, 170.2, 193. , 171.4, 177.8, 177.8, 167.6, 167.6,\n",
       "       180.3, 182.9, 176.5, 186.7, 188. , 188. , 177.8, 174. , 177.8,\n",
       "       171.4, 185.4, 185.4, 188. , 188. , 182.9, 176.5, 175.3, 175.3,\n",
       "       188. , 188. , 175.3, 170.5, 179.1, 177.8, 175.3, 182.9, 170.8,\n",
       "       188. , 180.3, 177.8, 185.4, 168.9, 185.4, 180.3, 174. , 167.6,\n",
       "       182.9, 160. , 180.3, 167.6, 186.7, 175.3, 175.3, 175.9, 175.3,\n",
       "       179.1, 181.6, 177.8, 182.9, 177.8, 184.2, 179.1, 176.5, 188. ,\n",
       "       174. , 167.6, 170.2, 167.6, 188. , 174. , 176.5, 180.3, 167.6,\n",
       "       188. , 180.3, 167.6, 183. , 183. , 179.1, 170.2, 177.8, 179.1,\n",
       "       190.5, 177.8, 180.3, 180.3, 161.2, 167.5, 159.5, 157. , 155.8,\n",
       "       170. , 159.1, 166. , 176.2, 160.2, 172.5, 170.9, 172.9, 153.4,\n",
       "       160. , 147.2, 168.2, 175. , 157. , 167.6, 159.5, 175. , 166.8,\n",
       "       176.5, 170.2, 174. , 173. , 179.9, 170.5, 160. , 154.4, 162. ,\n",
       "       176.5, 160. , 152. , 162.1, 170. , 160.2, 161.3, 166.4, 168.9,\n",
       "       163.8, 167.6, 160. , 161.3, 167.6, 165.1, 160. , 170. , 157.5,\n",
       "       167.6, 160.7, 163.2, 152.4, 157.5, 168.3, 180.3, 165.5, 165. ,\n",
       "       164.5, 156. , 160. , 163. , 165.7, 161. , 162. , 166. , 174. ,\n",
       "       172.7, 167.6, 151.1, 164.5, 163.5, 152. , 169. , 164. , 161.2,\n",
       "       155. , 170. , 176.2, 170. , 162.5, 170.3, 164.1, 169.5, 163.2,\n",
       "       154.5, 159.8, 173.2, 170. , 161.4, 169. , 166.2, 159.4, 162.5,\n",
       "       159. , 162.8, 159. , 179.8, 162.9, 161. , 151.1, 168.2, 168.9,\n",
       "       173.2, 171.8, 178. , 164.3, 163. , 168.5, 166.8, 172.7, 163.5,\n",
       "       169.4, 167.8, 159.5, 167.6, 161.2, 160. , 163.2, 162.2, 161.3,\n",
       "       149.5, 157.5, 163.2, 172.7, 155. , 156.5, 164. , 160.9, 162.8,\n",
       "       167. , 160. , 160. , 168.9, 158.2, 156. , 160. , 167.1, 158. ,\n",
       "       167.6, 156. , 162.1, 173.4, 159.8, 170.5, 159.2, 157.5, 161.3,\n",
       "       162.6, 160. , 168.9, 165.1, 162.6, 165.1, 166.4, 160. , 152.4,\n",
       "       170.2, 162.6, 170.2, 158.8, 172.7, 167.6, 162.6, 167.6, 156.2,\n",
       "       175.2, 172.1, 162.6, 160. , 165.1, 182.9, 166.4, 165.1, 177.8,\n",
       "       165.1, 175.3, 154.9, 158.8, 172.7, 168.9, 161.3, 167.6, 165.1,\n",
       "       175.3, 157.5, 163.8, 167.6, 165.1, 165.1, 168.9, 162.6, 164.5,\n",
       "       176.5, 168.9, 175.3, 159.4, 160. , 170.2, 162.6, 167.6, 162.6,\n",
       "       160.7, 160. , 157.5, 162.6, 152.4, 170.2, 165.1, 172.7, 165.1,\n",
       "       170.2, 170.2, 170.2, 161.3, 167.6, 167.6, 165.1, 162.6, 152.4,\n",
       "       168.9, 170.2, 175.2, 175.2, 160. , 165.1, 174. , 170.2, 160. ,\n",
       "       167.6, 167.6, 167.6, 154.9, 162.6, 175.3, 171.4, 157.5, 165.1,\n",
       "       160. , 174. , 162.6, 174. , 162.6, 161.3, 156.2, 149.9, 169.5,\n",
       "       160. , 175.3, 169.5, 160. , 172.7, 162.6, 157.5, 176.5, 164.4,\n",
       "       160.7, 174. , 163.8])"
      ]
     },
     "execution_count": 49,
     "metadata": {},
     "output_type": "execute_result"
    }
   ],
   "source": [
    "height.to_numpy() # Si può estrarre la parte solo numerica dell'oggetto pandas"
   ]
  },
  {
   "cell_type": "code",
   "execution_count": 50,
   "metadata": {
    "colab": {
     "base_uri": "https://localhost:8080/"
    },
    "executionInfo": {
     "elapsed": 18,
     "status": "ok",
     "timestamp": 1739956370691,
     "user": {
      "displayName": "Francesco Morandin",
      "userId": "10258364529162349636"
     },
     "user_tz": -60
    },
    "id": "ULWfI03hemme",
    "outputId": "a64de8da-90ac-4875-f18b-c8033d52f119"
   },
   "outputs": [
    {
     "name": "stdout",
     "output_type": "stream",
     "text": [
      "<class 'numpy.ndarray'>\n"
     ]
    }
   ],
   "source": [
    "height = height.to_numpy() # oggetto numpy\n",
    "print(type(height))"
   ]
  },
  {
   "cell_type": "markdown",
   "metadata": {
    "id": "YJp861YNe9sM"
   },
   "source": [
    "Gli array di numpy possono essere vettori di un indice, matrici di due indici o anche roba più grossa (di solito si dice tensori) di tre e più indici."
   ]
  },
  {
   "cell_type": "code",
   "execution_count": 51,
   "metadata": {
    "colab": {
     "base_uri": "https://localhost:8080/"
    },
    "executionInfo": {
     "elapsed": 11,
     "status": "ok",
     "timestamp": 1739956464852,
     "user": {
      "displayName": "Francesco Morandin",
      "userId": "10258364529162349636"
     },
     "user_tz": -60
    },
    "id": "AjWi6Iw5fIRt",
    "outputId": "d0a043ee-ecaa-449a-87c2-a0e97571c1e1"
   },
   "outputs": [
    {
     "data": {
      "text/plain": [
       "(507,)"
      ]
     },
     "execution_count": 51,
     "metadata": {},
     "output_type": "execute_result"
    }
   ],
   "source": [
    "height.shape # (507,) un indice solo, con 507 elementi"
   ]
  },
  {
   "cell_type": "code",
   "execution_count": 52,
   "metadata": {
    "colab": {
     "base_uri": "https://localhost:8080/"
    },
    "executionInfo": {
     "elapsed": 11,
     "status": "ok",
     "timestamp": 1739956526042,
     "user": {
      "displayName": "Francesco Morandin",
      "userId": "10258364529162349636"
     },
     "user_tz": -60
    },
    "id": "SjSwcYskfUSe",
    "outputId": "215869bb-ca6b-4f2d-84b5-630de8ea26c8"
   },
   "outputs": [
    {
     "data": {
      "text/plain": [
       "(507, 25)"
      ]
     },
     "execution_count": 52,
     "metadata": {},
     "output_type": "execute_result"
    }
   ],
   "source": [
    "body.to_numpy().shape # (507, 25) due indici, con 507 righe e 25 colonne"
   ]
  },
  {
   "cell_type": "code",
   "execution_count": 53,
   "metadata": {
    "executionInfo": {
     "elapsed": 5,
     "status": "ok",
     "timestamp": 1739956569423,
     "user": {
      "displayName": "Francesco Morandin",
      "userId": "10258364529162349636"
     },
     "user_tz": -60
    },
    "id": "jgq0DoH5fe-t"
   },
   "outputs": [],
   "source": [
    "height.sort() # sort in-place"
   ]
  },
  {
   "cell_type": "code",
   "execution_count": 54,
   "metadata": {
    "colab": {
     "base_uri": "https://localhost:8080/",
     "height": 353
    },
    "executionInfo": {
     "elapsed": 455,
     "status": "ok",
     "timestamp": 1739957166520,
     "user": {
      "displayName": "Francesco Morandin",
      "userId": "10258364529162349636"
     },
     "user_tz": -60
    },
    "id": "kJ2N7ukufm9j",
    "outputId": "bafe95d4-2f67-4504-8e2b-86b31c645afc"
   },
   "outputs": [
    {
     "data": {
      "image/png": "[encoded data removed]",
      "text/plain": [
       "<Figure size 1000x400 with 3 Axes>"
      ]
     },
     "metadata": {},
     "output_type": "display_data"
    }
   ],
   "source": [
    "fig, ax = plt.subplots(1, 3, figsize=(10, 4)) # 1 riga, 2 colonne\n",
    "\n",
    "ax[0].plot(height, 'r.')\n",
    "ax[0].set_title('Sorted data')\n",
    "\n",
    "ax[1].plot(height, range(len(height)), 'g.')\n",
    "ax[1].set_title('CdF empirica grossolana')\n",
    "\n",
    "step = 1./len(height)\n",
    "\n",
    "ax[2].plot(height, np.arange(step/2, 1, step), 'b.')\n",
    "ax[2].set_title('CdF empirica')\n",
    "\n",
    "plt.show()"
   ]
  },
  {
   "cell_type": "code",
   "execution_count": 55,
   "metadata": {
    "colab": {
     "base_uri": "https://localhost:8080/",
     "height": 453
    },
    "executionInfo": {
     "elapsed": 197,
     "status": "ok",
     "timestamp": 1739957219394,
     "user": {
      "displayName": "Francesco Morandin",
      "userId": "10258364529162349636"
     },
     "user_tz": -60
    },
    "id": "r5I_LZ5HiBSK",
    "outputId": "3ecea897-d47f-4710-a59b-023f60a5b78b"
   },
   "outputs": [
    {
     "data": {
      "text/plain": [
       "<matplotlib.lines.Line2D at 0x7216a443eed0>"
      ]
     },
     "execution_count": 55,
     "metadata": {},
     "output_type": "execute_result"
    },
    {
     "data": {
      "image/png": "[encoded data removed]",
      "text/plain": [
       "<Figure size 640x480 with 1 Axes>"
      ]
     },
     "metadata": {},
     "output_type": "display_data"
    }
   ],
   "source": [
    "plt.ecdf(height)"
   ]
  },
  {
   "cell_type": "code",
   "execution_count": 56,
   "metadata": {
    "colab": {
     "base_uri": "https://localhost:8080/",
     "height": 449
    },
    "executionInfo": {
     "elapsed": 545,
     "status": "ok",
     "timestamp": 1739957358767,
     "user": {
      "displayName": "Francesco Morandin",
      "userId": "10258364529162349636"
     },
     "user_tz": -60
    },
    "id": "QEL9RMkaiglD",
    "outputId": "82f224fa-250a-4a6d-f749-32c84e86d17d"
   },
   "outputs": [
    {
     "data": {
      "text/plain": [
       "[<matplotlib.lines.Line2D at 0x7216a4434490>]"
      ]
     },
     "execution_count": 56,
     "metadata": {},
     "output_type": "execute_result"
    },
    {
     "data": {
      "image/png": "[encoded data removed]",
      "text/plain": [
       "<Figure size 640x480 with 1 Axes>"
      ]
     },
     "metadata": {},
     "output_type": "display_data"
    }
   ],
   "source": [
    "# Diagramma Q-Q\n",
    "\n",
    "plt.plot(np.arange(step/2, 1, step), height, 'k.')\n",
    "\n",
    "# usare scipy.stats.norm per casa"
   ]
  },
  {
   "cell_type": "markdown",
   "metadata": {
    "id": "LMl2Nnj5GFpU"
   },
   "source": [
    "Calcoliamo la CdF empirica e il diagramma Q-Q"
   ]
  },
  {
   "cell_type": "code",
   "execution_count": 57,
   "metadata": {
    "colab": {
     "base_uri": "https://localhost:8080/",
     "height": 447
    },
    "executionInfo": {
     "elapsed": 782,
     "status": "ok",
     "timestamp": 1708526247487,
     "user": {
      "displayName": "Francesco Morandin",
      "userId": "10258364529162349636"
     },
     "user_tz": -60
    },
    "id": "zjwMCoKyGFKZ",
    "outputId": "eaf19fc5-6a42-4cd6-926c-7dbdabe810ae"
   },
   "outputs": [
    {
     "data": {
      "text/plain": [
       "[<matplotlib.lines.Line2D at 0x7216a4320790>]"
      ]
     },
     "execution_count": 57,
     "metadata": {},
     "output_type": "execute_result"
    },
    {
     "data": {
      "image/png": "[encoded data removed]",
      "text/plain": [
       "<Figure size 640x480 with 1 Axes>"
      ]
     },
     "metadata": {},
     "output_type": "display_data"
    }
   ],
   "source": [
    "Y = sorted(X)\n",
    "plt.plot(Y, '.')"
   ]
  },
  {
   "cell_type": "code",
   "execution_count": 58,
   "metadata": {
    "colab": {
     "base_uri": "https://localhost:8080/",
     "height": 447
    },
    "executionInfo": {
     "elapsed": 672,
     "status": "ok",
     "timestamp": 1708526456916,
     "user": {
      "displayName": "Francesco Morandin",
      "userId": "10258364529162349636"
     },
     "user_tz": -60
    },
    "id": "GyqtJdoUHIrB",
    "outputId": "17a76221-2f5f-49e1-8479-c9c2a9a35bf5"
   },
   "outputs": [
    {
     "data": {
      "text/plain": [
       "[<matplotlib.lines.Line2D at 0x7216a42f02d0>]"
      ]
     },
     "execution_count": 58,
     "metadata": {},
     "output_type": "execute_result"
    },
    {
     "data": {
      "image/png": "[encoded data removed]",
      "text/plain": [
       "<Figure size 640x480 with 1 Axes>"
      ]
     },
     "metadata": {},
     "output_type": "display_data"
    }
   ],
   "source": [
    "plt.plot(Y, range(n), '.') # Non ancora la CdF empirica"
   ]
  },
  {
   "cell_type": "code",
   "execution_count": 59,
   "metadata": {
    "colab": {
     "base_uri": "https://localhost:8080/",
     "height": 447
    },
    "executionInfo": {
     "elapsed": 665,
     "status": "ok",
     "timestamp": 1708526589031,
     "user": {
      "displayName": "Francesco Morandin",
      "userId": "10258364529162349636"
     },
     "user_tz": -60
    },
    "id": "6w6BrWQNHWVD",
    "outputId": "513a4043-2e91-4753-dc1c-7e2d8c17bdb6"
   },
   "outputs": [
    {
     "data": {
      "text/plain": [
       "[<matplotlib.lines.Line2D at 0x7216a41a0c90>]"
      ]
     },
     "execution_count": 59,
     "metadata": {},
     "output_type": "execute_result"
    },
    {
     "data": {
      "image/png": "[encoded data removed]",
      "text/plain": [
       "<Figure size 640x480 with 1 Axes>"
      ]
     },
     "metadata": {},
     "output_type": "display_data"
    }
   ],
   "source": [
    "plt.plot(Y, [(i+0.5)/n for i in range(n)], '.')"
   ]
  },
  {
   "cell_type": "markdown",
   "metadata": {
    "id": "99EsSiZ3H0m6"
   },
   "source": [
    "C'è un modo più leggibile di gestire i numeri da 0 a 1, usando numpy"
   ]
  },
  {
   "cell_type": "code",
   "execution_count": 60,
   "metadata": {
    "colab": {
     "base_uri": "https://localhost:8080/"
    },
    "executionInfo": {
     "elapsed": 312,
     "status": "ok",
     "timestamp": 1708526767151,
     "user": {
      "displayName": "Francesco Morandin",
      "userId": "10258364529162349636"
     },
     "user_tz": -60
    },
    "id": "Rk0pjWvzH5ac",
    "outputId": "11d90c4f-bf79-498a-d46a-17ec3d9cdb26"
   },
   "outputs": [
    {
     "data": {
      "text/plain": [
       "array([0.0025, 0.0075, 0.0125, 0.0175, 0.0225, 0.0275, 0.0325, 0.0375,\n",
       "       0.0425, 0.0475, 0.0525, 0.0575, 0.0625, 0.0675, 0.0725, 0.0775,\n",
       "       0.0825, 0.0875, 0.0925, 0.0975, 0.1025, 0.1075, 0.1125, 0.1175,\n",
       "       0.1225, 0.1275, 0.1325, 0.1375, 0.1425, 0.1475, 0.1525, 0.1575,\n",
       "       0.1625, 0.1675, 0.1725, 0.1775, 0.1825, 0.1875, 0.1925, 0.1975,\n",
       "       0.2025, 0.2075, 0.2125, 0.2175, 0.2225, 0.2275, 0.2325, 0.2375,\n",
       "       0.2425, 0.2475, 0.2525, 0.2575, 0.2625, 0.2675, 0.2725, 0.2775,\n",
       "       0.2825, 0.2875, 0.2925, 0.2975, 0.3025, 0.3075, 0.3125, 0.3175,\n",
       "       0.3225, 0.3275, 0.3325, 0.3375, 0.3425, 0.3475, 0.3525, 0.3575,\n",
       "       0.3625, 0.3675, 0.3725, 0.3775, 0.3825, 0.3875, 0.3925, 0.3975,\n",
       "       0.4025, 0.4075, 0.4125, 0.4175, 0.4225, 0.4275, 0.4325, 0.4375,\n",
       "       0.4425, 0.4475, 0.4525, 0.4575, 0.4625, 0.4675, 0.4725, 0.4775,\n",
       "       0.4825, 0.4875, 0.4925, 0.4975, 0.5025, 0.5075, 0.5125, 0.5175,\n",
       "       0.5225, 0.5275, 0.5325, 0.5375, 0.5425, 0.5475, 0.5525, 0.5575,\n",
       "       0.5625, 0.5675, 0.5725, 0.5775, 0.5825, 0.5875, 0.5925, 0.5975,\n",
       "       0.6025, 0.6075, 0.6125, 0.6175, 0.6225, 0.6275, 0.6325, 0.6375,\n",
       "       0.6425, 0.6475, 0.6525, 0.6575, 0.6625, 0.6675, 0.6725, 0.6775,\n",
       "       0.6825, 0.6875, 0.6925, 0.6975, 0.7025, 0.7075, 0.7125, 0.7175,\n",
       "       0.7225, 0.7275, 0.7325, 0.7375, 0.7425, 0.7475, 0.7525, 0.7575,\n",
       "       0.7625, 0.7675, 0.7725, 0.7775, 0.7825, 0.7875, 0.7925, 0.7975,\n",
       "       0.8025, 0.8075, 0.8125, 0.8175, 0.8225, 0.8275, 0.8325, 0.8375,\n",
       "       0.8425, 0.8475, 0.8525, 0.8575, 0.8625, 0.8675, 0.8725, 0.8775,\n",
       "       0.8825, 0.8875, 0.8925, 0.8975, 0.9025, 0.9075, 0.9125, 0.9175,\n",
       "       0.9225, 0.9275, 0.9325, 0.9375, 0.9425, 0.9475, 0.9525, 0.9575,\n",
       "       0.9625, 0.9675, 0.9725, 0.9775, 0.9825, 0.9875, 0.9925, 0.9975])"
      ]
     },
     "execution_count": 60,
     "metadata": {},
     "output_type": "execute_result"
    }
   ],
   "source": [
    "import numpy as np\n",
    "\n",
    "np.linspace(0.5/n, 1-0.5/n, n)"
   ]
  },
  {
   "cell_type": "code",
   "execution_count": 61,
   "metadata": {
    "colab": {
     "base_uri": "https://localhost:8080/",
     "height": 447
    },
    "executionInfo": {
     "elapsed": 512,
     "status": "ok",
     "timestamp": 1708528003099,
     "user": {
      "displayName": "Francesco Morandin",
      "userId": "10258364529162349636"
     },
     "user_tz": -60
    },
    "id": "faGUEaoiIe3t",
    "outputId": "38f9ea7a-2bca-44ca-b51a-f3ca4603903b"
   },
   "outputs": [
    {
     "data": {
      "text/plain": [
       "[<matplotlib.lines.Line2D at 0x7216a4260910>]"
      ]
     },
     "execution_count": 61,
     "metadata": {},
     "output_type": "execute_result"
    },
    {
     "data": {
      "image/png": "[encoded data removed]",
      "text/plain": [
       "<Figure size 640x480 with 1 Axes>"
      ]
     },
     "metadata": {},
     "output_type": "display_data"
    }
   ],
   "source": [
    "p_i_sorted = np.linspace(0.5/n, 1-0.5/n, n)\n",
    "plt.plot(Y, p_i_sorted, 'g.')"
   ]
  },
  {
   "cell_type": "code",
   "execution_count": 62,
   "metadata": {
    "colab": {
     "base_uri": "https://localhost:8080/",
     "height": 410
    },
    "executionInfo": {
     "elapsed": 1052,
     "status": "ok",
     "timestamp": 1708527007215,
     "user": {
      "displayName": "Francesco Morandin",
      "userId": "10258364529162349636"
     },
     "user_tz": -60
    },
    "id": "4OodT3uFJBn8",
    "outputId": "9b525727-ec70-49ce-8f71-1714635e3f0d"
   },
   "outputs": [
    {
     "data": {
      "image/png": "[encoded data removed]",
      "text/plain": [
       "<Figure size 800x400 with 1 Axes>"
      ]
     },
     "metadata": {},
     "output_type": "display_data"
    }
   ],
   "source": [
    "import numpy as np\n",
    "import matplotlib.pyplot as plt\n",
    "from scipy.stats import norm\n",
    "\n",
    "# Define the range of values for our CDF plot\n",
    "x = np.linspace(-3, 3, 1000)\n",
    "\n",
    "# Calculate the CDF values for these points\n",
    "cdf_values = norm.cdf(x, 0, 1)  # mean = 0, std = 1 for a standard normal distribution\n",
    "\n",
    "# Plotting the CDF\n",
    "plt.figure(figsize=(8, 4))\n",
    "plt.plot(x, cdf_values, label='CDF of Standard Normal Distribution')\n",
    "plt.title('CDF of Standard Normal Distribution')\n",
    "plt.xlabel('Value')\n",
    "plt.ylabel('CDF')\n",
    "plt.grid(True)\n",
    "plt.legend()\n",
    "plt.show()\n"
   ]
  },
  {
   "cell_type": "code",
   "execution_count": 63,
   "metadata": {
    "colab": {
     "base_uri": "https://localhost:8080/",
     "height": 621
    },
    "executionInfo": {
     "elapsed": 531,
     "status": "ok",
     "timestamp": 1708527613812,
     "user": {
      "displayName": "Francesco Morandin",
      "userId": "10258364529162349636"
     },
     "user_tz": -60
    },
    "id": "3_2OhGZPLUlU",
    "outputId": "b8d5270f-b446-4bf0-e1e9-ff502316f3bc"
   },
   "outputs": [
    {
     "data": {
      "text/plain": [
       "(array([  2.,   0.,   2.,   8.,  12.,  23.,  46.,  51.,  59.,  87.,  99.,\n",
       "        119.,  98.,  86.,  82.,  76.,  58.,  40.,  21.,  15.,   8.,   4.,\n",
       "          2.,   1.,   1.]),\n",
       " array([ 50.81218188,  54.92175193,  59.03132198,  63.14089203,\n",
       "         67.25046208,  71.36003213,  75.46960218,  79.57917223,\n",
       "         83.68874228,  87.79831233,  91.90788238,  96.01745244,\n",
       "        100.12702249, 104.23659254, 108.34616259, 112.45573264,\n",
       "        116.56530269, 120.67487274, 124.78444279, 128.89401284,\n",
       "        133.00358289, 137.11315294, 141.22272299, 145.33229304,\n",
       "        149.44186309, 153.55143314]),\n",
       " <BarContainer object of 25 artists>)"
      ]
     },
     "execution_count": 63,
     "metadata": {},
     "output_type": "execute_result"
    },
    {
     "data": {
      "image/png": "[encoded data removed]",
      "text/plain": [
       "<Figure size 640x480 with 1 Axes>"
      ]
     },
     "metadata": {},
     "output_type": "display_data"
    }
   ],
   "source": [
    "plt.hist(norm.rvs(loc=100, scale=15, size=1000), bins='auto')"
   ]
  },
  {
   "cell_type": "code",
   "execution_count": 64,
   "metadata": {
    "colab": {
     "base_uri": "https://localhost:8080/",
     "height": 621
    },
    "executionInfo": {
     "elapsed": 847,
     "status": "ok",
     "timestamp": 1708527674401,
     "user": {
      "displayName": "Francesco Morandin",
      "userId": "10258364529162349636"
     },
     "user_tz": -60
    },
    "id": "9HA_ilrqLrT5",
    "outputId": "f71efd7b-d9a7-43ff-ad61-119bc51d4a14"
   },
   "outputs": [
    {
     "data": {
      "text/plain": [
       "(array([  2.,   5.,   4.,   4.,  14.,  34.,  43.,  49.,  77.,  76., 109.,\n",
       "         87., 121.,  95.,  85.,  59.,  53.,  38.,  23.,   7.,   5.,   7.,\n",
       "          0.,   3.]),\n",
       " array([ 54.0968967 ,  58.0489648 ,  62.00103289,  65.95310099,\n",
       "         69.90516909,  73.85723719,  77.80930528,  81.76137338,\n",
       "         85.71344148,  89.66550958,  93.61757767,  97.56964577,\n",
       "        101.52171387, 105.47378197, 109.42585006, 113.37791816,\n",
       "        117.32998626, 121.28205435, 125.23412245, 129.18619055,\n",
       "        133.13825865, 137.09032674, 141.04239484, 144.99446294,\n",
       "        148.94653104]),\n",
       " <BarContainer object of 24 artists>)"
      ]
     },
     "execution_count": 64,
     "metadata": {},
     "output_type": "execute_result"
    },
    {
     "data": {
      "image/png": "[encoded data removed]",
      "text/plain": [
       "<Figure size 640x480 with 1 Axes>"
      ]
     },
     "metadata": {},
     "output_type": "display_data"
    }
   ],
   "source": [
    "my_norm = norm(loc=100, scale=15)\n",
    "\n",
    "plt.hist(my_norm.rvs(size=1000), bins='auto')"
   ]
  },
  {
   "cell_type": "code",
   "execution_count": 65,
   "metadata": {
    "id": "3qHkgGEiMCky"
   },
   "outputs": [],
   "source": [
    "my_array = np.linspace(-3, 3, 20)"
   ]
  },
  {
   "cell_type": "code",
   "execution_count": 66,
   "metadata": {
    "colab": {
     "base_uri": "https://localhost:8080/"
    },
    "executionInfo": {
     "elapsed": 256,
     "status": "ok",
     "timestamp": 1708527775689,
     "user": {
      "displayName": "Francesco Morandin",
      "userId": "10258364529162349636"
     },
     "user_tz": -60
    },
    "id": "b3C-irhtMNZu",
    "outputId": "8a03177e-8654-4d33-8b59-f9796096d367"
   },
   "outputs": [
    {
     "data": {
      "text/plain": [
       "20"
      ]
     },
     "execution_count": 66,
     "metadata": {},
     "output_type": "execute_result"
    }
   ],
   "source": [
    "len(my_array)"
   ]
  },
  {
   "cell_type": "code",
   "execution_count": 67,
   "metadata": {
    "colab": {
     "base_uri": "https://localhost:8080/"
    },
    "executionInfo": {
     "elapsed": 8,
     "status": "ok",
     "timestamp": 1708527788064,
     "user": {
      "displayName": "Francesco Morandin",
      "userId": "10258364529162349636"
     },
     "user_tz": -60
    },
    "id": "kupbMxb7MPwb",
    "outputId": "50287471-9d33-471c-a2c5-8e0649703dbc"
   },
   "outputs": [
    {
     "data": {
      "text/plain": [
       "(20,)"
      ]
     },
     "execution_count": 67,
     "metadata": {},
     "output_type": "execute_result"
    }
   ],
   "source": [
    "my_array.shape"
   ]
  },
  {
   "cell_type": "code",
   "execution_count": 68,
   "metadata": {
    "colab": {
     "base_uri": "https://localhost:8080/"
    },
    "executionInfo": {
     "elapsed": 5,
     "status": "ok",
     "timestamp": 1708527882373,
     "user": {
      "displayName": "Francesco Morandin",
      "userId": "10258364529162349636"
     },
     "user_tz": -60
    },
    "id": "Wfix7zYJMnKK",
    "outputId": "4977fbae-797a-41c6-d43f-475193cd1bfe"
   },
   "outputs": [
    {
     "data": {
      "text/plain": [
       "array([-3.        , -2.68421053, -2.36842105, -2.05263158, -1.73684211,\n",
       "       -1.42105263, -1.10526316, -0.78947368, -0.47368421, -0.15789474,\n",
       "        0.15789474,  0.47368421,  0.78947368,  1.10526316,  1.42105263,\n",
       "        1.73684211,  2.05263158,  2.36842105,  2.68421053,  3.        ])"
      ]
     },
     "execution_count": 68,
     "metadata": {},
     "output_type": "execute_result"
    }
   ],
   "source": [
    "my_array"
   ]
  },
  {
   "cell_type": "code",
   "execution_count": 69,
   "metadata": {
    "colab": {
     "base_uri": "https://localhost:8080/"
    },
    "executionInfo": {
     "elapsed": 239,
     "status": "ok",
     "timestamp": 1708527903207,
     "user": {
      "displayName": "Francesco Morandin",
      "userId": "10258364529162349636"
     },
     "user_tz": -60
    },
    "id": "x8UMNoS_MpaC",
    "outputId": "f8ea3fc2-941b-40a9-9436-2deed2654924"
   },
   "outputs": [
    {
     "data": {
      "text/plain": [
       "array([0.0013499 , 0.00363507, 0.0089321 , 0.02005416, 0.04120752,\n",
       "       0.07765073, 0.13452279, 0.2149176 , 0.31786256, 0.43726987,\n",
       "       0.56273013, 0.68213744, 0.7850824 , 0.86547721, 0.92234927,\n",
       "       0.95879248, 0.97994584, 0.9910679 , 0.99636493, 0.9986501 ])"
      ]
     },
     "execution_count": 69,
     "metadata": {},
     "output_type": "execute_result"
    }
   ],
   "source": [
    "norm.cdf(my_array)"
   ]
  },
  {
   "cell_type": "code",
   "execution_count": 70,
   "metadata": {
    "colab": {
     "base_uri": "https://localhost:8080/",
     "height": 430
    },
    "executionInfo": {
     "elapsed": 277,
     "status": "ok",
     "timestamp": 1708528124588,
     "user": {
      "displayName": "Francesco Morandin",
      "userId": "10258364529162349636"
     },
     "user_tz": -60
    },
    "id": "YOPG_0RXNH9N",
    "outputId": "66f64f35-1bb6-49e9-9a74-07e1b4a5a251"
   },
   "outputs": [
    {
     "data": {
      "image/png": "[encoded data removed]",
      "text/plain": [
       "<Figure size 640x480 with 1 Axes>"
      ]
     },
     "metadata": {},
     "output_type": "display_data"
    }
   ],
   "source": [
    "z_i_sorted = norm.ppf(p_i_sorted)\n",
    "plt.plot(z_i_sorted, Y, 'r.')\n",
    "plt.show()"
   ]
  },
  {
   "cell_type": "markdown",
   "metadata": {
    "id": "oHc343UbNpiQ"
   },
   "source": [
    "HW: trovare come si aggiunge una interpolazione lineare e ottenere l'equazione relativa\n",
    "\n",
    "HW: fare per l'esponenziale la stessa cosa vista a lezione\n"
   ]
  },
  {
   "cell_type": "code",
   "execution_count": 71,
   "metadata": {
    "id": "WOhKYURgN1Ph"
   },
   "outputs": [],
   "source": [
    "import pandas as pd"
   ]
  },
  {
   "cell_type": "code",
   "execution_count": 72,
   "metadata": {
    "id": "NBri3sF_O-zv"
   },
   "outputs": [],
   "source": [
    "df = pd.read_excel(path, index_col=0)"
   ]
  },
  {
   "cell_type": "code",
   "execution_count": 73,
   "metadata": {
    "colab": {
     "base_uri": "https://localhost:8080/",
     "height": 614
    },
    "executionInfo": {
     "elapsed": 278,
     "status": "ok",
     "timestamp": 1708528744612,
     "user": {
      "displayName": "Francesco Morandin",
      "userId": "10258364529162349636"
     },
     "user_tz": -60
    },
    "id": "B9a35ni1PKHP",
    "outputId": "653ccaaf-058a-4abb-f863-5969b5e742e9"
   },
   "outputs": [
    {
     "data": {
      "text/html": [
       "<div>\n",
       "<style scoped>\n",
       "    .dataframe tbody tr th:only-of-type {\n",
       "        vertical-align: middle;\n",
       "    }\n",
       "\n",
       "    .dataframe tbody tr th {\n",
       "        vertical-align: top;\n",
       "    }\n",
       "\n",
       "    .dataframe thead th {\n",
       "        text-align: right;\n",
       "    }\n",
       "</style>\n",
       "<table border=\"1\" class=\"dataframe\">\n",
       "  <thead>\n",
       "    <tr style=\"text-align: right;\">\n",
       "      <th></th>\n",
       "      <th>Biacromial diameter (see Fig. 2)</th>\n",
       "      <th>Biiliac diameter, or \"pelvic breadth\" (see Fig. 2)</th>\n",
       "      <th>Bitrochanteric diameter (see Fig. 2)</th>\n",
       "      <th>Chest depth between spine and sternum at nipple level,</th>\n",
       "      <th>Chest diameter at nipple level, mid-expiration</th>\n",
       "      <th>Elbow diameter, sum of two elbows</th>\n",
       "      <th>Wrist diameter, sum of two wrists</th>\n",
       "      <th>Knee diameter, sum of two knees</th>\n",
       "      <th>Ankle diameter, sum of two ankles</th>\n",
       "      <th>Shoulder girth over deltoid muscles</th>\n",
       "      <th>...</th>\n",
       "      <th>Bicep girth, flexed, average of right and left girths</th>\n",
       "      <th>Forearm girth, extended, palm up, average of right and</th>\n",
       "      <th>Knee girth over patella, slightly flexed position, average</th>\n",
       "      <th>Calf maximum girth, average of right and left girths</th>\n",
       "      <th>Ankle minimum girth, average of right and left girths</th>\n",
       "      <th>Wrist minimum girth, average of right and left girths</th>\n",
       "      <th>Age (years)</th>\n",
       "      <th>Weight (kg)</th>\n",
       "      <th>Height (cm)</th>\n",
       "      <th>Gender (1 - male, 0 - female)</th>\n",
       "    </tr>\n",
       "    <tr>\n",
       "      <th>Id</th>\n",
       "      <th></th>\n",
       "      <th></th>\n",
       "      <th></th>\n",
       "      <th></th>\n",
       "      <th></th>\n",
       "      <th></th>\n",
       "      <th></th>\n",
       "      <th></th>\n",
       "      <th></th>\n",
       "      <th></th>\n",
       "      <th></th>\n",
       "      <th></th>\n",
       "      <th></th>\n",
       "      <th></th>\n",
       "      <th></th>\n",
       "      <th></th>\n",
       "      <th></th>\n",
       "      <th></th>\n",
       "      <th></th>\n",
       "      <th></th>\n",
       "      <th></th>\n",
       "    </tr>\n",
       "  </thead>\n",
       "  <tbody>\n",
       "    <tr>\n",
       "      <th>1</th>\n",
       "      <td>42.9</td>\n",
       "      <td>26.0</td>\n",
       "      <td>31.5</td>\n",
       "      <td>17.7</td>\n",
       "      <td>28.0</td>\n",
       "      <td>13.1</td>\n",
       "      <td>10.4</td>\n",
       "      <td>18.8</td>\n",
       "      <td>14.1</td>\n",
       "      <td>106.2</td>\n",
       "      <td>...</td>\n",
       "      <td>32.5</td>\n",
       "      <td>26.0</td>\n",
       "      <td>34.5</td>\n",
       "      <td>36.5</td>\n",
       "      <td>23.5</td>\n",
       "      <td>16.5</td>\n",
       "      <td>21</td>\n",
       "      <td>65.6</td>\n",
       "      <td>174.0</td>\n",
       "      <td>1</td>\n",
       "    </tr>\n",
       "    <tr>\n",
       "      <th>2</th>\n",
       "      <td>43.7</td>\n",
       "      <td>28.5</td>\n",
       "      <td>33.5</td>\n",
       "      <td>16.9</td>\n",
       "      <td>30.8</td>\n",
       "      <td>14.0</td>\n",
       "      <td>11.8</td>\n",
       "      <td>20.6</td>\n",
       "      <td>15.1</td>\n",
       "      <td>110.5</td>\n",
       "      <td>...</td>\n",
       "      <td>34.4</td>\n",
       "      <td>28.0</td>\n",
       "      <td>36.5</td>\n",
       "      <td>37.5</td>\n",
       "      <td>24.5</td>\n",
       "      <td>17.0</td>\n",
       "      <td>23</td>\n",
       "      <td>71.8</td>\n",
       "      <td>175.3</td>\n",
       "      <td>1</td>\n",
       "    </tr>\n",
       "    <tr>\n",
       "      <th>3</th>\n",
       "      <td>40.1</td>\n",
       "      <td>28.2</td>\n",
       "      <td>33.3</td>\n",
       "      <td>20.9</td>\n",
       "      <td>31.7</td>\n",
       "      <td>13.9</td>\n",
       "      <td>10.9</td>\n",
       "      <td>19.7</td>\n",
       "      <td>14.1</td>\n",
       "      <td>115.1</td>\n",
       "      <td>...</td>\n",
       "      <td>33.4</td>\n",
       "      <td>28.8</td>\n",
       "      <td>37.0</td>\n",
       "      <td>37.3</td>\n",
       "      <td>21.9</td>\n",
       "      <td>16.9</td>\n",
       "      <td>28</td>\n",
       "      <td>80.7</td>\n",
       "      <td>193.5</td>\n",
       "      <td>1</td>\n",
       "    </tr>\n",
       "    <tr>\n",
       "      <th>4</th>\n",
       "      <td>44.3</td>\n",
       "      <td>29.9</td>\n",
       "      <td>34.0</td>\n",
       "      <td>18.4</td>\n",
       "      <td>28.2</td>\n",
       "      <td>13.9</td>\n",
       "      <td>11.2</td>\n",
       "      <td>20.9</td>\n",
       "      <td>15.0</td>\n",
       "      <td>104.5</td>\n",
       "      <td>...</td>\n",
       "      <td>31.0</td>\n",
       "      <td>26.2</td>\n",
       "      <td>37.0</td>\n",
       "      <td>34.8</td>\n",
       "      <td>23.0</td>\n",
       "      <td>16.6</td>\n",
       "      <td>23</td>\n",
       "      <td>72.6</td>\n",
       "      <td>186.5</td>\n",
       "      <td>1</td>\n",
       "    </tr>\n",
       "    <tr>\n",
       "      <th>5</th>\n",
       "      <td>42.5</td>\n",
       "      <td>29.9</td>\n",
       "      <td>34.0</td>\n",
       "      <td>21.5</td>\n",
       "      <td>29.4</td>\n",
       "      <td>15.2</td>\n",
       "      <td>11.6</td>\n",
       "      <td>20.7</td>\n",
       "      <td>14.9</td>\n",
       "      <td>107.5</td>\n",
       "      <td>...</td>\n",
       "      <td>32.0</td>\n",
       "      <td>28.4</td>\n",
       "      <td>37.7</td>\n",
       "      <td>38.6</td>\n",
       "      <td>24.4</td>\n",
       "      <td>18.0</td>\n",
       "      <td>22</td>\n",
       "      <td>78.8</td>\n",
       "      <td>187.2</td>\n",
       "      <td>1</td>\n",
       "    </tr>\n",
       "    <tr>\n",
       "      <th>...</th>\n",
       "      <td>...</td>\n",
       "      <td>...</td>\n",
       "      <td>...</td>\n",
       "      <td>...</td>\n",
       "      <td>...</td>\n",
       "      <td>...</td>\n",
       "      <td>...</td>\n",
       "      <td>...</td>\n",
       "      <td>...</td>\n",
       "      <td>...</td>\n",
       "      <td>...</td>\n",
       "      <td>...</td>\n",
       "      <td>...</td>\n",
       "      <td>...</td>\n",
       "      <td>...</td>\n",
       "      <td>...</td>\n",
       "      <td>...</td>\n",
       "      <td>...</td>\n",
       "      <td>...</td>\n",
       "      <td>...</td>\n",
       "      <td>...</td>\n",
       "    </tr>\n",
       "    <tr>\n",
       "      <th>503</th>\n",
       "      <td>38.0</td>\n",
       "      <td>30.4</td>\n",
       "      <td>32.9</td>\n",
       "      <td>17.0</td>\n",
       "      <td>27.1</td>\n",
       "      <td>12.9</td>\n",
       "      <td>10.4</td>\n",
       "      <td>19.5</td>\n",
       "      <td>14.4</td>\n",
       "      <td>108.4</td>\n",
       "      <td>...</td>\n",
       "      <td>30.3</td>\n",
       "      <td>25.4</td>\n",
       "      <td>37.7</td>\n",
       "      <td>37.9</td>\n",
       "      <td>22.4</td>\n",
       "      <td>15.4</td>\n",
       "      <td>29</td>\n",
       "      <td>71.8</td>\n",
       "      <td>176.5</td>\n",
       "      <td>0</td>\n",
       "    </tr>\n",
       "    <tr>\n",
       "      <th>504</th>\n",
       "      <td>35.3</td>\n",
       "      <td>28.7</td>\n",
       "      <td>30.4</td>\n",
       "      <td>17.7</td>\n",
       "      <td>25.6</td>\n",
       "      <td>12.4</td>\n",
       "      <td>9.8</td>\n",
       "      <td>17.3</td>\n",
       "      <td>13.6</td>\n",
       "      <td>99.3</td>\n",
       "      <td>...</td>\n",
       "      <td>30.1</td>\n",
       "      <td>23.6</td>\n",
       "      <td>35.6</td>\n",
       "      <td>33.3</td>\n",
       "      <td>22.4</td>\n",
       "      <td>15.2</td>\n",
       "      <td>21</td>\n",
       "      <td>55.5</td>\n",
       "      <td>164.4</td>\n",
       "      <td>0</td>\n",
       "    </tr>\n",
       "    <tr>\n",
       "      <th>505</th>\n",
       "      <td>34.7</td>\n",
       "      <td>24.9</td>\n",
       "      <td>24.7</td>\n",
       "      <td>17.3</td>\n",
       "      <td>24.2</td>\n",
       "      <td>12.0</td>\n",
       "      <td>10.2</td>\n",
       "      <td>18.0</td>\n",
       "      <td>13.6</td>\n",
       "      <td>91.9</td>\n",
       "      <td>...</td>\n",
       "      <td>27.4</td>\n",
       "      <td>24.0</td>\n",
       "      <td>34.4</td>\n",
       "      <td>34.1</td>\n",
       "      <td>21.2</td>\n",
       "      <td>15.5</td>\n",
       "      <td>33</td>\n",
       "      <td>48.6</td>\n",
       "      <td>160.7</td>\n",
       "      <td>0</td>\n",
       "    </tr>\n",
       "    <tr>\n",
       "      <th>506</th>\n",
       "      <td>38.5</td>\n",
       "      <td>29.0</td>\n",
       "      <td>32.9</td>\n",
       "      <td>15.3</td>\n",
       "      <td>25.6</td>\n",
       "      <td>12.0</td>\n",
       "      <td>9.8</td>\n",
       "      <td>18.6</td>\n",
       "      <td>13.3</td>\n",
       "      <td>107.1</td>\n",
       "      <td>...</td>\n",
       "      <td>30.6</td>\n",
       "      <td>24.9</td>\n",
       "      <td>38.4</td>\n",
       "      <td>36.6</td>\n",
       "      <td>22.0</td>\n",
       "      <td>15.5</td>\n",
       "      <td>33</td>\n",
       "      <td>66.4</td>\n",
       "      <td>174.0</td>\n",
       "      <td>0</td>\n",
       "    </tr>\n",
       "    <tr>\n",
       "      <th>507</th>\n",
       "      <td>35.6</td>\n",
       "      <td>29.0</td>\n",
       "      <td>29.0</td>\n",
       "      <td>20.4</td>\n",
       "      <td>26.8</td>\n",
       "      <td>13.4</td>\n",
       "      <td>10.8</td>\n",
       "      <td>18.7</td>\n",
       "      <td>13.8</td>\n",
       "      <td>100.5</td>\n",
       "      <td>...</td>\n",
       "      <td>33.2</td>\n",
       "      <td>25.5</td>\n",
       "      <td>39.6</td>\n",
       "      <td>35.9</td>\n",
       "      <td>23.0</td>\n",
       "      <td>16.4</td>\n",
       "      <td>38</td>\n",
       "      <td>67.3</td>\n",
       "      <td>163.8</td>\n",
       "      <td>0</td>\n",
       "    </tr>\n",
       "  </tbody>\n",
       "</table>\n",
       "<p>507 rows × 25 columns</p>\n",
       "</div>"
      ],
      "text/plain": [
       "     Biacromial diameter (see Fig. 2)  \\\n",
       "Id                                      \n",
       "1                                42.9   \n",
       "2                                43.7   \n",
       "3                                40.1   \n",
       "4                                44.3   \n",
       "5                                42.5   \n",
       "..                                ...   \n",
       "503                              38.0   \n",
       "504                              35.3   \n",
       "505                              34.7   \n",
       "506                              38.5   \n",
       "507                              35.6   \n",
       "\n",
       "     Biiliac diameter, or \"pelvic breadth\" (see Fig. 2)  \\\n",
       "Id                                                        \n",
       "1                                                 26.0    \n",
       "2                                                 28.5    \n",
       "3                                                 28.2    \n",
       "4                                                 29.9    \n",
       "5                                                 29.9    \n",
       "..                                                 ...    \n",
       "503                                               30.4    \n",
       "504                                               28.7    \n",
       "505                                               24.9    \n",
       "506                                               29.0    \n",
       "507                                               29.0    \n",
       "\n",
       "     Bitrochanteric diameter (see Fig. 2)  \\\n",
       "Id                                          \n",
       "1                                    31.5   \n",
       "2                                    33.5   \n",
       "3                                    33.3   \n",
       "4                                    34.0   \n",
       "5                                    34.0   \n",
       "..                                    ...   \n",
       "503                                  32.9   \n",
       "504                                  30.4   \n",
       "505                                  24.7   \n",
       "506                                  32.9   \n",
       "507                                  29.0   \n",
       "\n",
       "     Chest depth between spine and sternum at nipple level,  \\\n",
       "Id                                                            \n",
       "1                                                 17.7        \n",
       "2                                                 16.9        \n",
       "3                                                 20.9        \n",
       "4                                                 18.4        \n",
       "5                                                 21.5        \n",
       "..                                                 ...        \n",
       "503                                               17.0        \n",
       "504                                               17.7        \n",
       "505                                               17.3        \n",
       "506                                               15.3        \n",
       "507                                               20.4        \n",
       "\n",
       "     Chest diameter at nipple level, mid-expiration  \\\n",
       "Id                                                    \n",
       "1                                              28.0   \n",
       "2                                              30.8   \n",
       "3                                              31.7   \n",
       "4                                              28.2   \n",
       "5                                              29.4   \n",
       "..                                              ...   \n",
       "503                                            27.1   \n",
       "504                                            25.6   \n",
       "505                                            24.2   \n",
       "506                                            25.6   \n",
       "507                                            26.8   \n",
       "\n",
       "     Elbow diameter, sum of two elbows  Wrist diameter, sum of two wrists  \\\n",
       "Id                                                                          \n",
       "1                                 13.1                               10.4   \n",
       "2                                 14.0                               11.8   \n",
       "3                                 13.9                               10.9   \n",
       "4                                 13.9                               11.2   \n",
       "5                                 15.2                               11.6   \n",
       "..                                 ...                                ...   \n",
       "503                               12.9                               10.4   \n",
       "504                               12.4                                9.8   \n",
       "505                               12.0                               10.2   \n",
       "506                               12.0                                9.8   \n",
       "507                               13.4                               10.8   \n",
       "\n",
       "     Knee diameter, sum of two knees  Ankle diameter, sum of two ankles  \\\n",
       "Id                                                                        \n",
       "1                               18.8                               14.1   \n",
       "2                               20.6                               15.1   \n",
       "3                               19.7                               14.1   \n",
       "4                               20.9                               15.0   \n",
       "5                               20.7                               14.9   \n",
       "..                               ...                                ...   \n",
       "503                             19.5                               14.4   \n",
       "504                             17.3                               13.6   \n",
       "505                             18.0                               13.6   \n",
       "506                             18.6                               13.3   \n",
       "507                             18.7                               13.8   \n",
       "\n",
       "     Shoulder girth over deltoid muscles  ...  \\\n",
       "Id                                        ...   \n",
       "1                                  106.2  ...   \n",
       "2                                  110.5  ...   \n",
       "3                                  115.1  ...   \n",
       "4                                  104.5  ...   \n",
       "5                                  107.5  ...   \n",
       "..                                   ...  ...   \n",
       "503                                108.4  ...   \n",
       "504                                 99.3  ...   \n",
       "505                                 91.9  ...   \n",
       "506                                107.1  ...   \n",
       "507                                100.5  ...   \n",
       "\n",
       "     Bicep girth, flexed, average of right and left girths  \\\n",
       "Id                                                           \n",
       "1                                                 32.5       \n",
       "2                                                 34.4       \n",
       "3                                                 33.4       \n",
       "4                                                 31.0       \n",
       "5                                                 32.0       \n",
       "..                                                 ...       \n",
       "503                                               30.3       \n",
       "504                                               30.1       \n",
       "505                                               27.4       \n",
       "506                                               30.6       \n",
       "507                                               33.2       \n",
       "\n",
       "     Forearm girth, extended, palm up, average of right and  \\\n",
       "Id                                                            \n",
       "1                                                 26.0        \n",
       "2                                                 28.0        \n",
       "3                                                 28.8        \n",
       "4                                                 26.2        \n",
       "5                                                 28.4        \n",
       "..                                                 ...        \n",
       "503                                               25.4        \n",
       "504                                               23.6        \n",
       "505                                               24.0        \n",
       "506                                               24.9        \n",
       "507                                               25.5        \n",
       "\n",
       "     Knee girth over patella, slightly flexed position, average  \\\n",
       "Id                                                                \n",
       "1                                                 34.5            \n",
       "2                                                 36.5            \n",
       "3                                                 37.0            \n",
       "4                                                 37.0            \n",
       "5                                                 37.7            \n",
       "..                                                 ...            \n",
       "503                                               37.7            \n",
       "504                                               35.6            \n",
       "505                                               34.4            \n",
       "506                                               38.4            \n",
       "507                                               39.6            \n",
       "\n",
       "     Calf maximum girth, average of right and left girths  \\\n",
       "Id                                                          \n",
       "1                                                 36.5      \n",
       "2                                                 37.5      \n",
       "3                                                 37.3      \n",
       "4                                                 34.8      \n",
       "5                                                 38.6      \n",
       "..                                                 ...      \n",
       "503                                               37.9      \n",
       "504                                               33.3      \n",
       "505                                               34.1      \n",
       "506                                               36.6      \n",
       "507                                               35.9      \n",
       "\n",
       "     Ankle minimum girth, average of right and left girths  \\\n",
       "Id                                                           \n",
       "1                                                 23.5       \n",
       "2                                                 24.5       \n",
       "3                                                 21.9       \n",
       "4                                                 23.0       \n",
       "5                                                 24.4       \n",
       "..                                                 ...       \n",
       "503                                               22.4       \n",
       "504                                               22.4       \n",
       "505                                               21.2       \n",
       "506                                               22.0       \n",
       "507                                               23.0       \n",
       "\n",
       "     Wrist minimum girth, average of right and left girths  Age (years)  \\\n",
       "Id                                                                        \n",
       "1                                                 16.5               21   \n",
       "2                                                 17.0               23   \n",
       "3                                                 16.9               28   \n",
       "4                                                 16.6               23   \n",
       "5                                                 18.0               22   \n",
       "..                                                 ...              ...   \n",
       "503                                               15.4               29   \n",
       "504                                               15.2               21   \n",
       "505                                               15.5               33   \n",
       "506                                               15.5               33   \n",
       "507                                               16.4               38   \n",
       "\n",
       "     Weight (kg)  Height (cm)  Gender (1 - male, 0 - female)  \n",
       "Id                                                            \n",
       "1           65.6        174.0                              1  \n",
       "2           71.8        175.3                              1  \n",
       "3           80.7        193.5                              1  \n",
       "4           72.6        186.5                              1  \n",
       "5           78.8        187.2                              1  \n",
       "..           ...          ...                            ...  \n",
       "503         71.8        176.5                              0  \n",
       "504         55.5        164.4                              0  \n",
       "505         48.6        160.7                              0  \n",
       "506         66.4        174.0                              0  \n",
       "507         67.3        163.8                              0  \n",
       "\n",
       "[507 rows x 25 columns]"
      ]
     },
     "execution_count": 73,
     "metadata": {},
     "output_type": "execute_result"
    }
   ],
   "source": [
    "df"
   ]
  },
  {
   "cell_type": "code",
   "execution_count": 74,
   "metadata": {
    "colab": {
     "base_uri": "https://localhost:8080/",
     "height": 448
    },
    "executionInfo": {
     "elapsed": 1130,
     "status": "ok",
     "timestamp": 1708528869401,
     "user": {
      "displayName": "Francesco Morandin",
      "userId": "10258364529162349636"
     },
     "user_tz": -60
    },
    "id": "lSuRI704QG7Q",
    "outputId": "1db3195e-ca4d-4cff-b3cb-2699deb3377b"
   },
   "outputs": [
    {
     "data": {
      "text/plain": [
       "[<matplotlib.lines.Line2D at 0x7216871509d0>]"
      ]
     },
     "execution_count": 74,
     "metadata": {},
     "output_type": "execute_result"
    },
    {
     "data": {
      "image/png": "[encoded data removed]",
      "text/plain": [
       "<Figure size 640x480 with 1 Axes>"
      ]
     },
     "metadata": {},
     "output_type": "display_data"
    }
   ],
   "source": [
    "plt.plot(df['Weight (kg)'], df['Height (cm)'], '.')"
   ]
  }
 ],
 "metadata": {
  "colab": {
   "authorship_tag": "ABX9TyNd0Fw514Z2zr6XCNid8t3d",
   "provenance": [
    {
     "file_id": "1EdV66rEq0UDetKO8rPZR1UVbM6h8r5GP",
     "timestamp": 1739952105178
    }
   ]
  },
  "kernelspec": {
   "display_name": "Python 3 (ipykernel)",
   "language": "python",
   "name": "python3"
  },
  "language_info": {
   "codemirror_mode": {
    "name": "ipython",
    "version": 3
   },
   "file_extension": ".py",
   "mimetype": "text/x-python",
   "name": "python",
   "nbconvert_exporter": "python",
   "pygments_lexer": "ipython3",
   "version": "3.11.6"
  }
 },
 "nbformat": 4,
 "nbformat_minor": 0
}
